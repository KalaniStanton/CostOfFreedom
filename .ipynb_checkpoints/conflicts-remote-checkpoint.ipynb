{
 "cells": [
  {
   "cell_type": "markdown",
   "metadata": {},
   "source": [
    "## Imports"
   ]
  },
  {
   "cell_type": "code",
   "execution_count": 12,
   "metadata": {},
   "outputs": [
    {
     "data": {
      "text/html": [
       "        <script type=\"text/javascript\">\n",
       "        window.PlotlyConfig = {MathJaxConfig: 'local'};\n",
       "        if (window.MathJax) {MathJax.Hub.Config({SVG: {font: \"STIX-Web\"}});}\n",
       "        if (typeof require !== 'undefined') {\n",
       "        require.undef(\"plotly\");\n",
       "        requirejs.config({\n",
       "            paths: {\n",
       "                'plotly': ['https://cdn.plot.ly/plotly-latest.min']\n",
       "            }\n",
       "        });\n",
       "        require(['plotly'], function(Plotly) {\n",
       "            window._Plotly = Plotly;\n",
       "        });\n",
       "        }\n",
       "        </script>\n",
       "        "
      ]
     },
     "metadata": {},
     "output_type": "display_data"
    }
   ],
   "source": [
    "from plotly.offline import download_plotlyjs, init_notebook_mode, plot, iplot\n",
    "init_notebook_mode(connected=True)"
   ]
  },
  {
   "cell_type": "code",
   "execution_count": 13,
   "metadata": {},
   "outputs": [],
   "source": [
    "from pymongo import MongoClient\n",
    "import numpy as np\n",
    "import pandas as pd\n",
    "import matplotlib.pyplot as plt\n",
    "import seaborn as sns\n",
    "import plotly.express as px\n",
    "import plotly.graph_objects as go\n",
    "import string"
   ]
  },
  {
   "cell_type": "code",
   "execution_count": 14,
   "metadata": {},
   "outputs": [],
   "source": [
    "from sshtunnel import SSHTunnelForwarder\n",
    "from getpass import getpass"
   ]
  },
  {
   "cell_type": "markdown",
   "metadata": {},
   "source": [
    "## Connnection"
   ]
  },
  {
   "cell_type": "code",
   "execution_count": 15,
   "metadata": {},
   "outputs": [
    {
     "name": "stdout",
     "output_type": "stream",
     "text": [
      "Enter your username: akutlay\n",
      "Enter your password: ········\n"
     ]
    }
   ],
   "source": [
    "MONGO_HOST = \"flask01\"\n",
    "MONGO_DB = \"hfmil\"\n",
    "MONGO_USER = input(\"Enter your username: \")\n",
    "MONGO_PASS = getpass(\"Enter your password: \")"
   ]
  },
  {
   "cell_type": "code",
   "execution_count": 16,
   "metadata": {},
   "outputs": [],
   "source": [
    "server = SSHTunnelForwarder(\n",
    "    MONGO_HOST,\n",
    "    ssh_username=MONGO_USER,\n",
    "    ssh_password=MONGO_PASS,\n",
    "    remote_bind_address=('127.0.0.1', 27017)\n",
    ")"
   ]
  },
  {
   "cell_type": "code",
   "execution_count": 17,
   "metadata": {},
   "outputs": [
    {
     "name": "stderr",
     "output_type": "stream",
     "text": [
      "2020-11-22 15:14:09,756| ERROR   | Unknown exception: X962\n",
      "2020-11-22 15:14:09,757| ERROR   | Traceback (most recent call last):\n",
      "2020-11-22 15:14:09,758| ERROR   |   File \"/Users/kutlay/anaconda3/lib/python3.6/site-packages/paramiko/transport.py\", line 2083, in run\n",
      "2020-11-22 15:14:09,758| ERROR   |     self._handler_table[ptype](self, m)\n",
      "2020-11-22 15:14:09,759| ERROR   |   File \"/Users/kutlay/anaconda3/lib/python3.6/site-packages/paramiko/transport.py\", line 2199, in _negotiate_keys\n",
      "2020-11-22 15:14:09,759| ERROR   |     self.kex_engine.start_kex()\n",
      "2020-11-22 15:14:09,760| ERROR   |   File \"/Users/kutlay/anaconda3/lib/python3.6/site-packages/paramiko/kex_ecdh_nist.py\", line 42, in start_kex\n",
      "2020-11-22 15:14:09,760| ERROR   |     serialization.Encoding.X962,\n",
      "2020-11-22 15:14:09,761| ERROR   |   File \"/Users/kutlay/anaconda3/lib/python3.6/enum.py\", line 324, in __getattr__\n",
      "2020-11-22 15:14:09,761| ERROR   |     raise AttributeError(name) from None\n",
      "2020-11-22 15:14:09,762| ERROR   | AttributeError: X962\n",
      "2020-11-22 15:14:09,762| ERROR   | \n"
     ]
    },
    {
     "ename": "AttributeError",
     "evalue": "X962",
     "output_type": "error",
     "traceback": [
      "\u001b[0;31m---------------------------------------------------------------------------\u001b[0m",
      "\u001b[0;31mAttributeError\u001b[0m                            Traceback (most recent call last)",
      "\u001b[0;32m<ipython-input-17-508ab784f514>\u001b[0m in \u001b[0;36m<module>\u001b[0;34m()\u001b[0m\n\u001b[0;32m----> 1\u001b[0;31m \u001b[0mserver\u001b[0m\u001b[0;34m.\u001b[0m\u001b[0mstart\u001b[0m\u001b[0;34m(\u001b[0m\u001b[0;34m)\u001b[0m\u001b[0;34m\u001b[0m\u001b[0m\n\u001b[0m",
      "\u001b[0;32m~/anaconda3/lib/python3.6/site-packages/sshtunnel.py\u001b[0m in \u001b[0;36mstart\u001b[0;34m(self)\u001b[0m\n\u001b[1;32m   1319\u001b[0m             \u001b[0mself\u001b[0m\u001b[0;34m.\u001b[0m\u001b[0mlogger\u001b[0m\u001b[0;34m.\u001b[0m\u001b[0mwarning\u001b[0m\u001b[0;34m(\u001b[0m\u001b[0;34m'Already started!'\u001b[0m\u001b[0;34m)\u001b[0m\u001b[0;34m\u001b[0m\u001b[0m\n\u001b[1;32m   1320\u001b[0m             \u001b[0;32mreturn\u001b[0m\u001b[0;34m\u001b[0m\u001b[0m\n\u001b[0;32m-> 1321\u001b[0;31m         \u001b[0mself\u001b[0m\u001b[0;34m.\u001b[0m\u001b[0m_create_tunnels\u001b[0m\u001b[0;34m(\u001b[0m\u001b[0;34m)\u001b[0m\u001b[0;34m\u001b[0m\u001b[0m\n\u001b[0m\u001b[1;32m   1322\u001b[0m         \u001b[0;32mif\u001b[0m \u001b[0;32mnot\u001b[0m \u001b[0mself\u001b[0m\u001b[0;34m.\u001b[0m\u001b[0mis_active\u001b[0m\u001b[0;34m:\u001b[0m\u001b[0;34m\u001b[0m\u001b[0m\n\u001b[1;32m   1323\u001b[0m             self._raise(BaseSSHTunnelForwarderError,\n",
      "\u001b[0;32m~/anaconda3/lib/python3.6/site-packages/sshtunnel.py\u001b[0m in \u001b[0;36m_create_tunnels\u001b[0;34m(self)\u001b[0m\n\u001b[1;32m   1203\u001b[0m         \u001b[0;32mif\u001b[0m \u001b[0;32mnot\u001b[0m \u001b[0mself\u001b[0m\u001b[0;34m.\u001b[0m\u001b[0mis_active\u001b[0m\u001b[0;34m:\u001b[0m\u001b[0;34m\u001b[0m\u001b[0m\n\u001b[1;32m   1204\u001b[0m             \u001b[0;32mtry\u001b[0m\u001b[0;34m:\u001b[0m\u001b[0;34m\u001b[0m\u001b[0m\n\u001b[0;32m-> 1205\u001b[0;31m                 \u001b[0mself\u001b[0m\u001b[0;34m.\u001b[0m\u001b[0m_connect_to_gateway\u001b[0m\u001b[0;34m(\u001b[0m\u001b[0;34m)\u001b[0m\u001b[0;34m\u001b[0m\u001b[0m\n\u001b[0m\u001b[1;32m   1206\u001b[0m             \u001b[0;32mexcept\u001b[0m \u001b[0msocket\u001b[0m\u001b[0;34m.\u001b[0m\u001b[0mgaierror\u001b[0m\u001b[0;34m:\u001b[0m  \u001b[0;31m# raised by paramiko.Transport\u001b[0m\u001b[0;34m\u001b[0m\u001b[0m\n\u001b[1;32m   1207\u001b[0m                 \u001b[0mmsg\u001b[0m \u001b[0;34m=\u001b[0m \u001b[0;34m'Could not resolve IP address for {0}, aborting!'\u001b[0m\u001b[0;31m \u001b[0m\u001b[0;31m\\\u001b[0m\u001b[0;34m\u001b[0m\u001b[0m\n",
      "\u001b[0;32m~/anaconda3/lib/python3.6/site-packages/sshtunnel.py\u001b[0m in \u001b[0;36m_connect_to_gateway\u001b[0;34m(self)\u001b[0m\n\u001b[1;32m   1410\u001b[0m                 self._transport.connect(hostkey=self.ssh_host_key,\n\u001b[1;32m   1411\u001b[0m                                         \u001b[0musername\u001b[0m\u001b[0;34m=\u001b[0m\u001b[0mself\u001b[0m\u001b[0;34m.\u001b[0m\u001b[0mssh_username\u001b[0m\u001b[0;34m,\u001b[0m\u001b[0;34m\u001b[0m\u001b[0m\n\u001b[0;32m-> 1412\u001b[0;31m                                         password=self.ssh_password)\n\u001b[0m\u001b[1;32m   1413\u001b[0m                 \u001b[0;32mif\u001b[0m \u001b[0mself\u001b[0m\u001b[0;34m.\u001b[0m\u001b[0m_transport\u001b[0m\u001b[0;34m.\u001b[0m\u001b[0mis_alive\u001b[0m\u001b[0;34m:\u001b[0m\u001b[0;34m\u001b[0m\u001b[0m\n\u001b[1;32m   1414\u001b[0m                     \u001b[0;32mreturn\u001b[0m\u001b[0;34m\u001b[0m\u001b[0m\n",
      "\u001b[0;32m~/anaconda3/lib/python3.6/site-packages/paramiko/transport.py\u001b[0m in \u001b[0;36mconnect\u001b[0;34m(self, hostkey, username, password, pkey, gss_host, gss_auth, gss_kex, gss_deleg_creds, gss_trust_dns)\u001b[0m\n\u001b[1;32m   1289\u001b[0m         )\n\u001b[1;32m   1290\u001b[0m \u001b[0;34m\u001b[0m\u001b[0m\n\u001b[0;32m-> 1291\u001b[0;31m         \u001b[0mself\u001b[0m\u001b[0;34m.\u001b[0m\u001b[0mstart_client\u001b[0m\u001b[0;34m(\u001b[0m\u001b[0;34m)\u001b[0m\u001b[0;34m\u001b[0m\u001b[0m\n\u001b[0m\u001b[1;32m   1292\u001b[0m \u001b[0;34m\u001b[0m\u001b[0m\n\u001b[1;32m   1293\u001b[0m         \u001b[0;31m# check host key if we were given one\u001b[0m\u001b[0;34m\u001b[0m\u001b[0;34m\u001b[0m\u001b[0m\n",
      "\u001b[0;32m~/anaconda3/lib/python3.6/site-packages/paramiko/transport.py\u001b[0m in \u001b[0;36mstart_client\u001b[0;34m(self, event, timeout)\u001b[0m\n\u001b[1;32m    658\u001b[0m                 \u001b[0me\u001b[0m \u001b[0;34m=\u001b[0m \u001b[0mself\u001b[0m\u001b[0;34m.\u001b[0m\u001b[0mget_exception\u001b[0m\u001b[0;34m(\u001b[0m\u001b[0;34m)\u001b[0m\u001b[0;34m\u001b[0m\u001b[0m\n\u001b[1;32m    659\u001b[0m                 \u001b[0;32mif\u001b[0m \u001b[0me\u001b[0m \u001b[0;32mis\u001b[0m \u001b[0;32mnot\u001b[0m \u001b[0;32mNone\u001b[0m\u001b[0;34m:\u001b[0m\u001b[0;34m\u001b[0m\u001b[0m\n\u001b[0;32m--> 660\u001b[0;31m                     \u001b[0;32mraise\u001b[0m \u001b[0me\u001b[0m\u001b[0;34m\u001b[0m\u001b[0m\n\u001b[0m\u001b[1;32m    661\u001b[0m                 \u001b[0;32mraise\u001b[0m \u001b[0mSSHException\u001b[0m\u001b[0;34m(\u001b[0m\u001b[0;34m\"Negotiation failed.\"\u001b[0m\u001b[0;34m)\u001b[0m\u001b[0;34m\u001b[0m\u001b[0m\n\u001b[1;32m    662\u001b[0m             if event.is_set() or (\n",
      "\u001b[0;32m~/anaconda3/lib/python3.6/site-packages/paramiko/transport.py\u001b[0m in \u001b[0;36mrun\u001b[0;34m(self)\u001b[0m\n\u001b[1;32m   2081\u001b[0m                             \u001b[0mself\u001b[0m\u001b[0;34m.\u001b[0m\u001b[0m_send_message\u001b[0m\u001b[0;34m(\u001b[0m\u001b[0merror_msg\u001b[0m\u001b[0;34m)\u001b[0m\u001b[0;34m\u001b[0m\u001b[0m\n\u001b[1;32m   2082\u001b[0m                         \u001b[0;32melse\u001b[0m\u001b[0;34m:\u001b[0m\u001b[0;34m\u001b[0m\u001b[0m\n\u001b[0;32m-> 2083\u001b[0;31m                             \u001b[0mself\u001b[0m\u001b[0;34m.\u001b[0m\u001b[0m_handler_table\u001b[0m\u001b[0;34m[\u001b[0m\u001b[0mptype\u001b[0m\u001b[0;34m]\u001b[0m\u001b[0;34m(\u001b[0m\u001b[0mself\u001b[0m\u001b[0;34m,\u001b[0m \u001b[0mm\u001b[0m\u001b[0;34m)\u001b[0m\u001b[0;34m\u001b[0m\u001b[0m\n\u001b[0m\u001b[1;32m   2084\u001b[0m                     \u001b[0;32melif\u001b[0m \u001b[0mptype\u001b[0m \u001b[0;32min\u001b[0m \u001b[0mself\u001b[0m\u001b[0;34m.\u001b[0m\u001b[0m_channel_handler_table\u001b[0m\u001b[0;34m:\u001b[0m\u001b[0;34m\u001b[0m\u001b[0m\n\u001b[1;32m   2085\u001b[0m                         \u001b[0mchanid\u001b[0m \u001b[0;34m=\u001b[0m \u001b[0mm\u001b[0m\u001b[0;34m.\u001b[0m\u001b[0mget_int\u001b[0m\u001b[0;34m(\u001b[0m\u001b[0;34m)\u001b[0m\u001b[0;34m\u001b[0m\u001b[0m\n",
      "\u001b[0;32m~/anaconda3/lib/python3.6/site-packages/paramiko/transport.py\u001b[0m in \u001b[0;36m_negotiate_keys\u001b[0;34m(self, m)\u001b[0m\n\u001b[1;32m   2197\u001b[0m             \u001b[0mself\u001b[0m\u001b[0;34m.\u001b[0m\u001b[0m_send_kex_init\u001b[0m\u001b[0;34m(\u001b[0m\u001b[0;34m)\u001b[0m\u001b[0;34m\u001b[0m\u001b[0m\n\u001b[1;32m   2198\u001b[0m         \u001b[0mself\u001b[0m\u001b[0;34m.\u001b[0m\u001b[0m_parse_kex_init\u001b[0m\u001b[0;34m(\u001b[0m\u001b[0mm\u001b[0m\u001b[0;34m)\u001b[0m\u001b[0;34m\u001b[0m\u001b[0m\n\u001b[0;32m-> 2199\u001b[0;31m         \u001b[0mself\u001b[0m\u001b[0;34m.\u001b[0m\u001b[0mkex_engine\u001b[0m\u001b[0;34m.\u001b[0m\u001b[0mstart_kex\u001b[0m\u001b[0;34m(\u001b[0m\u001b[0;34m)\u001b[0m\u001b[0;34m\u001b[0m\u001b[0m\n\u001b[0m\u001b[1;32m   2200\u001b[0m \u001b[0;34m\u001b[0m\u001b[0m\n\u001b[1;32m   2201\u001b[0m     \u001b[0;32mdef\u001b[0m \u001b[0m_check_banner\u001b[0m\u001b[0;34m(\u001b[0m\u001b[0mself\u001b[0m\u001b[0;34m)\u001b[0m\u001b[0;34m:\u001b[0m\u001b[0;34m\u001b[0m\u001b[0m\n",
      "\u001b[0;32m~/anaconda3/lib/python3.6/site-packages/paramiko/kex_ecdh_nist.py\u001b[0m in \u001b[0;36mstart_kex\u001b[0;34m(self)\u001b[0m\n\u001b[1;32m     40\u001b[0m         m.add_string(\n\u001b[1;32m     41\u001b[0m             self.Q_C.public_bytes(\n\u001b[0;32m---> 42\u001b[0;31m                 \u001b[0mserialization\u001b[0m\u001b[0;34m.\u001b[0m\u001b[0mEncoding\u001b[0m\u001b[0;34m.\u001b[0m\u001b[0mX962\u001b[0m\u001b[0;34m,\u001b[0m\u001b[0;34m\u001b[0m\u001b[0m\n\u001b[0m\u001b[1;32m     43\u001b[0m                 \u001b[0mserialization\u001b[0m\u001b[0;34m.\u001b[0m\u001b[0mPublicFormat\u001b[0m\u001b[0;34m.\u001b[0m\u001b[0mUncompressedPoint\u001b[0m\u001b[0;34m,\u001b[0m\u001b[0;34m\u001b[0m\u001b[0m\n\u001b[1;32m     44\u001b[0m             )\n",
      "\u001b[0;32m~/anaconda3/lib/python3.6/enum.py\u001b[0m in \u001b[0;36m__getattr__\u001b[0;34m(cls, name)\u001b[0m\n\u001b[1;32m    322\u001b[0m             \u001b[0;32mreturn\u001b[0m \u001b[0mcls\u001b[0m\u001b[0;34m.\u001b[0m\u001b[0m_member_map_\u001b[0m\u001b[0;34m[\u001b[0m\u001b[0mname\u001b[0m\u001b[0;34m]\u001b[0m\u001b[0;34m\u001b[0m\u001b[0m\n\u001b[1;32m    323\u001b[0m         \u001b[0;32mexcept\u001b[0m \u001b[0mKeyError\u001b[0m\u001b[0;34m:\u001b[0m\u001b[0;34m\u001b[0m\u001b[0m\n\u001b[0;32m--> 324\u001b[0;31m             \u001b[0;32mraise\u001b[0m \u001b[0mAttributeError\u001b[0m\u001b[0;34m(\u001b[0m\u001b[0mname\u001b[0m\u001b[0;34m)\u001b[0m \u001b[0;32mfrom\u001b[0m \u001b[0;32mNone\u001b[0m\u001b[0;34m\u001b[0m\u001b[0m\n\u001b[0m\u001b[1;32m    325\u001b[0m \u001b[0;34m\u001b[0m\u001b[0m\n\u001b[1;32m    326\u001b[0m     \u001b[0;32mdef\u001b[0m \u001b[0m__getitem__\u001b[0m\u001b[0;34m(\u001b[0m\u001b[0mcls\u001b[0m\u001b[0;34m,\u001b[0m \u001b[0mname\u001b[0m\u001b[0;34m)\u001b[0m\u001b[0;34m:\u001b[0m\u001b[0;34m\u001b[0m\u001b[0m\n",
      "\u001b[0;31mAttributeError\u001b[0m: X962"
     ]
    }
   ],
   "source": [
    "server.start()"
   ]
  },
  {
   "cell_type": "code",
   "execution_count": 11,
   "metadata": {},
   "outputs": [
    {
     "ename": "BaseSSHTunnelForwarderError",
     "evalue": "Server is not started. Please .start() first!",
     "output_type": "error",
     "traceback": [
      "\u001b[0;31m---------------------------------------------------------------------------\u001b[0m",
      "\u001b[0;31mBaseSSHTunnelForwarderError\u001b[0m               Traceback (most recent call last)",
      "\u001b[0;32m<ipython-input-11-65a775b65561>\u001b[0m in \u001b[0;36m<module>\u001b[0;34m()\u001b[0m\n\u001b[0;32m----> 1\u001b[0;31m \u001b[0mclient\u001b[0m \u001b[0;34m=\u001b[0m \u001b[0mMongoClient\u001b[0m\u001b[0;34m(\u001b[0m\u001b[0;34m'127.0.0.1'\u001b[0m\u001b[0;34m,\u001b[0m \u001b[0mserver\u001b[0m\u001b[0;34m.\u001b[0m\u001b[0mlocal_bind_port\u001b[0m\u001b[0;34m)\u001b[0m\u001b[0;34m\u001b[0m\u001b[0m\n\u001b[0m",
      "\u001b[0;32m~/anaconda3/lib/python3.6/site-packages/sshtunnel.py\u001b[0m in \u001b[0;36mlocal_bind_port\u001b[0;34m(self)\u001b[0m\n\u001b[1;32m   1472\u001b[0m     \u001b[0;32mdef\u001b[0m \u001b[0mlocal_bind_port\u001b[0m\u001b[0;34m(\u001b[0m\u001b[0mself\u001b[0m\u001b[0;34m)\u001b[0m\u001b[0;34m:\u001b[0m\u001b[0;34m\u001b[0m\u001b[0m\n\u001b[1;32m   1473\u001b[0m         \u001b[0;31m# BACKWARDS COMPATIBILITY\u001b[0m\u001b[0;34m\u001b[0m\u001b[0;34m\u001b[0m\u001b[0m\n\u001b[0;32m-> 1474\u001b[0;31m         \u001b[0mself\u001b[0m\u001b[0;34m.\u001b[0m\u001b[0m_check_is_started\u001b[0m\u001b[0;34m(\u001b[0m\u001b[0;34m)\u001b[0m\u001b[0;34m\u001b[0m\u001b[0m\n\u001b[0m\u001b[1;32m   1475\u001b[0m         \u001b[0;32mif\u001b[0m \u001b[0mlen\u001b[0m\u001b[0;34m(\u001b[0m\u001b[0mself\u001b[0m\u001b[0;34m.\u001b[0m\u001b[0m_server_list\u001b[0m\u001b[0;34m)\u001b[0m \u001b[0;34m!=\u001b[0m \u001b[0;36m1\u001b[0m\u001b[0;34m:\u001b[0m\u001b[0;34m\u001b[0m\u001b[0m\n\u001b[1;32m   1476\u001b[0m             raise BaseSSHTunnelForwarderError(\n",
      "\u001b[0;32m~/anaconda3/lib/python3.6/site-packages/sshtunnel.py\u001b[0m in \u001b[0;36m_check_is_started\u001b[0;34m(self)\u001b[0m\n\u001b[1;32m   1547\u001b[0m         \u001b[0;32mif\u001b[0m \u001b[0;32mnot\u001b[0m \u001b[0mself\u001b[0m\u001b[0;34m.\u001b[0m\u001b[0mis_active\u001b[0m\u001b[0;34m:\u001b[0m  \u001b[0;31m# underlying transport not alive\u001b[0m\u001b[0;34m\u001b[0m\u001b[0m\n\u001b[1;32m   1548\u001b[0m             \u001b[0mmsg\u001b[0m \u001b[0;34m=\u001b[0m \u001b[0;34m'Server is not started. Please .start() first!'\u001b[0m\u001b[0;34m\u001b[0m\u001b[0m\n\u001b[0;32m-> 1549\u001b[0;31m             \u001b[0;32mraise\u001b[0m \u001b[0mBaseSSHTunnelForwarderError\u001b[0m\u001b[0;34m(\u001b[0m\u001b[0mmsg\u001b[0m\u001b[0;34m)\u001b[0m\u001b[0;34m\u001b[0m\u001b[0m\n\u001b[0m\u001b[1;32m   1550\u001b[0m         \u001b[0;32mif\u001b[0m \u001b[0;32mnot\u001b[0m \u001b[0mself\u001b[0m\u001b[0;34m.\u001b[0m\u001b[0mis_alive\u001b[0m\u001b[0;34m:\u001b[0m\u001b[0;34m\u001b[0m\u001b[0m\n\u001b[1;32m   1551\u001b[0m             \u001b[0mmsg\u001b[0m \u001b[0;34m=\u001b[0m \u001b[0;34m'Tunnels are not started. Please .start() first!'\u001b[0m\u001b[0;34m\u001b[0m\u001b[0m\n",
      "\u001b[0;31mBaseSSHTunnelForwarderError\u001b[0m: Server is not started. Please .start() first!"
     ]
    }
   ],
   "source": [
    "client = MongoClient('127.0.0.1', server.local_bind_port)"
   ]
  },
  {
   "cell_type": "code",
   "execution_count": null,
   "metadata": {},
   "outputs": [],
   "source": [
    "db = client[MONGO_DB]"
   ]
  },
  {
   "cell_type": "code",
   "execution_count": null,
   "metadata": {},
   "outputs": [],
   "source": [
    "db.list_collection_names()"
   ]
  },
  {
   "cell_type": "markdown",
   "metadata": {},
   "source": [
    "## Conflict Data"
   ]
  },
  {
   "cell_type": "code",
   "execution_count": null,
   "metadata": {},
   "outputs": [],
   "source": [
    "cur = db.conflicts.find({},{'_id':0,'location':1,'side_a':1,'side_b':1,'year':1, 'start_date':1, 'ep_end_date':1, 'region':1})"
   ]
  },
  {
   "cell_type": "code",
   "execution_count": null,
   "metadata": {},
   "outputs": [],
   "source": [
    "df = pd.DataFrame()\n",
    "for i in range(cur.count()):\n",
    "    temp = cur.next()\n",
    "    df = df.append(temp, ignore_index=True)"
   ]
  },
  {
   "cell_type": "code",
   "execution_count": null,
   "metadata": {},
   "outputs": [],
   "source": [
    "df"
   ]
  },
  {
   "cell_type": "code",
   "execution_count": null,
   "metadata": {},
   "outputs": [],
   "source": [
    "# cleans the text to isolate country name\n",
    "def cleanSide(side):\n",
    "    nopunc = [c for c in side if c not in string.punctuation]\n",
    "    nopunc = ''.join(nopunc)\n",
    "    return [word for word in nopunc.split() if word.lower() not in ['government','of','the']]"
   ]
  },
  {
   "cell_type": "code",
   "execution_count": null,
   "metadata": {},
   "outputs": [],
   "source": [
    "df['side_a'] = df['side_a'].apply(cleanSide)"
   ]
  },
  {
   "cell_type": "code",
   "execution_count": null,
   "metadata": {},
   "outputs": [],
   "source": [
    "df['side_b'] = df['side_b'].apply(cleanSide)"
   ]
  },
  {
   "cell_type": "code",
   "execution_count": null,
   "metadata": {},
   "outputs": [],
   "source": [
    "df['location'] = df['location'].apply(cleanSide)"
   ]
  },
  {
   "cell_type": "code",
   "execution_count": null,
   "metadata": {},
   "outputs": [],
   "source": [
    "df.head()"
   ]
  },
  {
   "cell_type": "markdown",
   "metadata": {},
   "source": [
    "## Connecting Conflicts and HFI"
   ]
  },
  {
   "cell_type": "code",
   "execution_count": null,
   "metadata": {},
   "outputs": [],
   "source": [
    "cur = db.hfi19.find({},{'_id':0,'ISO_code':1,'countries':1,'hf_score':1, 'year':1})"
   ]
  },
  {
   "cell_type": "code",
   "execution_count": null,
   "metadata": {},
   "outputs": [],
   "source": [
    "hfDf = pd.DataFrame()\n",
    "for i in range(cur.count()):\n",
    "    temp = cur.next()\n",
    "    hfDf = hfDf.append(temp, ignore_index=True)"
   ]
  },
  {
   "cell_type": "code",
   "execution_count": null,
   "metadata": {},
   "outputs": [],
   "source": [
    "hfDf = hfDf.rename({'countries':'country'}, axis = 1)"
   ]
  },
  {
   "cell_type": "code",
   "execution_count": null,
   "metadata": {
    "scrolled": true
   },
   "outputs": [],
   "source": [
    "hfDf.head()"
   ]
  },
  {
   "cell_type": "markdown",
   "metadata": {},
   "source": [
    "## Query conflicts side A"
   ]
  },
  {
   "cell_type": "code",
   "execution_count": null,
   "metadata": {},
   "outputs": [],
   "source": [
    "def getConflicts(country):\n",
    "    cur = db.conflicts.find({'side_a': {'$regex': country, '$options': 'i'}},{'_id':0, 'conflict_id':1})\n",
    "    conflicts = set()\n",
    "    while True:\n",
    "        try:\n",
    "            temp = cur.next()\n",
    "            if len(temp) > 0:\n",
    "                conflicts.add(temp['conflict_id'])\n",
    "        except:\n",
    "            break\n",
    "    return list(conflicts)"
   ]
  },
  {
   "cell_type": "code",
   "execution_count": null,
   "metadata": {},
   "outputs": [],
   "source": [
    "def getNumConflicts(country):\n",
    "    cur = db.conflicts.find({'side_a': {'$regex': country, '$options': 'i'}},{'_id':0, 'conflict_id':1})\n",
    "    conflicts = set()\n",
    "    while True:\n",
    "        try:\n",
    "            temp = cur.next()\n",
    "            if len(temp) > 0:\n",
    "                conflicts.add(temp['conflict_id'])\n",
    "        except:\n",
    "            break\n",
    "    return len(list(conflicts))"
   ]
  },
  {
   "cell_type": "code",
   "execution_count": null,
   "metadata": {},
   "outputs": [],
   "source": [
    "def getNumOp(country):\n",
    "    cur = db.conflicts.find({'side_a': {'$regex': country, '$options': 'i'}},{'_id':0, 'conflict_id':1})\n",
    "    conflicts = []\n",
    "    while True:\n",
    "        try:\n",
    "            temp = cur.next()\n",
    "            if len(temp) > 0:\n",
    "                conflicts.append(temp['conflict_id'])\n",
    "        except:\n",
    "            break\n",
    "    return len(conflicts)"
   ]
  },
  {
   "cell_type": "code",
   "execution_count": null,
   "metadata": {},
   "outputs": [],
   "source": [
    "hfDf['num_conflicts_side_A'] = hfDf['country'].apply(getNumConflicts)"
   ]
  },
  {
   "cell_type": "code",
   "execution_count": null,
   "metadata": {},
   "outputs": [],
   "source": [
    "hfDf['conflicts_side_A'] = hfDf['country'].apply(getConflicts)"
   ]
  },
  {
   "cell_type": "code",
   "execution_count": null,
   "metadata": {},
   "outputs": [],
   "source": [
    "hfDf['num_ops_side_A'] = hfDf['country'].apply(getNumOp)"
   ]
  },
  {
   "cell_type": "code",
   "execution_count": null,
   "metadata": {
    "scrolled": true
   },
   "outputs": [],
   "source": [
    "hfDf.sort_values(by = \"num_conflicts_side_A\", ascending = False)"
   ]
  },
  {
   "cell_type": "markdown",
   "metadata": {},
   "source": [
    "## Conflicts per country side A\n",
    "(for countries with more than one conflict)"
   ]
  },
  {
   "cell_type": "code",
   "execution_count": null,
   "metadata": {
    "scrolled": false
   },
   "outputs": [],
   "source": [
    "plt.figure(figsize=(15,6))\n",
    "sns.barplot(data = hfDf[hfDf['num_conflicts_side_A'] > 0].sort_values('num_conflicts_side_A',ascending=False), \n",
    "            x = 'ISO_code', y = 'num_conflicts_side_A',\n",
    "           color = '#3eb077')\n",
    "plt.xticks(rotation = 90)\n",
    "plt.tick_params(axis='x', which='major', labelsize=10)\n",
    "plt.tight_layout(h_pad=2)\n",
    "plt.savefig('num_conflicts_side_A.png')"
   ]
  },
  {
   "cell_type": "markdown",
   "metadata": {},
   "source": [
    "## Operation per country side A\n",
    "(most conflicts are composed of more than one operation)"
   ]
  },
  {
   "cell_type": "code",
   "execution_count": null,
   "metadata": {
    "scrolled": true
   },
   "outputs": [],
   "source": [
    "plt.figure(figsize=(15,6))\n",
    "sns.barplot(data = hfDf[hfDf['num_ops_side_A'] > 0].sort_values('num_ops_side_A',ascending=False), \n",
    "            x = 'ISO_code', y = 'num_ops_side_A',\n",
    "           color = '#3eb077')\n",
    "plt.xticks(rotation = 90)\n",
    "plt.tick_params(axis='x', which='major', labelsize=10)\n",
    "plt.tight_layout(h_pad=2)\n",
    "plt.savefig('num_ops_side_A.png')"
   ]
  },
  {
   "cell_type": "markdown",
   "metadata": {},
   "source": [
    "## HF score vs. number of conflicts side A"
   ]
  },
  {
   "cell_type": "code",
   "execution_count": null,
   "metadata": {},
   "outputs": [],
   "source": [
    "d17 = hfDf[hfDf.year == 2017]\n",
    "plt.figure(figsize=(10,5))\n",
    "sns.scatterplot(data=d17, x = 'num_conflicts_side_A', y = 'hf_score', size='num_ops_side_A')"
   ]
  },
  {
   "cell_type": "markdown",
   "metadata": {},
   "source": [
    "## Operations per country choropleth\n",
    "(where country is side A)"
   ]
  },
  {
   "cell_type": "code",
   "execution_count": null,
   "metadata": {
    "scrolled": false
   },
   "outputs": [],
   "source": [
    "p = px.choropleth(data_frame=hfDf, locations='ISO_code', color= 'num_ops_side_A')\n",
    "p.show()"
   ]
  },
  {
   "cell_type": "markdown",
   "metadata": {},
   "source": [
    "## Query conflicts side B"
   ]
  },
  {
   "cell_type": "code",
   "execution_count": null,
   "metadata": {},
   "outputs": [],
   "source": [
    "def getConflicts(country):\n",
    "    cur = db.conflicts.find({'side_b': {'$regex': country, '$options': 'i'}},{'_id':0, 'conflict_id':1})\n",
    "    conflicts = set()\n",
    "    while True:\n",
    "        try:\n",
    "            temp = cur.next()\n",
    "            if len(temp) > 0:\n",
    "                conflicts.add(temp['conflict_id'])\n",
    "        except:\n",
    "            break\n",
    "    return list(conflicts)"
   ]
  },
  {
   "cell_type": "code",
   "execution_count": null,
   "metadata": {},
   "outputs": [],
   "source": [
    "def getNumConflicts(country):\n",
    "    cur = db.conflicts.find({'side_b': {'$regex': country, '$options': 'i'}},{'_id':0, 'conflict_id':1})\n",
    "    conflicts = set()\n",
    "    while True:\n",
    "        try:\n",
    "            temp = cur.next()\n",
    "            if len(temp) > 0:\n",
    "                conflicts.add(temp['conflict_id'])\n",
    "        except:\n",
    "            break\n",
    "    return len(list(conflicts))"
   ]
  },
  {
   "cell_type": "code",
   "execution_count": null,
   "metadata": {},
   "outputs": [],
   "source": [
    "def getNumOp(country):\n",
    "    cur = db.conflicts.find({'side_b': {'$regex': country, '$options': 'i'}},{'_id':0, 'conflict_id':1})\n",
    "    conflicts = []\n",
    "    while True:\n",
    "        try:\n",
    "            temp = cur.next()\n",
    "            if len(temp) > 0:\n",
    "                conflicts.append(temp['conflict_id'])\n",
    "        except:\n",
    "            break\n",
    "    return len(conflicts)"
   ]
  },
  {
   "cell_type": "code",
   "execution_count": null,
   "metadata": {},
   "outputs": [],
   "source": [
    "hfDf['num_conflicts_side_B'] = hfDf['country'].apply(getNumConflicts)"
   ]
  },
  {
   "cell_type": "code",
   "execution_count": null,
   "metadata": {},
   "outputs": [],
   "source": [
    "hfDf['conflicts_side_B'] = hfDf['country'].apply(getConflicts)"
   ]
  },
  {
   "cell_type": "code",
   "execution_count": null,
   "metadata": {},
   "outputs": [],
   "source": [
    "hfDf['num_ops_side_B'] = hfDf['country'].apply(getNumOp)"
   ]
  },
  {
   "cell_type": "code",
   "execution_count": null,
   "metadata": {
    "scrolled": true
   },
   "outputs": [],
   "source": [
    "hfDf.sort_values(by = \"num_conflicts_side_B\", ascending = False)"
   ]
  },
  {
   "cell_type": "markdown",
   "metadata": {},
   "source": [
    "## Conflicts per country side B\n",
    "(for countries with more than one conflict)"
   ]
  },
  {
   "cell_type": "code",
   "execution_count": null,
   "metadata": {
    "scrolled": false
   },
   "outputs": [],
   "source": [
    "plt.figure(figsize=(15,6))\n",
    "sns.barplot(data = hfDf[hfDf['num_conflicts_side_B'] > 0].sort_values('num_conflicts_side_B',ascending=False), \n",
    "            x = 'ISO_code', y = 'num_conflicts_side_B',\n",
    "           color = '#3eb077')\n",
    "plt.xticks(rotation = 90)\n",
    "plt.tick_params(axis='x', which='major', labelsize=10)\n",
    "plt.tight_layout(h_pad=2)\n",
    "plt.savefig('num_conflicts_side_B.png')"
   ]
  },
  {
   "cell_type": "markdown",
   "metadata": {},
   "source": [
    "## Operation per country side B\n",
    "(most conflicts are composed of more than one operation)"
   ]
  },
  {
   "cell_type": "code",
   "execution_count": null,
   "metadata": {
    "scrolled": false
   },
   "outputs": [],
   "source": [
    "plt.figure(figsize=(15,6))\n",
    "sns.barplot(data = hfDf[hfDf['num_ops_side_B'] > 0].sort_values('num_ops_side_B',ascending=False), \n",
    "            x = 'ISO_code', y = 'num_ops_side_B',\n",
    "           color = '#3eb077')\n",
    "plt.xticks(rotation = 90)\n",
    "plt.tick_params(axis='x', which='major', labelsize=10)\n",
    "plt.tight_layout(h_pad=2)\n",
    "plt.savefig('num_ops_side_B.png')"
   ]
  },
  {
   "cell_type": "markdown",
   "metadata": {},
   "source": [
    "## Adding military expenditure proportion"
   ]
  },
  {
   "cell_type": "code",
   "execution_count": null,
   "metadata": {},
   "outputs": [],
   "source": [
    "years = list(hfDf.year.unique())\n",
    "years"
   ]
  },
  {
   "cell_type": "code",
   "execution_count": null,
   "metadata": {},
   "outputs": [],
   "source": [
    "tempdf = pd.DataFrame()\n",
    "for year in years:\n",
    "    codes = hfDf.loc[hfDf['year']==year,'ISO_code']\n",
    "    for code in codes:\n",
    "        prop = db.exp_prop.find_one({'Code':code},{'_id':0, str(int(year)):1})\n",
    "        try:\n",
    "            prop = list(prop.values())[0]\n",
    "        except:\n",
    "            prop = None\n",
    "        tempdf = tempdf.append({'ISO_code':code, 'year':year,'prop_gdp':prop}, \n",
    "                               ignore_index=True)"
   ]
  },
  {
   "cell_type": "code",
   "execution_count": null,
   "metadata": {
    "scrolled": true
   },
   "outputs": [],
   "source": [
    "tempdf"
   ]
  },
  {
   "cell_type": "code",
   "execution_count": null,
   "metadata": {},
   "outputs": [],
   "source": [
    "hfDf = hfDf.merge(tempdf, on = ['ISO_code', 'year'])"
   ]
  },
  {
   "cell_type": "code",
   "execution_count": null,
   "metadata": {
    "scrolled": true
   },
   "outputs": [],
   "source": [
    "hfDf"
   ]
  },
  {
   "cell_type": "code",
   "execution_count": null,
   "metadata": {
    "scrolled": true
   },
   "outputs": [],
   "source": [
    "hfDf.describe()"
   ]
  },
  {
   "cell_type": "markdown",
   "metadata": {},
   "source": [
    "## HF score per year"
   ]
  },
  {
   "cell_type": "code",
   "execution_count": null,
   "metadata": {
    "scrolled": false
   },
   "outputs": [],
   "source": [
    "fig = go.Figure()\n",
    "\n",
    "years = [year for year in hfDf.year.unique()]\n",
    "\n",
    "for year in years:\n",
    "    fig.add_trace(\n",
    "        go.Choropleth(\n",
    "            z = hfDf.loc[hfDf['year']==year,'hf_score'],\n",
    "            locations = hfDf.loc[hfDf['year']==year,'ISO_code'],\n",
    "            zmax = 9.12,\n",
    "            zmin = 3.5))\n",
    "\n",
    "fig.data[9].visible = True\n",
    "\n",
    "\n",
    "steps = []\n",
    "for i in range(len(years)):\n",
    "    step = dict(\n",
    "        method=\"update\",\n",
    "        args=[{\"visible\": [False] * len(fig.data)},\n",
    "              {\"title\": \"HF scores for the year: \" + str(int(years[i]))}],\n",
    "        label = str(int(years[i]))\n",
    "    )\n",
    "    step[\"args\"][0][\"visible\"][i] = True\n",
    "    steps.append(step)\n",
    "    \n",
    "sliders = [dict(\n",
    "    active=10,\n",
    "    currentvalue={\"prefix\": \"Year: \"},\n",
    "    pad={\"t\": 50},\n",
    "    steps=steps\n",
    ")]\n",
    "\n",
    "fig.update_layout(\n",
    "    sliders=sliders\n",
    ")\n",
    "\n",
    "fig.show()"
   ]
  },
  {
   "cell_type": "markdown",
   "metadata": {},
   "source": [
    " ## Military Expenditure Per Year"
   ]
  },
  {
   "cell_type": "code",
   "execution_count": null,
   "metadata": {
    "scrolled": false
   },
   "outputs": [],
   "source": [
    "fig = go.Figure()\n",
    "\n",
    "years = [year for year in hfDf.year.unique()]\n",
    "\n",
    "for year in years:\n",
    "    fig.add_trace(\n",
    "        go.Choropleth(\n",
    "            z = hfDf.loc[hfDf['year']==year,'prop_gdp'],\n",
    "            locations = hfDf.loc[hfDf['year']==year,'ISO_code'],\n",
    "            zmax = 0.1,\n",
    "            zmin = 0))\n",
    "\n",
    "fig.data[9].visible = True\n",
    "\n",
    "\n",
    "steps = []\n",
    "for i in range(len(years)):\n",
    "    step = dict(\n",
    "        method=\"update\",\n",
    "        args=[{\"visible\": [False] * len(fig.data)},\n",
    "              {\"title\": \"Military expenditure as proportion of gdp for the year: \" + str(int(years[i]))}],\n",
    "        label = str(int(years[i]))\n",
    "    )\n",
    "    step[\"args\"][0][\"visible\"][i] = True\n",
    "    steps.append(step)\n",
    "    \n",
    "sliders = [dict(\n",
    "    active=10,\n",
    "    currentvalue={\"prefix\": \"Year: \"},\n",
    "    pad={\"t\": 50},\n",
    "    steps=steps\n",
    ")]\n",
    "\n",
    "fig.update_layout(\n",
    "    sliders=sliders\n",
    ")\n",
    "\n",
    "fig.show()"
   ]
  },
  {
   "cell_type": "markdown",
   "metadata": {},
   "source": [
    "## Conflict info"
   ]
  },
  {
   "cell_type": "code",
   "execution_count": null,
   "metadata": {},
   "outputs": [],
   "source": [
    "ic_df = hfDf.loc[hfDf.year == 2017,['ISO_code', 'conflicts_side_A', 'conflicts_side_B']]"
   ]
  },
  {
   "cell_type": "code",
   "execution_count": null,
   "metadata": {},
   "outputs": [],
   "source": [
    "con_info = pd.DataFrame()\n",
    "for i in range(len(ic_df)):\n",
    "    temp = ic_df.iloc[i,:]\n",
    "    conflicts = temp['conflicts_side_A']\n",
    "    conflicts.append(temp['conflicts_side_B'])\n",
    "    code = temp['ISO_code']\n",
    "    for con in conflicts:\n",
    "        cur = db.conflicts.find({'conflict_id':con}, \n",
    "                               {'_id':0, 'location':1,'side_a':1,\n",
    "                                'side_b':1, 'year':1,'intensity_level':1,\n",
    "                                'cumulative_intensity':1,\n",
    "                                'start_date':1,'ep_end_date':1\n",
    "                               })\n",
    "        while True:\n",
    "            try:\n",
    "                nxt = cur.next()\n",
    "                nxt['ISO_code'] = code\n",
    "                nxt['conflict_id'] = con\n",
    "                con_info = con_info.append(nxt, ignore_index = True)\n",
    "            except:\n",
    "                break"
   ]
  },
  {
   "cell_type": "code",
   "execution_count": null,
   "metadata": {
    "scrolled": true
   },
   "outputs": [],
   "source": [
    "con_info.describe()"
   ]
  },
  {
   "cell_type": "code",
   "execution_count": null,
   "metadata": {
    "scrolled": false
   },
   "outputs": [],
   "source": [
    "con_info.head()"
   ]
  },
  {
   "cell_type": "code",
   "execution_count": null,
   "metadata": {},
   "outputs": [],
   "source": [
    "con_info.describe()"
   ]
  },
  {
   "cell_type": "code",
   "execution_count": null,
   "metadata": {},
   "outputs": [],
   "source": [
    "con_info.sort_values('year', ascending=False, inplace=True)"
   ]
  },
  {
   "cell_type": "code",
   "execution_count": null,
   "metadata": {},
   "outputs": [],
   "source": [
    "con_info.sort_values('year', ascending=False, inplace=True)\n",
    "\n",
    "fig = go.Figure()\n",
    "\n",
    "years = [year for year in con_info.year.unique()]\n",
    "\n",
    "\n",
    "for year in years:\n",
    "    fig.add_trace(\n",
    "        go.Choropleth(\n",
    "            z = con_info.loc[con_info['year']==year,'cumulative_intensity'],\n",
    "            locations = hfDf.loc[con_info['year']==year,'ISO_code'],\n",
    "            zmax = 1,\n",
    "            zmin = 0,\n",
    "            text = con_info.loc[:,['conflict_id','location','side_a','side_b']]\n",
    "        ))\n",
    "\n",
    "fig.data[-1].visible = True\n",
    "\n",
    "\n",
    "steps = []\n",
    "for i in range(len(years)):\n",
    "    step = dict(\n",
    "        method=\"update\",\n",
    "        args=[{\"visible\": [False] * len(fig.data)},\n",
    "              {\"title\": \"Cumulative conflict intensity level per year: \" + str(int(years[i]))}],\n",
    "        label = str(int(years[i]))\n",
    "    )\n",
    "    step[\"args\"][0][\"visible\"][i] = True\n",
    "    steps.append(step)\n",
    "    \n",
    "sliders = [dict(\n",
    "    active=10,\n",
    "    currentvalue={\"prefix\": \"Year: \"},\n",
    "    pad={\"t\": 50},\n",
    "    steps=steps\n",
    ")]\n",
    "\n",
    "fig.update_layout(\n",
    "    sliders=sliders\n",
    ")\n",
    "\n",
    "fig.show()"
   ]
  },
  {
   "cell_type": "code",
   "execution_count": null,
   "metadata": {},
   "outputs": [],
   "source": [
    "con_info.sort_values('year', ascending=False, inplace=True)\n",
    "\n",
    "fig = go.Figure()\n",
    "\n",
    "years = [year for year in con_info.year.unique()]\n",
    "\n",
    "\n",
    "for year in years:\n",
    "    fig.add_trace(\n",
    "        go.Choropleth(\n",
    "            z = con_info.loc[con_info['year']==year,'intensity_level'],\n",
    "            locations = con_info.loc[con_info['year']==year,'ISO_code'],\n",
    "            zmax = 2,\n",
    "            zmin = 1,\n",
    "            text = con_info.loc[:,['conflict_id','location','side_a','side_b']]\n",
    "            ))\n",
    "\n",
    "fig.data[-1].visible = True\n",
    "\n",
    "\n",
    "steps = []\n",
    "for i in range(len(years)):\n",
    "    step = dict(\n",
    "        method=\"update\",\n",
    "        args=[{\"visible\": [False] * len(fig.data)},\n",
    "              {\"title\": \"Conflict intensity level per year: \" + str(int(years[i]))}],\n",
    "        label = str(int(years[i]))\n",
    "    )\n",
    "    step[\"args\"][0][\"visible\"][i] = True\n",
    "    steps.append(step)\n",
    "    \n",
    "sliders = [dict(\n",
    "    active=10,\n",
    "    currentvalue={\"prefix\": \"Year: \"},\n",
    "    pad={\"t\": 50},\n",
    "    steps=steps\n",
    ")]\n",
    "\n",
    "fig.update_layout(\n",
    "    sliders=sliders\n",
    ")\n",
    "\n",
    "fig.show()"
   ]
  },
  {
   "cell_type": "code",
   "execution_count": null,
   "metadata": {},
   "outputs": [],
   "source": [
    "client.close()"
   ]
  },
  {
   "cell_type": "code",
   "execution_count": null,
   "metadata": {},
   "outputs": [],
   "source": [
    "server.close()"
   ]
  },
  {
   "cell_type": "code",
   "execution_count": null,
   "metadata": {},
   "outputs": [],
   "source": [
    "server.is_active"
   ]
  },
  {
   "cell_type": "code",
   "execution_count": null,
   "metadata": {},
   "outputs": [],
   "source": []
  }
 ],
 "metadata": {
  "kernelspec": {
   "display_name": "Python 3",
   "language": "python",
   "name": "python3"
  },
  "language_info": {
   "codemirror_mode": {
    "name": "ipython",
    "version": 3
   },
   "file_extension": ".py",
   "mimetype": "text/x-python",
   "name": "python",
   "nbconvert_exporter": "python",
   "pygments_lexer": "ipython3",
   "version": "3.6.4"
  }
 },
 "nbformat": 4,
 "nbformat_minor": 4
}
