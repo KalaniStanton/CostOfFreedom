{
 "cells": [
  {
   "cell_type": "markdown",
   "metadata": {},
   "source": [
    "Below is the dictionary for the Human Freedom Index Variables that we can use in Drop Down menus for people to select their variables of interest.\n",
    "\n",
    "The names for the variables were pulled directly from page 24 of the [Human Freedom Index Report](https://www.cato.org/sites/cato.org/files/human-freedom-index-files/human-freedom-index-2019.pdf#page=24).\n",
    "\n",
    "The way I anticapte this dictionary working is that a series of drop-down menus would contain the keys at each level, then when the user selects the key at the final level, the variable name `values` would be passed into a mongo query that will pull the data to the map, bar-graph, etc. "
   ]
  },
  {
   "cell_type": "code",
   "execution_count": 45,
   "metadata": {},
   "outputs": [],
   "source": [
    "HFI_dict = {\"Human Freedoms\":{\"Score\": \"hf_score\",\n",
    "                              \"Rank\": \"hf_rank\",\n",
    "                              \"Quartile\": \"hf_quartile\"},\n",
    "            \"Personal Freedoms\": {\n",
    "                \"Score\":\"pf_score\",\n",
    "                \"Rank\":\"pf_rank\",\n",
    "                \"Legal Protection and Security\": {\n",
    "                    \"Rule of Law\": \"pf_rol\",\n",
    "                    \"Procedural Justice\" : \"pf_rol_procedural\",\n",
    "                    \"Civil Justice\" : \"pf_rol_civil\",\n",
    "                    \"Criminal Justice\" : \"pf_rol_criminal\",\n",
    "                    \"Security and Safety (Overall)\" : \"pf_ss\",\n",
    "                    \"Homicide\" : \"pf_ss_homicide\",\n",
    "                    \"Dissapearences\":\"pf_ss_disappearances_disap\",\n",
    "                    \"Violent Conflict\" : \"pf_ss_disappearances_violent\",\n",
    "                    \"Organized Conflicts\" : \"pf_ss_disappearances_organized\",\n",
    "                    \"Terrorism Fatalities\" : \"pf_ss_disappearances_fatalities\",\n",
    "                    \"Terrorism Injuries\" : \"pf_ss_disappearances_injuries\",\n",
    "                    \"Women's Security and Safety\" : \"pf_ss_women\",\n",
    "                    \"Female Genital Mutilation\":\"pf_ss_women_fgm\",\n",
    "                    \"Inheritance Rights of Women\" : \"pf_ss_women_inheritance\"},\n",
    "                \"Specific Personal Freedoms\" : {\n",
    "                    \"Movement (Overall)\" : \"pf_movement\",\n",
    "                    \"Domestic Movement\" : \"pf_movement_domestic\",\n",
    "                    \"Foreign Movement\" : \"pf_movement_foreign\",\n",
    "                    \"Women's Movement\" : \"pf_movement_women\",\n",
    "                    \"Religion (Overall)\" : \"pf_religion\",\n",
    "                    \"Establishing and Operating Religious Organizations\": \"pf_religion_estop\",\n",
    "                    \"Harassment and Physical Hostilities\" : \"pf_religion_harassment\",\n",
    "                    \"Legal and Regulatory Restrictions\" : \"pf_religion_restrictions\",\n",
    "                    \"Association, Assembly, and Civil Society\": \"pf_association\",\n",
    "                    \"Association\": \"pf_association_association\",\n",
    "                    \"Assembly\" : \"pf_association_assembly\",\n",
    "                    \"Establishing and Operating Political Parties\":\"pf_association_political\",\n",
    "                    \"Establishing and Operating Professional Organizations\":\"pf_association_prof\",\n",
    "                    \"Establishing and Operating Educational, Sporting, and Cultural Organizations\": \"pf_association_sport\",\n",
    "                    \"Expression and Information (Overall)\": \"pf_expression\",\n",
    "                    \"Press Killed\" : \"pf_expression_killed\",\n",
    "                    \"Press Jailed\" : \"pf_expression_jailed\",\n",
    "                    \"Laws and Regulations That Influence Media Content\":\"pf_expression_influence\",\n",
    "                    \"Political Pressures and Controls On Media Content\":\"pf_expression_control\",\n",
    "                    \"Access to Cable/Satellite\" : \"pf_expression_cable\",\n",
    "                    \"Access to Foreign Newspapers\":\"pf_expression_newspapers\",\n",
    "                    \"State Control over Internet Access\":\"pf_expression_internet\",\n",
    "                    \"Identity And Relationships (Overall)\":\"pf_identity\",\n",
    "                    \"Legal Gender\":\"pf_identity_legal\",\n",
    "                    \"Male-to-Male Relationships\":\"pf_identity_sex_male\",\n",
    "                    \"Female-to-Female Relationships\":\"pf_identity_sex_female\",\n",
    "                    \"Same-Sex Relationships\":\"pf_identity_sex\",\n",
    "                    \"Divorce\":\"pf_identity_divorce\"}},\n",
    "            \"Economic Freedoms\" : { \n",
    "                \"Score\" : \"ef_score\",\n",
    "                \"Rank\" : \"ef_rank\",\n",
    "                \"Government\" : {\n",
    "                    \"Size of Government (Overall)\": \"ef_government\",\n",
    "                    \"Government Consumption\" : \"ef_government_consumption\",\n",
    "                    \"Transfers and Subsidies\" : \"ef_government_transfers\",\n",
    "                    \"Government Enterprises and Investments\" : \"ef_government_enterprises\",\n",
    "                    \"Top Marginal Tax Rate\": \"ef_government_tax\",\n",
    "                    \"Top Marginal Income Tax Rate\":\"ef_government_tax_income\",\n",
    "                    \"Top Marginal Income and Payroll Tax Rates\": \"ef_government_tax_payroll\",\n",
    "                    \"State Ownership of Assets\" : \"ef_government_soa\"},\n",
    "                \"Legal\" : {\n",
    "                    \"Legal System and Property Rights (Overall)\": \"ef_legal\",\n",
    "                    \"Judicial Independence\":\"ef_legal_judicial\",\n",
    "                    \"Impartial Courts\":\"ef_legal_courts\",\n",
    "                    \"Protection of Property Rights\":\"ef_legal_protection\",\n",
    "                    \"Military Interference in Rule of Law and Politics\":\"ef_legal_military\",\n",
    "                    \"Integrity of the Legal System\":\"ef_legal_integrity\",\n",
    "                    \"Legal Enforcement of Contracts\":\"ef_legal_enforcement\",\n",
    "                    \"Regulatory Costs of the Sale of Real Property\":\"ef_legal_restrictions\",\n",
    "                    \"Reliability of Police\":\"ef_legal_police\",\n",
    "                    \"Business Costs of Crime\":\"ef_legal_crime\"},\n",
    "                \"Sound Money\" : {\n",
    "                    \"Soundness of Currency (Overall)\": \"ef_money\",\n",
    "                    \"Money Growth\":\"ef_money_growth\",\n",
    "                    \"Standard Deviation of Inflation\":\"ef_money_sd\",\n",
    "                    \"Inflation: Most Recent Year\":\"ef_money_inflation\",\n",
    "                    \"Freedom to Own Foreign Currency Bank Accounts\":\"ef_money_currency\"},\n",
    "                \"International Trade\": {\n",
    "                    \"Freedom to Trade Internationally\":\"ef_trade\",\n",
    "                    \"Tariffs\":\"ef_trade_tariffs\",\n",
    "                    \"Revenue from Trade Taxes (% of Trade Sector)\":\"ef_trade_tariffs_revenue\",\n",
    "                    \"Mean Tariff Rate\":\"ef_trade_tariffs_mean\",\n",
    "                    \"Standard Deviation of Tariff Rates\":\"ef_trade_tariffs_sd\",\n",
    "                    \"Regulatory Trade Barriers\":\"ef_trade_regulatory\",\n",
    "                    \"Nontariff Trade Barriers\":\"ef_trade_regulatory_nontariff\",\n",
    "                    \"Compliance Costs of Importing and Exporting\":\"ef_trade_regulatory_compliance\",\n",
    "                    \"Black-Market Exchange Rates\":\"ef_trade_black\",\n",
    "                    \"Controls of the Movement of Capital and People\":\"ef_trade_movement\",\n",
    "                    \"Foreign Ownership/Investment Restrictions \":\"ef_trade_movement_foreign\",\n",
    "                    \"Capital Controls\":\"ef_trade_movement_capital\",\n",
    "                    \"Freedom of Foreigners to Visit\":\"ef_trade_movement_visit\"},\n",
    "                \"Regulation\" : {\n",
    "                    \"Regulation (Overall)\":\"ef_regulation\",\n",
    "                    \"Credit Market Regulations\":\"ef_regulation_credit\",\n",
    "                    \"Ownership of Banks\":\"ef_regulation_credit_ownership\",\n",
    "                    \"Private-Sector Credit\":\"ef_regulation_credit_private\",\n",
    "                    \"Interest Rate Controls/Negative Real Interest Rates\":\"ef_regulation_credit_interest\",\n",
    "                    \"Labor Market Regulations\":\"ef_regulation_labor\",\n",
    "                    \"Hiring Regulations and Minimum Wage\":\"ef_regulation_labor_minwage\",\n",
    "                    \"Hiring and Firing Regulations\":\"ef_regulation_labor_firing\",\n",
    "                    \"Centralized Collective Bargaining\":\"ef_regulation_labor_bargain\", \n",
    "                    \"Hours Regulations\":\"ef_regulation_labor_hours\",\n",
    "                    \"Mandated Cost of Worker Dismissal\":\"ef_regulation_labor_dismissal\",\n",
    "                    \"Conscription\":\"ef_regulation_labor_conscription\" ,\n",
    "                    \"Business Regulations\":\"ef_regulation_business\",\n",
    "                    \"Administrative Requirements\":\"ef_regulation_business_adm\" ,\n",
    "                    \"Bureaucracy Costs\":\"ef_regulation_business_bureaucracy\" ,\n",
    "                    \"Starting a Business\":\"ef_regulation_business_start\",\n",
    "                    \"Extra Payments/Bribes/Favoritism\":\"ef_regulation_business_bribes\",\n",
    "                    \"Licensing Restrictions\":\"ef_regulation_business_licensing\",\n",
    "                    \"Cost of Tax Compliance\":\"ef_regulation_business_compliance\"}\n",
    "            }\n",
    "           }\n",
    "        "
   ]
  },
  {
   "cell_type": "code",
   "execution_count": 7,
   "metadata": {
    "scrolled": true
   },
   "outputs": [
    {
     "data": {
      "text/plain": [
       "dict_keys(['Human Freedoms', 'Personal Freedoms', 'Economic Freedoms'])"
      ]
     },
     "execution_count": 7,
     "metadata": {},
     "output_type": "execute_result"
    }
   ],
   "source": [
    "#First Drop Down Menu Options\n",
    "HFI_dict.keys()"
   ]
  },
  {
   "cell_type": "code",
   "execution_count": 17,
   "metadata": {},
   "outputs": [
    {
     "data": {
      "text/plain": [
       "dict_keys(['Economic Freedoms Score', 'Economic Freedoms Rank', 'Government', 'Legal', 'Sound Money', 'International Trade', 'Regulation'])"
      ]
     },
     "execution_count": 17,
     "metadata": {},
     "output_type": "execute_result"
    }
   ],
   "source": [
    "# Second Drop Down Menu Options\n",
    "## User inputs 'Personal Freedoms'\n",
    "HFI_dict['Personal Freedoms'].keys()"
   ]
  },
  {
   "cell_type": "code",
   "execution_count": 18,
   "metadata": {},
   "outputs": [
    {
     "data": {
      "text/plain": [
       "['Rule of Law',\n",
       " 'Procedural Justice',\n",
       " 'Civil Justice',\n",
       " 'Criminal Justice',\n",
       " 'Security and Safety (Overall)',\n",
       " 'Homicide',\n",
       " 'Dissapearences',\n",
       " 'Violent Conflict',\n",
       " 'Organized Conflicts',\n",
       " 'Terrorism Fatalities',\n",
       " 'Terrorism Injuries',\n",
       " \"Women's Security and Safety\",\n",
       " 'Female Genital Mutilation',\n",
       " 'Inheritance Rights  of Women']"
      ]
     },
     "execution_count": 18,
     "metadata": {},
     "output_type": "execute_result"
    }
   ],
   "source": [
    "#Third Drop Down Menu Options\n",
    "list(HFI_dict['Personal Freedoms']['Legal Protection and Security'].keys())"
   ]
  },
  {
   "cell_type": "code",
   "execution_count": 16,
   "metadata": {},
   "outputs": [
    {
     "data": {
      "text/plain": [
       "'pf_ss_homicide'"
      ]
     },
     "execution_count": 16,
     "metadata": {},
     "output_type": "execute_result"
    }
   ],
   "source": [
    "# Value to be passed into the query\n",
    "HFI_dict['Personal Freedoms']['Legal Protection and Security']['Homicide']"
   ]
  },
  {
   "cell_type": "markdown",
   "metadata": {},
   "source": [
    "## Rough Demonstration\n",
    "\n",
    "Below is a sketch-implementation of how the nested dictionary can be used in conjunction with drop-down menus for user input. Included in this is a conditional that checks to see if the variable requested is a second-level variable, or requires another input before accessing the variable as it is in the database.\n",
    "\n",
    "### Second Level Example"
   ]
  },
  {
   "cell_type": "code",
   "execution_count": 54,
   "metadata": {},
   "outputs": [
    {
     "name": "stdout",
     "output_type": "stream",
     "text": [
      "Rank\n"
     ]
    }
   ],
   "source": [
    "#Test using second level values \"Rank\" or \"Score\" {in dd1r[1]} \n",
    "## If so, the value (variable name) associated with this option\n",
    "## is assigned variable to res.\n",
    "\n",
    "# DropDown1\n",
    "dd1 = \"Economic Freedoms\"\n",
    "dd1r = list(HFI_dict[dd1].keys())\n",
    "\n",
    "# DropDown2\n",
    "dd2 = dd1r[1]\n",
    "print(dd1r[1])\n",
    "\n",
    "# Level 3 Check/Assignment\n",
    "if dd2 == 'Rank' or dd2 == 'Score':\n",
    "    res = HFI_dict[dd1][dd2]\n",
    "else:\n",
    "    dd2r = list(HFI_dict[dd1][dd2].keys())\n",
    "    #DropDown3\n",
    "    dd3 = dd2r[3]\n",
    "    res = HFI_dict[dd1][dd2][dd3]"
   ]
  },
  {
   "cell_type": "code",
   "execution_count": 55,
   "metadata": {},
   "outputs": [
    {
     "data": {
      "text/plain": [
       "'ef_rank'"
      ]
     },
     "execution_count": 55,
     "metadata": {},
     "output_type": "execute_result"
    }
   ],
   "source": [
    "res"
   ]
  },
  {
   "cell_type": "markdown",
   "metadata": {},
   "source": [
    "### Third Level Example"
   ]
  },
  {
   "cell_type": "code",
   "execution_count": 60,
   "metadata": {},
   "outputs": [
    {
     "name": "stdout",
     "output_type": "stream",
     "text": [
      "International Trade\n",
      "Mean Tariff Rate\n"
     ]
    }
   ],
   "source": [
    "#Test using variables at third level of the dictionary\n",
    "\n",
    "# DropDown1\n",
    "dd1 = \"Economic Freedoms\"\n",
    "dd1r = list(HFI_dict[dd1].keys())\n",
    "\n",
    "# DropDown2\n",
    "dd2 = dd1r[5]\n",
    "print(dd1r[5])\n",
    "\n",
    "# Level 3 Check/Assignment\n",
    "if dd2 == 'Rank' or dd2 == 'Score':\n",
    "    res = HFI_dict[dd1][dd2]\n",
    "else:\n",
    "    dd2r = list(HFI_dict[dd1][dd2].keys())\n",
    "    #DropDown3\n",
    "    dd3 = dd2r[3]\n",
    "    print(dd2r[3])\n",
    "    res = HFI_dict[dd1][dd2][dd3]"
   ]
  },
  {
   "cell_type": "code",
   "execution_count": 61,
   "metadata": {},
   "outputs": [
    {
     "data": {
      "text/plain": [
       "'ef_trade_tariffs_mean'"
      ]
     },
     "execution_count": 61,
     "metadata": {},
     "output_type": "execute_result"
    }
   ],
   "source": [
    "res"
   ]
  }
 ],
 "metadata": {
  "kernelspec": {
   "display_name": "Python 3",
   "language": "python",
   "name": "python3"
  },
  "language_info": {
   "codemirror_mode": {
    "name": "ipython",
    "version": 3
   },
   "file_extension": ".py",
   "mimetype": "text/x-python",
   "name": "python",
   "nbconvert_exporter": "python",
   "pygments_lexer": "ipython3",
   "version": "3.8.6"
  }
 },
 "nbformat": 4,
 "nbformat_minor": 4
}
