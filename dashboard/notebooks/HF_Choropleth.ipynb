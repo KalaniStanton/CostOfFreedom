{
 "cells": [
  {
   "cell_type": "code",
   "execution_count": 96,
   "metadata": {},
   "outputs": [],
   "source": [
    "from pymongo import MongoClient\n",
    "from pprint import PrettyPrinter\n",
    "from nltk import ngrams\n",
    "import numpy as np\n",
    "import pandas as pd\n",
    "import matplotlib.pyplot as plt\n",
    "import seaborn as sns"
   ]
  },
  {
   "cell_type": "code",
   "execution_count": 3,
   "metadata": {},
   "outputs": [],
   "source": [
    "from plotly.offline import download_plotlyjs, init_notebook_mode, plot, iplot"
   ]
  },
  {
   "cell_type": "code",
   "execution_count": 4,
   "metadata": {},
   "outputs": [],
   "source": [
    "import plotly.graph_objs as go"
   ]
  },
  {
   "cell_type": "code",
   "execution_count": 5,
   "metadata": {},
   "outputs": [
    {
     "data": {
      "text/html": [
       "        <script type=\"text/javascript\">\n",
       "        window.PlotlyConfig = {MathJaxConfig: 'local'};\n",
       "        if (window.MathJax) {MathJax.Hub.Config({SVG: {font: \"STIX-Web\"}});}\n",
       "        if (typeof require !== 'undefined') {\n",
       "        require.undef(\"plotly\");\n",
       "        requirejs.config({\n",
       "            paths: {\n",
       "                'plotly': ['https://cdn.plot.ly/plotly-latest.min']\n",
       "            }\n",
       "        });\n",
       "        require(['plotly'], function(Plotly) {\n",
       "            window._Plotly = Plotly;\n",
       "        });\n",
       "        }\n",
       "        </script>\n",
       "        "
      ]
     },
     "metadata": {},
     "output_type": "display_data"
    }
   ],
   "source": [
    "init_notebook_mode(connected=True)"
   ]
  },
  {
   "cell_type": "code",
   "execution_count": 6,
   "metadata": {},
   "outputs": [],
   "source": [
    "pp = PrettyPrinter()"
   ]
  },
  {
   "cell_type": "code",
   "execution_count": 7,
   "metadata": {},
   "outputs": [],
   "source": [
    "client = MongoClient('localhost', 27017)"
   ]
  },
  {
   "cell_type": "code",
   "execution_count": 8,
   "metadata": {},
   "outputs": [],
   "source": [
    "db = client.hfconflict"
   ]
  },
  {
   "cell_type": "code",
   "execution_count": 52,
   "metadata": {},
   "outputs": [],
   "source": [
    "cur = db.hfi19.find({'year':2017}, {'ISO_code':1, 'countries':1, '_id':0})"
   ]
  },
  {
   "cell_type": "code",
   "execution_count": 53,
   "metadata": {
    "scrolled": false
   },
   "outputs": [
    {
     "name": "stderr",
     "output_type": "stream",
     "text": [
      "<ipython-input-53-bb069735826d>:2: DeprecationWarning: count is deprecated. Use Collection.count_documents instead.\n",
      "  for i in range(cur.count()):\n"
     ]
    }
   ],
   "source": [
    "cc19 = {}\n",
    "for i in range(cur.count()):\n",
    "    temp = cur.next()\n",
    "    cc19[temp['countries']] = temp['ISO_code']"
   ]
  },
  {
   "cell_type": "code",
   "execution_count": 154,
   "metadata": {},
   "outputs": [],
   "source": [
    "cur = db.hfi19.find({'year':2017},{'_id':0, 'countries':1, 'ISO_code':1, 'pf_ss_homicide':1})"
   ]
  },
  {
   "cell_type": "code",
   "execution_count": 155,
   "metadata": {},
   "outputs": [
    {
     "name": "stderr",
     "output_type": "stream",
     "text": [
      "<ipython-input-155-b126f1d6a732>:2: DeprecationWarning:\n",
      "\n",
      "count is deprecated. Use Collection.count_documents instead.\n",
      "\n"
     ]
    }
   ],
   "source": [
    "df = pd.DataFrame()\n",
    "for i in range(cur.count()):\n",
    "    temp = cur.next()\n",
    "    df = df.append([[temp['countries'],temp['ISO_code'],(10-temp['pf_ss_homicide'])]])"
   ]
  },
  {
   "cell_type": "code",
   "execution_count": 156,
   "metadata": {},
   "outputs": [],
   "source": [
    "df = df.rename(columns = {0:'Country', 1:'ISO', 2:'Homicide'})"
   ]
  },
  {
   "cell_type": "code",
   "execution_count": 157,
   "metadata": {},
   "outputs": [
    {
     "data": {
      "text/html": [
       "<div>\n",
       "<style scoped>\n",
       "    .dataframe tbody tr th:only-of-type {\n",
       "        vertical-align: middle;\n",
       "    }\n",
       "\n",
       "    .dataframe tbody tr th {\n",
       "        vertical-align: top;\n",
       "    }\n",
       "\n",
       "    .dataframe thead th {\n",
       "        text-align: right;\n",
       "    }\n",
       "</style>\n",
       "<table border=\"1\" class=\"dataframe\">\n",
       "  <thead>\n",
       "    <tr style=\"text-align: right;\">\n",
       "      <th></th>\n",
       "      <th>Country</th>\n",
       "      <th>ISO</th>\n",
       "      <th>Homicide</th>\n",
       "    </tr>\n",
       "  </thead>\n",
       "  <tbody>\n",
       "    <tr>\n",
       "      <th>0</th>\n",
       "      <td>Albania</td>\n",
       "      <td>ALB</td>\n",
       "      <td>0.9</td>\n",
       "    </tr>\n",
       "    <tr>\n",
       "      <th>0</th>\n",
       "      <td>Angola</td>\n",
       "      <td>AGO</td>\n",
       "      <td>1.9</td>\n",
       "    </tr>\n",
       "    <tr>\n",
       "      <th>0</th>\n",
       "      <td>Algeria</td>\n",
       "      <td>DZA</td>\n",
       "      <td>0.5</td>\n",
       "    </tr>\n",
       "    <tr>\n",
       "      <th>0</th>\n",
       "      <td>Austria</td>\n",
       "      <td>AUT</td>\n",
       "      <td>0.3</td>\n",
       "    </tr>\n",
       "    <tr>\n",
       "      <th>0</th>\n",
       "      <td>Australia</td>\n",
       "      <td>AUS</td>\n",
       "      <td>0.3</td>\n",
       "    </tr>\n",
       "    <tr>\n",
       "      <th>...</th>\n",
       "      <td>...</td>\n",
       "      <td>...</td>\n",
       "      <td>...</td>\n",
       "    </tr>\n",
       "    <tr>\n",
       "      <th>0</th>\n",
       "      <td>Venezuela</td>\n",
       "      <td>VEN</td>\n",
       "      <td>10.0</td>\n",
       "    </tr>\n",
       "    <tr>\n",
       "      <th>0</th>\n",
       "      <td>Yemen, Rep.</td>\n",
       "      <td>YEM</td>\n",
       "      <td>2.7</td>\n",
       "    </tr>\n",
       "    <tr>\n",
       "      <th>0</th>\n",
       "      <td>Vietnam</td>\n",
       "      <td>VNM</td>\n",
       "      <td>0.6</td>\n",
       "    </tr>\n",
       "    <tr>\n",
       "      <th>0</th>\n",
       "      <td>Zambia</td>\n",
       "      <td>ZMB</td>\n",
       "      <td>2.1</td>\n",
       "    </tr>\n",
       "    <tr>\n",
       "      <th>0</th>\n",
       "      <td>Zimbabwe</td>\n",
       "      <td>ZWE</td>\n",
       "      <td>2.7</td>\n",
       "    </tr>\n",
       "  </tbody>\n",
       "</table>\n",
       "<p>162 rows × 3 columns</p>\n",
       "</div>"
      ],
      "text/plain": [
       "        Country  ISO  Homicide\n",
       "0       Albania  ALB       0.9\n",
       "0        Angola  AGO       1.9\n",
       "0       Algeria  DZA       0.5\n",
       "0       Austria  AUT       0.3\n",
       "0     Australia  AUS       0.3\n",
       "..          ...  ...       ...\n",
       "0     Venezuela  VEN      10.0\n",
       "0   Yemen, Rep.  YEM       2.7\n",
       "0       Vietnam  VNM       0.6\n",
       "0        Zambia  ZMB       2.1\n",
       "0      Zimbabwe  ZWE       2.7\n",
       "\n",
       "[162 rows x 3 columns]"
      ]
     },
     "execution_count": 157,
     "metadata": {},
     "output_type": "execute_result"
    }
   ],
   "source": [
    "df"
   ]
  },
  {
   "cell_type": "code",
   "execution_count": 158,
   "metadata": {},
   "outputs": [],
   "source": [
    "data = dict(type = 'choropleth',\n",
    "           locations = df['ISO'],\n",
    "           z = df['Homicide'],\n",
    "           text = df['Country'],\n",
    "           colorbar = {'title':'Homicide'})"
   ]
  },
  {
   "cell_type": "code",
   "execution_count": 169,
   "metadata": {},
   "outputs": [],
   "source": [
    "layout = dict(title = 'Wordwide Homicide',\n",
    "             geo = dict(showframe = False,\n",
    "             projection = {'type':\"equirectangular\"}))"
   ]
  },
  {
   "cell_type": "code",
   "execution_count": 170,
   "metadata": {},
   "outputs": [],
   "source": [
    "choromap3 = go.Figure(data=[data],layout = layout)"
   ]
  },
  {
   "cell_type": "code",
   "execution_count": 171,
   "metadata": {},
   "outputs": [
    {
     "data": {
      "application/vnd.plotly.v1+json": {
       "config": {
        "linkText": "Export to plot.ly",
        "plotlyServerURL": "https://plot.ly",
        "showLink": false
       },
       "data": [
        {
         "colorbar": {
          "title": {
           "text": "Homicide"
          }
         },
         "locations": [
          "ALB",
          "AGO",
          "DZA",
          "AUT",
          "AUS",
          "AZE",
          "ARG",
          "BGD",
          "ARM",
          "BHR",
          "BHS",
          "BLR",
          "BEL",
          "BLZ",
          "BTN",
          "BRD",
          "BOL",
          "BEN",
          "BIH",
          "BWA",
          "BRA",
          "BRN",
          "BGR",
          "BFA",
          "BDI",
          "KHM",
          "CMR",
          "CAN",
          "CPV",
          "TCD",
          "CHN",
          "CHL",
          "COL",
          "CAF",
          "COD",
          "COG",
          "HRV",
          "CRI",
          "CIV",
          "CYP",
          "CZE",
          "DOM",
          "DNK",
          "ECU",
          "SLV",
          "EGY",
          "EST",
          "SWZ",
          "ETH",
          "FIN",
          "FJI",
          "FRA",
          "GMB",
          "GAB",
          "DEU",
          "GEO",
          "GHA",
          "GRC",
          "GTM",
          "GIN",
          "GNB",
          "GUY",
          "HTI",
          "HND",
          "HUN",
          "HKG",
          "ISL",
          "IND",
          "IRL",
          "ITA",
          "IRQ",
          "ISR",
          "JAM",
          "IRN",
          "IDN",
          "JPN",
          "KAZ",
          "JOR",
          "KOR",
          "KGZ",
          "KEN",
          "LAO",
          "KWT",
          "LBN",
          "LSO",
          "LBR",
          "MDA",
          "MNG",
          "MUS",
          "MEX",
          "MOZ",
          "MNE",
          "MAR",
          "LUX",
          "LBY",
          "LTU",
          "LVA",
          "NPL",
          "NZL",
          "MDG",
          "NIC",
          "NER",
          "MMR",
          "NAM",
          "NGA",
          "MWI",
          "MKD",
          "NOR",
          "MLI",
          "NLD",
          "OMN",
          "MYS",
          "PAN",
          "PAK",
          "MLT",
          "PNG",
          "MRT",
          "PRY",
          "PHL",
          "PER",
          "POL",
          "PRT",
          "ROU",
          "QAT",
          "RUS",
          "SAU",
          "RWA",
          "SEN",
          "SLE",
          "SYC",
          "SRB",
          "SGP",
          "SVK",
          "SVN",
          "ZAF",
          "SDN",
          "ESP",
          "LKA",
          "SUR",
          "CHE",
          "SWE",
          "TWN",
          "SYR",
          "TLS",
          "TGO",
          "TJK",
          "TZA",
          "THA",
          "TTO",
          "TUN",
          "TUR",
          "GBR",
          "UKR",
          "USA",
          "UGA",
          "ARE",
          "URY",
          "VEN",
          "YEM",
          "VNM",
          "ZMB",
          "ZWE"
         ],
         "text": [
          "Albania",
          "Angola",
          "Algeria",
          "Austria",
          "Australia",
          "Azerbaijan",
          "Argentina",
          "Bangladesh",
          "Armenia",
          "Bahrain",
          "Bahamas",
          "Belarus",
          "Belgium",
          "Belize",
          "Bhutan",
          "Barbados",
          "Bolivia",
          "Benin",
          "Bosnia and Herzegovina",
          "Botswana",
          "Brazil",
          "Brunei Darussalam",
          "Bulgaria",
          "Burkina Faso",
          "Burundi",
          "Cambodia",
          "Cameroon",
          "Canada",
          "Cape Verde",
          "Chad",
          "China",
          "Chile",
          "Colombia",
          "Central Afr. Rep.",
          "Congo, Dem. R.",
          "Congo, Rep. Of",
          "Croatia",
          "Costa Rica",
          "C?te d'Ivoire",
          "Cyprus",
          "Czech Rep.",
          "Dominican Rep.",
          "Denmark",
          "Ecuador",
          "El Salvador",
          "Egypt",
          "Estonia",
          "Eswatini",
          "Ethiopia",
          "Finland",
          "Fiji",
          "France",
          "Gambia, The",
          "Gabon",
          "Germany",
          "Georgia",
          "Ghana",
          "Greece",
          "Guatemala",
          "Guinea",
          "GuineaBissau",
          "Guyana",
          "Haiti",
          "Honduras",
          "Hungary",
          "Hong Kong",
          "Iceland",
          "India",
          "Ireland",
          "Italy",
          "Iraq",
          "Israel",
          "Jamaica",
          "Iran",
          "Indonesia",
          "Japan",
          "Kazakhstan",
          "Jordan",
          "Korea, South",
          "Kyrgyz Republic",
          "Kenya",
          "Laos",
          "Kuwait",
          "Lebanon",
          "Lesotho",
          "Liberia",
          "Moldova",
          "Mongolia",
          "Mauritius",
          "Mexico",
          "Mozambique",
          "Montenegro",
          "Morocco",
          "Luxembourg",
          "Libya",
          "Lithuania",
          "Latvia",
          "Nepal",
          "New Zealand",
          "Madagascar",
          "Nicaragua",
          "Niger",
          "Myanmar",
          "Namibia",
          "Nigeria",
          "Malawi",
          "North Macedonia",
          "Norway",
          "Mali",
          "Netherlands",
          "Oman",
          "Malaysia",
          "Panama",
          "Pakistan",
          "Malta",
          "Pap. New Guinea",
          "Mauritania",
          "Paraguay",
          "Philippines",
          "Peru",
          "Poland",
          "Portugal",
          "Romania",
          "Qatar",
          "Russia",
          "Saudi Arabia",
          "Rwanda",
          "Senegal",
          "Sierra Leone",
          "Seychelles",
          "Serbia",
          "Singapore",
          "Slovak Rep.",
          "Slovenia",
          "South Africa",
          "Sudan",
          "Spain",
          "Sri Lanka",
          "Suriname",
          "Switzerland",
          "Sweden",
          "Taiwan",
          "Syria",
          "TimorLeste",
          "Togo",
          "Tajikistan",
          "Tanzania",
          "Thailand",
          "Trinidad and Tobago",
          "Tunisia",
          "Turkey",
          "United Kingdom",
          "Ukraine",
          "United States",
          "Uganda",
          "United Arab Emirates",
          "Uruguay",
          "Venezuela",
          "Yemen, Rep.",
          "Vietnam",
          "Zambia",
          "Zimbabwe"
         ],
         "type": "choropleth",
         "z": [
          0.9000000000000004,
          1.9000000000000004,
          0.5,
          0.3000000000000007,
          0.3000000000000007,
          0.8000000000000007,
          2,
          0.9000000000000004,
          1,
          0.1999999999999993,
          10,
          1.4000000000000004,
          0.6999999999999993,
          10,
          0.5999999999999996,
          4.2,
          2.5,
          0.40000000000000036,
          0.5,
          6,
          10,
          0.1999999999999993,
          0.5999999999999996,
          0.5,
          2.4000000000000004,
          0.6999999999999993,
          0.5999999999999996,
          0.6999999999999993,
          4.6,
          3.5999999999999996,
          0.1999999999999993,
          1.6999999999999993,
          10,
          7.9,
          5.4,
          3.7,
          0.40000000000000036,
          4.9,
          4.7,
          0.1999999999999993,
          0.1999999999999993,
          4.5,
          0.5,
          2.3,
          10,
          1,
          0.9000000000000004,
          3.8,
          3,
          0.5,
          0.9000000000000004,
          0.5,
          3.7,
          3.2,
          0.40000000000000036,
          0.40000000000000036,
          0.8000000000000007,
          0.3000000000000007,
          10,
          3.5,
          0.40000000000000036,
          5.9,
          3.8,
          10,
          1,
          0.09999999999999964,
          0.40000000000000036,
          1.3000000000000007,
          0.40000000000000036,
          0.3000000000000007,
          3.9000000000000004,
          0.5,
          10,
          1,
          0.1999999999999993,
          0.09999999999999964,
          2,
          0.5999999999999996,
          0.1999999999999993,
          1.6999999999999993,
          2,
          2.8,
          0.6999999999999993,
          1.5999999999999996,
          10,
          1.3000000000000007,
          1.3000000000000007,
          2.5,
          0.6999999999999993,
          9.9,
          1.4000000000000004,
          1,
          0.8000000000000007,
          0.09999999999999964,
          1,
          1.8000000000000007,
          1.3000000000000007,
          0.9000000000000004,
          0.3000000000000007,
          3.0999999999999996,
          2.9000000000000004,
          1.8000000000000007,
          0.9000000000000004,
          6.9,
          3.9000000000000004,
          0.6999999999999993,
          0.5999999999999996,
          0.1999999999999993,
          4.4,
          0.3000000000000007,
          0.1999999999999993,
          0.8000000000000007,
          3.9000000000000004,
          1.6999999999999993,
          0.40000000000000036,
          4,
          4,
          3.5999999999999996,
          3.4000000000000004,
          3.0999999999999996,
          0.3000000000000007,
          0.3000000000000007,
          0.5999999999999996,
          0.1999999999999993,
          3.7,
          0.5,
          1,
          3,
          0.6999999999999993,
          5.1,
          0.40000000000000036,
          0.09999999999999964,
          0.5999999999999996,
          0.40000000000000036,
          10,
          2.0999999999999996,
          0.3000000000000007,
          0.9000000000000004,
          2.2,
          0.1999999999999993,
          0.40000000000000036,
          0.3000000000000007,
          0.9000000000000004,
          1.5999999999999996,
          3.5999999999999996,
          0.5999999999999996,
          2.5,
          1.3000000000000007,
          10,
          1.1999999999999993,
          1.6999999999999993,
          0.5,
          2.5,
          2.0999999999999996,
          4.4,
          0.40000000000000036,
          3.3,
          10,
          2.7,
          0.5999999999999996,
          2.0999999999999996,
          2.7
         ]
        }
       ],
       "layout": {
        "geo": {
         "projection": {
          "type": "equirectangular"
         },
         "showframe": false
        },
        "template": {
         "data": {
          "bar": [
           {
            "error_x": {
             "color": "#2a3f5f"
            },
            "error_y": {
             "color": "#2a3f5f"
            },
            "marker": {
             "line": {
              "color": "#E5ECF6",
              "width": 0.5
             }
            },
            "type": "bar"
           }
          ],
          "barpolar": [
           {
            "marker": {
             "line": {
              "color": "#E5ECF6",
              "width": 0.5
             }
            },
            "type": "barpolar"
           }
          ],
          "carpet": [
           {
            "aaxis": {
             "endlinecolor": "#2a3f5f",
             "gridcolor": "white",
             "linecolor": "white",
             "minorgridcolor": "white",
             "startlinecolor": "#2a3f5f"
            },
            "baxis": {
             "endlinecolor": "#2a3f5f",
             "gridcolor": "white",
             "linecolor": "white",
             "minorgridcolor": "white",
             "startlinecolor": "#2a3f5f"
            },
            "type": "carpet"
           }
          ],
          "choropleth": [
           {
            "colorbar": {
             "outlinewidth": 0,
             "ticks": ""
            },
            "type": "choropleth"
           }
          ],
          "contour": [
           {
            "colorbar": {
             "outlinewidth": 0,
             "ticks": ""
            },
            "colorscale": [
             [
              0,
              "#0d0887"
             ],
             [
              0.1111111111111111,
              "#46039f"
             ],
             [
              0.2222222222222222,
              "#7201a8"
             ],
             [
              0.3333333333333333,
              "#9c179e"
             ],
             [
              0.4444444444444444,
              "#bd3786"
             ],
             [
              0.5555555555555556,
              "#d8576b"
             ],
             [
              0.6666666666666666,
              "#ed7953"
             ],
             [
              0.7777777777777778,
              "#fb9f3a"
             ],
             [
              0.8888888888888888,
              "#fdca26"
             ],
             [
              1,
              "#f0f921"
             ]
            ],
            "type": "contour"
           }
          ],
          "contourcarpet": [
           {
            "colorbar": {
             "outlinewidth": 0,
             "ticks": ""
            },
            "type": "contourcarpet"
           }
          ],
          "heatmap": [
           {
            "colorbar": {
             "outlinewidth": 0,
             "ticks": ""
            },
            "colorscale": [
             [
              0,
              "#0d0887"
             ],
             [
              0.1111111111111111,
              "#46039f"
             ],
             [
              0.2222222222222222,
              "#7201a8"
             ],
             [
              0.3333333333333333,
              "#9c179e"
             ],
             [
              0.4444444444444444,
              "#bd3786"
             ],
             [
              0.5555555555555556,
              "#d8576b"
             ],
             [
              0.6666666666666666,
              "#ed7953"
             ],
             [
              0.7777777777777778,
              "#fb9f3a"
             ],
             [
              0.8888888888888888,
              "#fdca26"
             ],
             [
              1,
              "#f0f921"
             ]
            ],
            "type": "heatmap"
           }
          ],
          "heatmapgl": [
           {
            "colorbar": {
             "outlinewidth": 0,
             "ticks": ""
            },
            "colorscale": [
             [
              0,
              "#0d0887"
             ],
             [
              0.1111111111111111,
              "#46039f"
             ],
             [
              0.2222222222222222,
              "#7201a8"
             ],
             [
              0.3333333333333333,
              "#9c179e"
             ],
             [
              0.4444444444444444,
              "#bd3786"
             ],
             [
              0.5555555555555556,
              "#d8576b"
             ],
             [
              0.6666666666666666,
              "#ed7953"
             ],
             [
              0.7777777777777778,
              "#fb9f3a"
             ],
             [
              0.8888888888888888,
              "#fdca26"
             ],
             [
              1,
              "#f0f921"
             ]
            ],
            "type": "heatmapgl"
           }
          ],
          "histogram": [
           {
            "marker": {
             "colorbar": {
              "outlinewidth": 0,
              "ticks": ""
             }
            },
            "type": "histogram"
           }
          ],
          "histogram2d": [
           {
            "colorbar": {
             "outlinewidth": 0,
             "ticks": ""
            },
            "colorscale": [
             [
              0,
              "#0d0887"
             ],
             [
              0.1111111111111111,
              "#46039f"
             ],
             [
              0.2222222222222222,
              "#7201a8"
             ],
             [
              0.3333333333333333,
              "#9c179e"
             ],
             [
              0.4444444444444444,
              "#bd3786"
             ],
             [
              0.5555555555555556,
              "#d8576b"
             ],
             [
              0.6666666666666666,
              "#ed7953"
             ],
             [
              0.7777777777777778,
              "#fb9f3a"
             ],
             [
              0.8888888888888888,
              "#fdca26"
             ],
             [
              1,
              "#f0f921"
             ]
            ],
            "type": "histogram2d"
           }
          ],
          "histogram2dcontour": [
           {
            "colorbar": {
             "outlinewidth": 0,
             "ticks": ""
            },
            "colorscale": [
             [
              0,
              "#0d0887"
             ],
             [
              0.1111111111111111,
              "#46039f"
             ],
             [
              0.2222222222222222,
              "#7201a8"
             ],
             [
              0.3333333333333333,
              "#9c179e"
             ],
             [
              0.4444444444444444,
              "#bd3786"
             ],
             [
              0.5555555555555556,
              "#d8576b"
             ],
             [
              0.6666666666666666,
              "#ed7953"
             ],
             [
              0.7777777777777778,
              "#fb9f3a"
             ],
             [
              0.8888888888888888,
              "#fdca26"
             ],
             [
              1,
              "#f0f921"
             ]
            ],
            "type": "histogram2dcontour"
           }
          ],
          "mesh3d": [
           {
            "colorbar": {
             "outlinewidth": 0,
             "ticks": ""
            },
            "type": "mesh3d"
           }
          ],
          "parcoords": [
           {
            "line": {
             "colorbar": {
              "outlinewidth": 0,
              "ticks": ""
             }
            },
            "type": "parcoords"
           }
          ],
          "pie": [
           {
            "automargin": true,
            "type": "pie"
           }
          ],
          "scatter": [
           {
            "marker": {
             "colorbar": {
              "outlinewidth": 0,
              "ticks": ""
             }
            },
            "type": "scatter"
           }
          ],
          "scatter3d": [
           {
            "line": {
             "colorbar": {
              "outlinewidth": 0,
              "ticks": ""
             }
            },
            "marker": {
             "colorbar": {
              "outlinewidth": 0,
              "ticks": ""
             }
            },
            "type": "scatter3d"
           }
          ],
          "scattercarpet": [
           {
            "marker": {
             "colorbar": {
              "outlinewidth": 0,
              "ticks": ""
             }
            },
            "type": "scattercarpet"
           }
          ],
          "scattergeo": [
           {
            "marker": {
             "colorbar": {
              "outlinewidth": 0,
              "ticks": ""
             }
            },
            "type": "scattergeo"
           }
          ],
          "scattergl": [
           {
            "marker": {
             "colorbar": {
              "outlinewidth": 0,
              "ticks": ""
             }
            },
            "type": "scattergl"
           }
          ],
          "scattermapbox": [
           {
            "marker": {
             "colorbar": {
              "outlinewidth": 0,
              "ticks": ""
             }
            },
            "type": "scattermapbox"
           }
          ],
          "scatterpolar": [
           {
            "marker": {
             "colorbar": {
              "outlinewidth": 0,
              "ticks": ""
             }
            },
            "type": "scatterpolar"
           }
          ],
          "scatterpolargl": [
           {
            "marker": {
             "colorbar": {
              "outlinewidth": 0,
              "ticks": ""
             }
            },
            "type": "scatterpolargl"
           }
          ],
          "scatterternary": [
           {
            "marker": {
             "colorbar": {
              "outlinewidth": 0,
              "ticks": ""
             }
            },
            "type": "scatterternary"
           }
          ],
          "surface": [
           {
            "colorbar": {
             "outlinewidth": 0,
             "ticks": ""
            },
            "colorscale": [
             [
              0,
              "#0d0887"
             ],
             [
              0.1111111111111111,
              "#46039f"
             ],
             [
              0.2222222222222222,
              "#7201a8"
             ],
             [
              0.3333333333333333,
              "#9c179e"
             ],
             [
              0.4444444444444444,
              "#bd3786"
             ],
             [
              0.5555555555555556,
              "#d8576b"
             ],
             [
              0.6666666666666666,
              "#ed7953"
             ],
             [
              0.7777777777777778,
              "#fb9f3a"
             ],
             [
              0.8888888888888888,
              "#fdca26"
             ],
             [
              1,
              "#f0f921"
             ]
            ],
            "type": "surface"
           }
          ],
          "table": [
           {
            "cells": {
             "fill": {
              "color": "#EBF0F8"
             },
             "line": {
              "color": "white"
             }
            },
            "header": {
             "fill": {
              "color": "#C8D4E3"
             },
             "line": {
              "color": "white"
             }
            },
            "type": "table"
           }
          ]
         },
         "layout": {
          "annotationdefaults": {
           "arrowcolor": "#2a3f5f",
           "arrowhead": 0,
           "arrowwidth": 1
          },
          "coloraxis": {
           "colorbar": {
            "outlinewidth": 0,
            "ticks": ""
           }
          },
          "colorscale": {
           "diverging": [
            [
             0,
             "#8e0152"
            ],
            [
             0.1,
             "#c51b7d"
            ],
            [
             0.2,
             "#de77ae"
            ],
            [
             0.3,
             "#f1b6da"
            ],
            [
             0.4,
             "#fde0ef"
            ],
            [
             0.5,
             "#f7f7f7"
            ],
            [
             0.6,
             "#e6f5d0"
            ],
            [
             0.7,
             "#b8e186"
            ],
            [
             0.8,
             "#7fbc41"
            ],
            [
             0.9,
             "#4d9221"
            ],
            [
             1,
             "#276419"
            ]
           ],
           "sequential": [
            [
             0,
             "#0d0887"
            ],
            [
             0.1111111111111111,
             "#46039f"
            ],
            [
             0.2222222222222222,
             "#7201a8"
            ],
            [
             0.3333333333333333,
             "#9c179e"
            ],
            [
             0.4444444444444444,
             "#bd3786"
            ],
            [
             0.5555555555555556,
             "#d8576b"
            ],
            [
             0.6666666666666666,
             "#ed7953"
            ],
            [
             0.7777777777777778,
             "#fb9f3a"
            ],
            [
             0.8888888888888888,
             "#fdca26"
            ],
            [
             1,
             "#f0f921"
            ]
           ],
           "sequentialminus": [
            [
             0,
             "#0d0887"
            ],
            [
             0.1111111111111111,
             "#46039f"
            ],
            [
             0.2222222222222222,
             "#7201a8"
            ],
            [
             0.3333333333333333,
             "#9c179e"
            ],
            [
             0.4444444444444444,
             "#bd3786"
            ],
            [
             0.5555555555555556,
             "#d8576b"
            ],
            [
             0.6666666666666666,
             "#ed7953"
            ],
            [
             0.7777777777777778,
             "#fb9f3a"
            ],
            [
             0.8888888888888888,
             "#fdca26"
            ],
            [
             1,
             "#f0f921"
            ]
           ]
          },
          "colorway": [
           "#636efa",
           "#EF553B",
           "#00cc96",
           "#ab63fa",
           "#FFA15A",
           "#19d3f3",
           "#FF6692",
           "#B6E880",
           "#FF97FF",
           "#FECB52"
          ],
          "font": {
           "color": "#2a3f5f"
          },
          "geo": {
           "bgcolor": "white",
           "lakecolor": "white",
           "landcolor": "#E5ECF6",
           "showlakes": true,
           "showland": true,
           "subunitcolor": "white"
          },
          "hoverlabel": {
           "align": "left"
          },
          "hovermode": "closest",
          "mapbox": {
           "style": "light"
          },
          "paper_bgcolor": "white",
          "plot_bgcolor": "#E5ECF6",
          "polar": {
           "angularaxis": {
            "gridcolor": "white",
            "linecolor": "white",
            "ticks": ""
           },
           "bgcolor": "#E5ECF6",
           "radialaxis": {
            "gridcolor": "white",
            "linecolor": "white",
            "ticks": ""
           }
          },
          "scene": {
           "xaxis": {
            "backgroundcolor": "#E5ECF6",
            "gridcolor": "white",
            "gridwidth": 2,
            "linecolor": "white",
            "showbackground": true,
            "ticks": "",
            "zerolinecolor": "white"
           },
           "yaxis": {
            "backgroundcolor": "#E5ECF6",
            "gridcolor": "white",
            "gridwidth": 2,
            "linecolor": "white",
            "showbackground": true,
            "ticks": "",
            "zerolinecolor": "white"
           },
           "zaxis": {
            "backgroundcolor": "#E5ECF6",
            "gridcolor": "white",
            "gridwidth": 2,
            "linecolor": "white",
            "showbackground": true,
            "ticks": "",
            "zerolinecolor": "white"
           }
          },
          "shapedefaults": {
           "line": {
            "color": "#2a3f5f"
           }
          },
          "ternary": {
           "aaxis": {
            "gridcolor": "white",
            "linecolor": "white",
            "ticks": ""
           },
           "baxis": {
            "gridcolor": "white",
            "linecolor": "white",
            "ticks": ""
           },
           "bgcolor": "#E5ECF6",
           "caxis": {
            "gridcolor": "white",
            "linecolor": "white",
            "ticks": ""
           }
          },
          "title": {
           "x": 0.05
          },
          "xaxis": {
           "automargin": true,
           "gridcolor": "white",
           "linecolor": "white",
           "ticks": "",
           "title": {
            "standoff": 15
           },
           "zerolinecolor": "white",
           "zerolinewidth": 2
          },
          "yaxis": {
           "automargin": true,
           "gridcolor": "white",
           "linecolor": "white",
           "ticks": "",
           "title": {
            "standoff": 15
           },
           "zerolinecolor": "white",
           "zerolinewidth": 2
          }
         }
        },
        "title": {
         "text": "Wordwide Homicide"
        }
       }
      },
      "text/html": [
       "<div>                            <div id=\"86e160d4-a0af-46b5-8259-9f8115a45b6a\" class=\"plotly-graph-div\" style=\"height:525px; width:100%;\"></div>            <script type=\"text/javascript\">                require([\"plotly\"], function(Plotly) {                    window.PLOTLYENV=window.PLOTLYENV || {};                                    if (document.getElementById(\"86e160d4-a0af-46b5-8259-9f8115a45b6a\")) {                    Plotly.newPlot(                        \"86e160d4-a0af-46b5-8259-9f8115a45b6a\",                        [{\"colorbar\": {\"title\": {\"text\": \"Homicide\"}}, \"locations\": [\"ALB\", \"AGO\", \"DZA\", \"AUT\", \"AUS\", \"AZE\", \"ARG\", \"BGD\", \"ARM\", \"BHR\", \"BHS\", \"BLR\", \"BEL\", \"BLZ\", \"BTN\", \"BRD\", \"BOL\", \"BEN\", \"BIH\", \"BWA\", \"BRA\", \"BRN\", \"BGR\", \"BFA\", \"BDI\", \"KHM\", \"CMR\", \"CAN\", \"CPV\", \"TCD\", \"CHN\", \"CHL\", \"COL\", \"CAF\", \"COD\", \"COG\", \"HRV\", \"CRI\", \"CIV\", \"CYP\", \"CZE\", \"DOM\", \"DNK\", \"ECU\", \"SLV\", \"EGY\", \"EST\", \"SWZ\", \"ETH\", \"FIN\", \"FJI\", \"FRA\", \"GMB\", \"GAB\", \"DEU\", \"GEO\", \"GHA\", \"GRC\", \"GTM\", \"GIN\", \"GNB\", \"GUY\", \"HTI\", \"HND\", \"HUN\", \"HKG\", \"ISL\", \"IND\", \"IRL\", \"ITA\", \"IRQ\", \"ISR\", \"JAM\", \"IRN\", \"IDN\", \"JPN\", \"KAZ\", \"JOR\", \"KOR\", \"KGZ\", \"KEN\", \"LAO\", \"KWT\", \"LBN\", \"LSO\", \"LBR\", \"MDA\", \"MNG\", \"MUS\", \"MEX\", \"MOZ\", \"MNE\", \"MAR\", \"LUX\", \"LBY\", \"LTU\", \"LVA\", \"NPL\", \"NZL\", \"MDG\", \"NIC\", \"NER\", \"MMR\", \"NAM\", \"NGA\", \"MWI\", \"MKD\", \"NOR\", \"MLI\", \"NLD\", \"OMN\", \"MYS\", \"PAN\", \"PAK\", \"MLT\", \"PNG\", \"MRT\", \"PRY\", \"PHL\", \"PER\", \"POL\", \"PRT\", \"ROU\", \"QAT\", \"RUS\", \"SAU\", \"RWA\", \"SEN\", \"SLE\", \"SYC\", \"SRB\", \"SGP\", \"SVK\", \"SVN\", \"ZAF\", \"SDN\", \"ESP\", \"LKA\", \"SUR\", \"CHE\", \"SWE\", \"TWN\", \"SYR\", \"TLS\", \"TGO\", \"TJK\", \"TZA\", \"THA\", \"TTO\", \"TUN\", \"TUR\", \"GBR\", \"UKR\", \"USA\", \"UGA\", \"ARE\", \"URY\", \"VEN\", \"YEM\", \"VNM\", \"ZMB\", \"ZWE\"], \"text\": [\"Albania\", \"Angola\", \"Algeria\", \"Austria\", \"Australia\", \"Azerbaijan\", \"Argentina\", \"Bangladesh\", \"Armenia\", \"Bahrain\", \"Bahamas\", \"Belarus\", \"Belgium\", \"Belize\", \"Bhutan\", \"Barbados\", \"Bolivia\", \"Benin\", \"Bosnia and Herzegovina\", \"Botswana\", \"Brazil\", \"Brunei Darussalam\", \"Bulgaria\", \"Burkina Faso\", \"Burundi\", \"Cambodia\", \"Cameroon\", \"Canada\", \"Cape Verde\", \"Chad\", \"China\", \"Chile\", \"Colombia\", \"Central Afr. Rep.\", \"Congo, Dem. R.\", \"Congo, Rep. Of\", \"Croatia\", \"Costa Rica\", \"C?te d'Ivoire\", \"Cyprus\", \"Czech Rep.\", \"Dominican Rep.\", \"Denmark\", \"Ecuador\", \"El Salvador\", \"Egypt\", \"Estonia\", \"Eswatini\", \"Ethiopia\", \"Finland\", \"Fiji\", \"France\", \"Gambia, The\", \"Gabon\", \"Germany\", \"Georgia\", \"Ghana\", \"Greece\", \"Guatemala\", \"Guinea\", \"GuineaBissau\", \"Guyana\", \"Haiti\", \"Honduras\", \"Hungary\", \"Hong Kong\", \"Iceland\", \"India\", \"Ireland\", \"Italy\", \"Iraq\", \"Israel\", \"Jamaica\", \"Iran\", \"Indonesia\", \"Japan\", \"Kazakhstan\", \"Jordan\", \"Korea, South\", \"Kyrgyz Republic\", \"Kenya\", \"Laos\", \"Kuwait\", \"Lebanon\", \"Lesotho\", \"Liberia\", \"Moldova\", \"Mongolia\", \"Mauritius\", \"Mexico\", \"Mozambique\", \"Montenegro\", \"Morocco\", \"Luxembourg\", \"Libya\", \"Lithuania\", \"Latvia\", \"Nepal\", \"New Zealand\", \"Madagascar\", \"Nicaragua\", \"Niger\", \"Myanmar\", \"Namibia\", \"Nigeria\", \"Malawi\", \"North Macedonia\", \"Norway\", \"Mali\", \"Netherlands\", \"Oman\", \"Malaysia\", \"Panama\", \"Pakistan\", \"Malta\", \"Pap. New Guinea\", \"Mauritania\", \"Paraguay\", \"Philippines\", \"Peru\", \"Poland\", \"Portugal\", \"Romania\", \"Qatar\", \"Russia\", \"Saudi Arabia\", \"Rwanda\", \"Senegal\", \"Sierra Leone\", \"Seychelles\", \"Serbia\", \"Singapore\", \"Slovak Rep.\", \"Slovenia\", \"South Africa\", \"Sudan\", \"Spain\", \"Sri Lanka\", \"Suriname\", \"Switzerland\", \"Sweden\", \"Taiwan\", \"Syria\", \"TimorLeste\", \"Togo\", \"Tajikistan\", \"Tanzania\", \"Thailand\", \"Trinidad and Tobago\", \"Tunisia\", \"Turkey\", \"United Kingdom\", \"Ukraine\", \"United States\", \"Uganda\", \"United Arab Emirates\", \"Uruguay\", \"Venezuela\", \"Yemen, Rep.\", \"Vietnam\", \"Zambia\", \"Zimbabwe\"], \"type\": \"choropleth\", \"z\": [0.9000000000000004, 1.9000000000000004, 0.5, 0.3000000000000007, 0.3000000000000007, 0.8000000000000007, 2.0, 0.9000000000000004, 1.0, 0.1999999999999993, 10.0, 1.4000000000000004, 0.6999999999999993, 10.0, 0.5999999999999996, 4.2, 2.5, 0.40000000000000036, 0.5, 6.0, 10.0, 0.1999999999999993, 0.5999999999999996, 0.5, 2.4000000000000004, 0.6999999999999993, 0.5999999999999996, 0.6999999999999993, 4.6, 3.5999999999999996, 0.1999999999999993, 1.6999999999999993, 10.0, 7.9, 5.4, 3.7, 0.40000000000000036, 4.9, 4.7, 0.1999999999999993, 0.1999999999999993, 4.5, 0.5, 2.3, 10.0, 1.0, 0.9000000000000004, 3.8, 3.0, 0.5, 0.9000000000000004, 0.5, 3.7, 3.2, 0.40000000000000036, 0.40000000000000036, 0.8000000000000007, 0.3000000000000007, 10.0, 3.5, 0.40000000000000036, 5.9, 3.8, 10.0, 1.0, 0.09999999999999964, 0.40000000000000036, 1.3000000000000007, 0.40000000000000036, 0.3000000000000007, 3.9000000000000004, 0.5, 10.0, 1.0, 0.1999999999999993, 0.09999999999999964, 2.0, 0.5999999999999996, 0.1999999999999993, 1.6999999999999993, 2.0, 2.8, 0.6999999999999993, 1.5999999999999996, 10.0, 1.3000000000000007, 1.3000000000000007, 2.5, 0.6999999999999993, 9.9, 1.4000000000000004, 1.0, 0.8000000000000007, 0.09999999999999964, 1.0, 1.8000000000000007, 1.3000000000000007, 0.9000000000000004, 0.3000000000000007, 3.0999999999999996, 2.9000000000000004, 1.8000000000000007, 0.9000000000000004, 6.9, 3.9000000000000004, 0.6999999999999993, 0.5999999999999996, 0.1999999999999993, 4.4, 0.3000000000000007, 0.1999999999999993, 0.8000000000000007, 3.9000000000000004, 1.6999999999999993, 0.40000000000000036, 4.0, 4.0, 3.5999999999999996, 3.4000000000000004, 3.0999999999999996, 0.3000000000000007, 0.3000000000000007, 0.5999999999999996, 0.1999999999999993, 3.7, 0.5, 1.0, 3.0, 0.6999999999999993, 5.1, 0.40000000000000036, 0.09999999999999964, 0.5999999999999996, 0.40000000000000036, 10.0, 2.0999999999999996, 0.3000000000000007, 0.9000000000000004, 2.2, 0.1999999999999993, 0.40000000000000036, 0.3000000000000007, 0.9000000000000004, 1.5999999999999996, 3.5999999999999996, 0.5999999999999996, 2.5, 1.3000000000000007, 10.0, 1.1999999999999993, 1.6999999999999993, 0.5, 2.5, 2.0999999999999996, 4.4, 0.40000000000000036, 3.3, 10.0, 2.7, 0.5999999999999996, 2.0999999999999996, 2.7]}],                        {\"geo\": {\"projection\": {\"type\": \"equirectangular\"}, \"showframe\": false}, \"template\": {\"data\": {\"bar\": [{\"error_x\": {\"color\": \"#2a3f5f\"}, \"error_y\": {\"color\": \"#2a3f5f\"}, \"marker\": {\"line\": {\"color\": \"#E5ECF6\", \"width\": 0.5}}, \"type\": \"bar\"}], \"barpolar\": [{\"marker\": {\"line\": {\"color\": \"#E5ECF6\", \"width\": 0.5}}, \"type\": \"barpolar\"}], \"carpet\": [{\"aaxis\": {\"endlinecolor\": \"#2a3f5f\", \"gridcolor\": \"white\", \"linecolor\": \"white\", \"minorgridcolor\": \"white\", \"startlinecolor\": \"#2a3f5f\"}, \"baxis\": {\"endlinecolor\": \"#2a3f5f\", \"gridcolor\": \"white\", \"linecolor\": \"white\", \"minorgridcolor\": \"white\", \"startlinecolor\": \"#2a3f5f\"}, \"type\": \"carpet\"}], \"choropleth\": [{\"colorbar\": {\"outlinewidth\": 0, \"ticks\": \"\"}, \"type\": \"choropleth\"}], \"contour\": [{\"colorbar\": {\"outlinewidth\": 0, \"ticks\": \"\"}, \"colorscale\": [[0.0, \"#0d0887\"], [0.1111111111111111, \"#46039f\"], [0.2222222222222222, \"#7201a8\"], [0.3333333333333333, \"#9c179e\"], [0.4444444444444444, \"#bd3786\"], [0.5555555555555556, \"#d8576b\"], [0.6666666666666666, \"#ed7953\"], [0.7777777777777778, \"#fb9f3a\"], [0.8888888888888888, \"#fdca26\"], [1.0, \"#f0f921\"]], \"type\": \"contour\"}], \"contourcarpet\": [{\"colorbar\": {\"outlinewidth\": 0, \"ticks\": \"\"}, \"type\": \"contourcarpet\"}], \"heatmap\": [{\"colorbar\": {\"outlinewidth\": 0, \"ticks\": \"\"}, \"colorscale\": [[0.0, \"#0d0887\"], [0.1111111111111111, \"#46039f\"], [0.2222222222222222, \"#7201a8\"], [0.3333333333333333, \"#9c179e\"], [0.4444444444444444, \"#bd3786\"], [0.5555555555555556, \"#d8576b\"], [0.6666666666666666, \"#ed7953\"], [0.7777777777777778, \"#fb9f3a\"], [0.8888888888888888, \"#fdca26\"], [1.0, \"#f0f921\"]], \"type\": \"heatmap\"}], \"heatmapgl\": [{\"colorbar\": {\"outlinewidth\": 0, \"ticks\": \"\"}, \"colorscale\": [[0.0, \"#0d0887\"], [0.1111111111111111, \"#46039f\"], [0.2222222222222222, \"#7201a8\"], [0.3333333333333333, \"#9c179e\"], [0.4444444444444444, \"#bd3786\"], [0.5555555555555556, \"#d8576b\"], [0.6666666666666666, \"#ed7953\"], [0.7777777777777778, \"#fb9f3a\"], [0.8888888888888888, \"#fdca26\"], [1.0, \"#f0f921\"]], \"type\": \"heatmapgl\"}], \"histogram\": [{\"marker\": {\"colorbar\": {\"outlinewidth\": 0, \"ticks\": \"\"}}, \"type\": \"histogram\"}], \"histogram2d\": [{\"colorbar\": {\"outlinewidth\": 0, \"ticks\": \"\"}, \"colorscale\": [[0.0, \"#0d0887\"], [0.1111111111111111, \"#46039f\"], [0.2222222222222222, \"#7201a8\"], [0.3333333333333333, \"#9c179e\"], [0.4444444444444444, \"#bd3786\"], [0.5555555555555556, \"#d8576b\"], [0.6666666666666666, \"#ed7953\"], [0.7777777777777778, \"#fb9f3a\"], [0.8888888888888888, \"#fdca26\"], [1.0, \"#f0f921\"]], \"type\": \"histogram2d\"}], \"histogram2dcontour\": [{\"colorbar\": {\"outlinewidth\": 0, \"ticks\": \"\"}, \"colorscale\": [[0.0, \"#0d0887\"], [0.1111111111111111, \"#46039f\"], [0.2222222222222222, \"#7201a8\"], [0.3333333333333333, \"#9c179e\"], [0.4444444444444444, \"#bd3786\"], [0.5555555555555556, \"#d8576b\"], [0.6666666666666666, \"#ed7953\"], [0.7777777777777778, \"#fb9f3a\"], [0.8888888888888888, \"#fdca26\"], [1.0, \"#f0f921\"]], \"type\": \"histogram2dcontour\"}], \"mesh3d\": [{\"colorbar\": {\"outlinewidth\": 0, \"ticks\": \"\"}, \"type\": \"mesh3d\"}], \"parcoords\": [{\"line\": {\"colorbar\": {\"outlinewidth\": 0, \"ticks\": \"\"}}, \"type\": \"parcoords\"}], \"pie\": [{\"automargin\": true, \"type\": \"pie\"}], \"scatter\": [{\"marker\": {\"colorbar\": {\"outlinewidth\": 0, \"ticks\": \"\"}}, \"type\": \"scatter\"}], \"scatter3d\": [{\"line\": {\"colorbar\": {\"outlinewidth\": 0, \"ticks\": \"\"}}, \"marker\": {\"colorbar\": {\"outlinewidth\": 0, \"ticks\": \"\"}}, \"type\": \"scatter3d\"}], \"scattercarpet\": [{\"marker\": {\"colorbar\": {\"outlinewidth\": 0, \"ticks\": \"\"}}, \"type\": \"scattercarpet\"}], \"scattergeo\": [{\"marker\": {\"colorbar\": {\"outlinewidth\": 0, \"ticks\": \"\"}}, \"type\": \"scattergeo\"}], \"scattergl\": [{\"marker\": {\"colorbar\": {\"outlinewidth\": 0, \"ticks\": \"\"}}, \"type\": \"scattergl\"}], \"scattermapbox\": [{\"marker\": {\"colorbar\": {\"outlinewidth\": 0, \"ticks\": \"\"}}, \"type\": \"scattermapbox\"}], \"scatterpolar\": [{\"marker\": {\"colorbar\": {\"outlinewidth\": 0, \"ticks\": \"\"}}, \"type\": \"scatterpolar\"}], \"scatterpolargl\": [{\"marker\": {\"colorbar\": {\"outlinewidth\": 0, \"ticks\": \"\"}}, \"type\": \"scatterpolargl\"}], \"scatterternary\": [{\"marker\": {\"colorbar\": {\"outlinewidth\": 0, \"ticks\": \"\"}}, \"type\": \"scatterternary\"}], \"surface\": [{\"colorbar\": {\"outlinewidth\": 0, \"ticks\": \"\"}, \"colorscale\": [[0.0, \"#0d0887\"], [0.1111111111111111, \"#46039f\"], [0.2222222222222222, \"#7201a8\"], [0.3333333333333333, \"#9c179e\"], [0.4444444444444444, \"#bd3786\"], [0.5555555555555556, \"#d8576b\"], [0.6666666666666666, \"#ed7953\"], [0.7777777777777778, \"#fb9f3a\"], [0.8888888888888888, \"#fdca26\"], [1.0, \"#f0f921\"]], \"type\": \"surface\"}], \"table\": [{\"cells\": {\"fill\": {\"color\": \"#EBF0F8\"}, \"line\": {\"color\": \"white\"}}, \"header\": {\"fill\": {\"color\": \"#C8D4E3\"}, \"line\": {\"color\": \"white\"}}, \"type\": \"table\"}]}, \"layout\": {\"annotationdefaults\": {\"arrowcolor\": \"#2a3f5f\", \"arrowhead\": 0, \"arrowwidth\": 1}, \"coloraxis\": {\"colorbar\": {\"outlinewidth\": 0, \"ticks\": \"\"}}, \"colorscale\": {\"diverging\": [[0, \"#8e0152\"], [0.1, \"#c51b7d\"], [0.2, \"#de77ae\"], [0.3, \"#f1b6da\"], [0.4, \"#fde0ef\"], [0.5, \"#f7f7f7\"], [0.6, \"#e6f5d0\"], [0.7, \"#b8e186\"], [0.8, \"#7fbc41\"], [0.9, \"#4d9221\"], [1, \"#276419\"]], \"sequential\": [[0.0, \"#0d0887\"], [0.1111111111111111, \"#46039f\"], [0.2222222222222222, \"#7201a8\"], [0.3333333333333333, \"#9c179e\"], [0.4444444444444444, \"#bd3786\"], [0.5555555555555556, \"#d8576b\"], [0.6666666666666666, \"#ed7953\"], [0.7777777777777778, \"#fb9f3a\"], [0.8888888888888888, \"#fdca26\"], [1.0, \"#f0f921\"]], \"sequentialminus\": [[0.0, \"#0d0887\"], [0.1111111111111111, \"#46039f\"], [0.2222222222222222, \"#7201a8\"], [0.3333333333333333, \"#9c179e\"], [0.4444444444444444, \"#bd3786\"], [0.5555555555555556, \"#d8576b\"], [0.6666666666666666, \"#ed7953\"], [0.7777777777777778, \"#fb9f3a\"], [0.8888888888888888, \"#fdca26\"], [1.0, \"#f0f921\"]]}, \"colorway\": [\"#636efa\", \"#EF553B\", \"#00cc96\", \"#ab63fa\", \"#FFA15A\", \"#19d3f3\", \"#FF6692\", \"#B6E880\", \"#FF97FF\", \"#FECB52\"], \"font\": {\"color\": \"#2a3f5f\"}, \"geo\": {\"bgcolor\": \"white\", \"lakecolor\": \"white\", \"landcolor\": \"#E5ECF6\", \"showlakes\": true, \"showland\": true, \"subunitcolor\": \"white\"}, \"hoverlabel\": {\"align\": \"left\"}, \"hovermode\": \"closest\", \"mapbox\": {\"style\": \"light\"}, \"paper_bgcolor\": \"white\", \"plot_bgcolor\": \"#E5ECF6\", \"polar\": {\"angularaxis\": {\"gridcolor\": \"white\", \"linecolor\": \"white\", \"ticks\": \"\"}, \"bgcolor\": \"#E5ECF6\", \"radialaxis\": {\"gridcolor\": \"white\", \"linecolor\": \"white\", \"ticks\": \"\"}}, \"scene\": {\"xaxis\": {\"backgroundcolor\": \"#E5ECF6\", \"gridcolor\": \"white\", \"gridwidth\": 2, \"linecolor\": \"white\", \"showbackground\": true, \"ticks\": \"\", \"zerolinecolor\": \"white\"}, \"yaxis\": {\"backgroundcolor\": \"#E5ECF6\", \"gridcolor\": \"white\", \"gridwidth\": 2, \"linecolor\": \"white\", \"showbackground\": true, \"ticks\": \"\", \"zerolinecolor\": \"white\"}, \"zaxis\": {\"backgroundcolor\": \"#E5ECF6\", \"gridcolor\": \"white\", \"gridwidth\": 2, \"linecolor\": \"white\", \"showbackground\": true, \"ticks\": \"\", \"zerolinecolor\": \"white\"}}, \"shapedefaults\": {\"line\": {\"color\": \"#2a3f5f\"}}, \"ternary\": {\"aaxis\": {\"gridcolor\": \"white\", \"linecolor\": \"white\", \"ticks\": \"\"}, \"baxis\": {\"gridcolor\": \"white\", \"linecolor\": \"white\", \"ticks\": \"\"}, \"bgcolor\": \"#E5ECF6\", \"caxis\": {\"gridcolor\": \"white\", \"linecolor\": \"white\", \"ticks\": \"\"}}, \"title\": {\"x\": 0.05}, \"xaxis\": {\"automargin\": true, \"gridcolor\": \"white\", \"linecolor\": \"white\", \"ticks\": \"\", \"title\": {\"standoff\": 15}, \"zerolinecolor\": \"white\", \"zerolinewidth\": 2}, \"yaxis\": {\"automargin\": true, \"gridcolor\": \"white\", \"linecolor\": \"white\", \"ticks\": \"\", \"title\": {\"standoff\": 15}, \"zerolinecolor\": \"white\", \"zerolinewidth\": 2}}}, \"title\": {\"text\": \"Wordwide Homicide\"}},                        {\"responsive\": true}                    ).then(function(){\n",
       "                            \n",
       "var gd = document.getElementById('86e160d4-a0af-46b5-8259-9f8115a45b6a');\n",
       "var x = new MutationObserver(function (mutations, observer) {{\n",
       "        var display = window.getComputedStyle(gd).display;\n",
       "        if (!display || display === 'none') {{\n",
       "            console.log([gd, 'removed!']);\n",
       "            Plotly.purge(gd);\n",
       "            observer.disconnect();\n",
       "        }}\n",
       "}});\n",
       "\n",
       "// Listen for the removal of the full notebook cells\n",
       "var notebookContainer = gd.closest('#notebook-container');\n",
       "if (notebookContainer) {{\n",
       "    x.observe(notebookContainer, {childList: true});\n",
       "}}\n",
       "\n",
       "// Listen for the clearing of the current output cell\n",
       "var outputEl = gd.closest('.output');\n",
       "if (outputEl) {{\n",
       "    x.observe(outputEl, {childList: true});\n",
       "}}\n",
       "\n",
       "                        })                };                });            </script>        </div>"
      ]
     },
     "metadata": {},
     "output_type": "display_data"
    }
   ],
   "source": [
    "iplot(choromap3)"
   ]
  },
  {
   "cell_type": "markdown",
   "metadata": {},
   "source": [
    "# Military Expenditure 2017"
   ]
  },
  {
   "cell_type": "code",
   "execution_count": 112,
   "metadata": {},
   "outputs": [],
   "source": [
    "cur = db.milExProp.find({'2017':{'$exists':'true'}},{'_id':0, 'Country':1, 'Code':1, '2017':1})"
   ]
  },
  {
   "cell_type": "code",
   "execution_count": 113,
   "metadata": {},
   "outputs": [
    {
     "name": "stderr",
     "output_type": "stream",
     "text": [
      "<ipython-input-113-80434c129892>:2: DeprecationWarning:\n",
      "\n",
      "count is deprecated. Use Collection.count_documents instead.\n",
      "\n"
     ]
    }
   ],
   "source": [
    "df = pd.DataFrame()\n",
    "for i in range(cur.count()):\n",
    "    temp = cur.next()\n",
    "    df = df.append([[temp['Country'],temp['Code'],(temp['2017'])]])"
   ]
  },
  {
   "cell_type": "code",
   "execution_count": 114,
   "metadata": {},
   "outputs": [],
   "source": [
    "df = df.rename(columns = {0:'Country', 1:'ISO', 2:'milEx/gdp'})"
   ]
  },
  {
   "cell_type": "code",
   "execution_count": 116,
   "metadata": {},
   "outputs": [],
   "source": [
    "data = dict(type = 'choropleth',\n",
    "           locations = df['ISO'],\n",
    "           z = df['milEx/gdp'],\n",
    "           text = df['Country'],\n",
    "           colorbar = {'title':'Proportion of GDP'})"
   ]
  },
  {
   "cell_type": "code",
   "execution_count": 120,
   "metadata": {},
   "outputs": [],
   "source": [
    "layout = dict(title = '2017 Military Expenditure as a Proportion of GDP',\n",
    "             geo = dict(showframe = False,\n",
    "             projection = {'type':\"equirectangular\"}))"
   ]
  },
  {
   "cell_type": "code",
   "execution_count": 118,
   "metadata": {},
   "outputs": [],
   "source": [
    "choromap3 = go.Figure(data=[data],layout = layout)"
   ]
  },
  {
   "cell_type": "code",
   "execution_count": 119,
   "metadata": {
    "scrolled": true
   },
   "outputs": [
    {
     "data": {
      "application/vnd.plotly.v1+json": {
       "config": {
        "linkText": "Export to plot.ly",
        "plotlyServerURL": "https://plot.ly",
        "showLink": false
       },
       "data": [
        {
         "colorbar": {
          "title": {
           "text": "Proportion of GDP"
          }
         },
         "locations": [
          "AFG",
          "AGO",
          "ARM",
          "ARB",
          "ARG",
          "ALB",
          "AUS",
          "AUT",
          "AZE",
          "BEL",
          "BDI",
          "BEN",
          "BGD",
          "BFA",
          "BIH",
          "BGR",
          "BHR",
          "BLR",
          "BLZ",
          "BOL",
          "BRA",
          "BRN",
          "BWA",
          "CAF",
          "CAN",
          "CEB",
          "CHE",
          "CHN",
          "CHL",
          "CIV",
          "COG",
          "COD",
          "CMR",
          "COL",
          "CUB",
          "CPV",
          "CSS",
          "CRI",
          "CZE",
          "CYP",
          "DEU",
          "DOM",
          "DNK",
          "DZA",
          "EAP",
          "EAR",
          "EAS",
          "ECS",
          "ECA",
          "EGY",
          "ECU",
          "EMU",
          "EST",
          "ESP",
          "ETH",
          "FCS",
          "EUU",
          "FIN",
          "FJI",
          "FRA",
          "GEO",
          "GAB",
          "GBR",
          "GHA",
          "GIN",
          "GRC",
          "GTM",
          "GUY",
          "HIC",
          "HND",
          "HRV",
          "HPC",
          "HTI",
          "HUN",
          "IBD",
          "IBT",
          "IDN",
          "IDA",
          "IDX",
          "IDB",
          "IND",
          "IRL",
          "IRQ",
          "ISL",
          "IRN",
          "ITA",
          "ISR",
          "JAM",
          "JOR",
          "JPN",
          "KAZ",
          "KEN",
          "KGZ",
          "KHM",
          "KOR",
          "KWT",
          "LAC",
          "LBR",
          "LBN",
          "LCN",
          "LDC",
          "LIC",
          "LKA",
          "LMY",
          "LSO",
          "LMC",
          "LTE",
          "LVA",
          "LUX",
          "LTU",
          "MAR",
          "MDA",
          "MDG",
          "MEX",
          "MEA",
          "MIC",
          "MKD",
          "MLI",
          "MMR",
          "MLT",
          "MNA",
          "MNE",
          "MNG",
          "MOZ",
          "MRT",
          "MUS",
          "MYS",
          "MWI",
          "NAM",
          "NAC",
          "NER",
          "NGA",
          "NIC",
          "NLD",
          "NPL",
          "NOR",
          "OMN",
          "OED",
          "NZL",
          "PAK",
          "PAN",
          "PHL",
          "PER",
          "PNG",
          "POL",
          "PRE",
          "PRT",
          "PRY",
          "ROU",
          "PST",
          "RWA",
          "RUS",
          "SAS",
          "SEN",
          "SDN",
          "SAU",
          "SGP",
          "SLV",
          "SLE",
          "SSA",
          "SRB",
          "SSF",
          "SVK",
          "SVN",
          "SWE",
          "SWZ",
          "SYC",
          "TEC",
          "TCD",
          "THA",
          "TGO",
          "TEA",
          "TLS",
          "TLA",
          "TMN",
          "TSS",
          "TSA",
          "TTO",
          "TUR",
          "TUN",
          "TZA",
          "UKR",
          "UGA",
          "UMC",
          "USA",
          "URY",
          "VNM",
          "WLD",
          "XKX",
          "ZAF",
          "ZMB",
          "ZWE"
         ],
         "text": [
          "Afghanistan",
          "Angola",
          "Armenia",
          "Arab World",
          "Argentina",
          "Albania",
          "Australia",
          "Austria",
          "Azerbaijan",
          "Belgium",
          "Burundi",
          "Benin",
          "Bangladesh",
          "Burkina Faso",
          "Bosnia and Herzegovina",
          "Bulgaria",
          "Bahrain",
          "Belarus",
          "Belize",
          "Bolivia",
          "Brazil",
          "Brunei Darussalam",
          "Botswana",
          "Central African Republic",
          "Canada",
          "Central Europe and the Baltics",
          "Switzerland",
          "China",
          "Chile",
          "Cote d'Ivoire",
          "Congo, Rep.",
          "Congo, Dem. Rep.",
          "Cameroon",
          "Colombia",
          "Cuba",
          "Cabo Verde",
          "Caribbean small states",
          "Costa Rica",
          "Czech Republic",
          "Cyprus",
          "Germany",
          "Dominican Republic",
          "Denmark",
          "Algeria",
          "East Asia & Pacific (excluding high income)",
          "Early-demographic dividend",
          "East Asia & Pacific",
          "Europe & Central Asia",
          "Europe & Central Asia (excluding high income)",
          "Egypt, Arab Rep.",
          "Ecuador",
          "Euro area",
          "Estonia",
          "Spain",
          "Ethiopia",
          "Fragile and conflict affected situations",
          "European Union",
          "Finland",
          "Fiji",
          "France",
          "Georgia",
          "Gabon",
          "United Kingdom",
          "Ghana",
          "Guinea",
          "Greece",
          "Guatemala",
          "Guyana",
          "High income",
          "Honduras",
          "Croatia",
          "Heavily indebted poor countries (HIPC)",
          "Haiti",
          "Hungary",
          "IBRD only",
          "IDA & IBRD total",
          "Indonesia",
          "IDA total",
          "IDA only",
          "IDA blend",
          "India",
          "Ireland",
          "Iraq",
          "Iceland",
          "Iran, Islamic Rep.",
          "Italy",
          "Israel",
          "Jamaica",
          "Jordan",
          "Japan",
          "Kazakhstan",
          "Kenya",
          "Kyrgyz Republic",
          "Cambodia",
          "Korea, Rep.",
          "Kuwait",
          "Latin America & Caribbean (excluding high income)",
          "Liberia",
          "Lebanon",
          "Latin America & Caribbean",
          "Least developed countries: UN classification",
          "Low income",
          "Sri Lanka",
          "Low & middle income",
          "Lesotho",
          "Lower middle income",
          "Late-demographic dividend",
          "Latvia",
          "Luxembourg",
          "Lithuania",
          "Morocco",
          "Moldova",
          "Madagascar",
          "Mexico",
          "Middle East & North Africa",
          "Middle income",
          "North Macedonia",
          "Mali",
          "Myanmar",
          "Malta",
          "Middle East & North Africa (excluding high income)",
          "Montenegro",
          "Mongolia",
          "Mozambique",
          "Mauritania",
          "Mauritius",
          "Malaysia",
          "Malawi",
          "Namibia",
          "North America",
          "Niger",
          "Nigeria",
          "Nicaragua",
          "Netherlands",
          "Nepal",
          "Norway",
          "Oman",
          "OECD members",
          "New Zealand",
          "Pakistan",
          "Panama",
          "Philippines",
          "Peru",
          "Papua New Guinea",
          "Poland",
          "Pre-demographic dividend",
          "Portugal",
          "Paraguay",
          "Romania",
          "Post-demographic dividend",
          "Rwanda",
          "Russian Federation",
          "South Asia",
          "Senegal",
          "Sudan",
          "Saudi Arabia",
          "Singapore",
          "El Salvador",
          "Sierra Leone",
          "Sub-Saharan Africa (excluding high income)",
          "Serbia",
          "Sub-Saharan Africa",
          "Slovak Republic",
          "Slovenia",
          "Sweden",
          "Eswatini",
          "Seychelles",
          "Europe & Central Asia (IDA & IBRD countries)",
          "Chad",
          "Thailand",
          "Togo",
          "East Asia & Pacific (IDA & IBRD countries)",
          "Timor-Leste",
          "Latin America & the Caribbean (IDA & IBRD countries)",
          "Middle East & North Africa (IDA & IBRD countries)",
          "Sub-Saharan Africa (IDA & IBRD countries)",
          "South Asia (IDA & IBRD)",
          "Trinidad and Tobago",
          "Turkey",
          "Tunisia",
          "Tanzania",
          "Ukraine",
          "Uganda",
          "Upper middle income",
          "United States",
          "Uruguay",
          "Vietnam",
          "World",
          "Kosovo",
          "South Africa",
          "Zambia",
          "Zimbabwe"
         ],
         "type": "choropleth",
         "z": [
          0.009479466534836167,
          0.025080061002623364,
          0.03848293279653846,
          0.04734444538686013,
          0.008494910223313456,
          0.011089561305318093,
          0.020818260297500682,
          0.0075023618398576564,
          0.037411933977895245,
          0.008901850916122557,
          0.02014589791462636,
          0.009143907998285131,
          0.014392666795196147,
          0.013483917547599204,
          0.009106027357283789,
          0.013981090224940203,
          0.043268072098137336,
          0.011532699893465424,
          0.01277183382336927,
          0.01530501125240343,
          0.01419556408736987,
          0.02858705530884606,
          0.030015184646329397,
          0.013277806438737187,
          0.012936332718845766,
          0.015098260289968064,
          0.006806968494511903,
          0.01852091237890097,
          0.019383201642836575,
          0.009722749263960715,
          0.04116541897541965,
          0.007765433378044937,
          0.01165855955236378,
          0.03212104011902466,
          0.00126537587634614,
          0.005285598225870672,
          0.006143254459395906,
          0,
          0.009622935238408459,
          0.015786346813452687,
          0.0123797454926913,
          0.006663634410197463,
          0.011426345868532424,
          0.06017923553365057,
          0.017390586982756962,
          0.022325563399416673,
          0.0162240583228565,
          0.016773345054382677,
          0.03160606456518976,
          0.011750004946621075,
          0.02361263383584672,
          0.01446011082759797,
          0.02000961334570374,
          0.012223162854619286,
          0.006153275053011053,
          0.012548724616266813,
          0.017440624851689405,
          0.013444394738369187,
          0.008537705492877707,
          0.023280918054385744,
          0.018976098018557864,
          0.017912922197596236,
          0.017415345893758195,
          0.0032056920114580654,
          0.01928266571088726,
          0.02502003207600606,
          0.0038403262540580856,
          0.016799291698637853,
          0.02197756510253532,
          0.017222343052474196,
          0.014177627664581053,
          0.01665084546280593,
          8.753613793670445e-06,
          0.010338547688675832,
          0.01892461022235776,
          0.01871269825761308,
          0.008052376383227363,
          0.015674991993938948,
          0.014763081941989702,
          0.016822765895438185,
          0.02433675289529789,
          0.0030538459674869034,
          0.03794070404967728,
          0,
          0.031281787523601265,
          0.013481468131433381,
          0.044108869483560915,
          0.009694870402791439,
          0.04764845597828629,
          0.00932572350113867,
          0.008336755017114283,
          0.012858668044420915,
          0.01577526080033484,
          0.02091385858002206,
          0.024121341234258967,
          0.05604169230183163,
          0.01088623035426732,
          0.004667237871162442,
          0.045936122269319014,
          0.010976213771313635,
          0.01855399083830298,
          0.009018042574595413,
          0.02134935899741844,
          0.018797042664333186,
          0.021866312950007308,
          0.021694860022477683,
          0.01946373028817009,
          0.01682654458849674,
          0.005572776195005825,
          0.017007188592490743,
          0.03154977534083468,
          0.0031675120200598834,
          0.005077754983953304,
          0.004993743328529135,
          0.044032263561359766,
          0.018985992130539656,
          0.009889976722382753,
          0.029833583466544418,
          0.03222761771358849,
          0.005038955590542804,
          0.030020967943891863,
          0.013535075536567147,
          0.007242864892992655,
          0.009707195283944434,
          0.021272714817908385,
          0.0017966993579232135,
          0.010957021508435676,
          0.0075225033335972686,
          0.03593559122240819,
          0.02965717659804304,
          0.017927886856858585,
          0.004314671058359808,
          0.006290860457522327,
          0.011489428345918247,
          0.016072114260424472,
          0.016229539445784053,
          0.09635503966005665,
          0.02089236037003722,
          0.011333869731092051,
          0.037631274524300554,
          0,
          0.011432485186729855,
          0.012633622068138431,
          0.003161802023775741,
          0.018751976547829105,
          0.01820080339990159,
          0.016473392304792302,
          0.008925646571413225,
          0.01710981015970824,
          0.021301260593713522,
          0.012505735967138268,
          0.042261040461835535,
          0.024522515089775074,
          0.014547201659582586,
          0.0965862297748148,
          0.10223848055029093,
          0.029823969136568595,
          0.010444689982065079,
          0.010583500673931795,
          0.013303957898429659,
          0.018170724361516368,
          0.013197424124068245,
          0.01098714768536703,
          0.009756598852056183,
          0.010215159828303013,
          0.01994456455230662,
          0.014600680998102945,
          0.027935629447514407,
          0.02190723727365336,
          0.013819753294551618,
          0.018343367747643585,
          0.01742383395723574,
          0.015805730732307562,
          0.011412699637875577,
          0.030333574087267584,
          0.013197424124068245,
          0.024522515089775074,
          0.009021959569338012,
          0.020903591972336967,
          0.021580329986055982,
          0.011463022815504747,
          0.03251228835898835,
          0.01127447079326272,
          0.01832837597630002,
          0.031100218172223363,
          0.01958186822266837,
          0.02267341396205158,
          0.020928439057976818,
          0.007902973141116014,
          0.010410223808897452,
          0.013130611792362367,
          0.015449548996004578
         ]
        }
       ],
       "layout": {
        "geo": {
         "projection": {
          "type": "equirectangular"
         },
         "showframe": false
        },
        "template": {
         "data": {
          "bar": [
           {
            "error_x": {
             "color": "#2a3f5f"
            },
            "error_y": {
             "color": "#2a3f5f"
            },
            "marker": {
             "line": {
              "color": "#E5ECF6",
              "width": 0.5
             }
            },
            "type": "bar"
           }
          ],
          "barpolar": [
           {
            "marker": {
             "line": {
              "color": "#E5ECF6",
              "width": 0.5
             }
            },
            "type": "barpolar"
           }
          ],
          "carpet": [
           {
            "aaxis": {
             "endlinecolor": "#2a3f5f",
             "gridcolor": "white",
             "linecolor": "white",
             "minorgridcolor": "white",
             "startlinecolor": "#2a3f5f"
            },
            "baxis": {
             "endlinecolor": "#2a3f5f",
             "gridcolor": "white",
             "linecolor": "white",
             "minorgridcolor": "white",
             "startlinecolor": "#2a3f5f"
            },
            "type": "carpet"
           }
          ],
          "choropleth": [
           {
            "colorbar": {
             "outlinewidth": 0,
             "ticks": ""
            },
            "type": "choropleth"
           }
          ],
          "contour": [
           {
            "colorbar": {
             "outlinewidth": 0,
             "ticks": ""
            },
            "colorscale": [
             [
              0,
              "#0d0887"
             ],
             [
              0.1111111111111111,
              "#46039f"
             ],
             [
              0.2222222222222222,
              "#7201a8"
             ],
             [
              0.3333333333333333,
              "#9c179e"
             ],
             [
              0.4444444444444444,
              "#bd3786"
             ],
             [
              0.5555555555555556,
              "#d8576b"
             ],
             [
              0.6666666666666666,
              "#ed7953"
             ],
             [
              0.7777777777777778,
              "#fb9f3a"
             ],
             [
              0.8888888888888888,
              "#fdca26"
             ],
             [
              1,
              "#f0f921"
             ]
            ],
            "type": "contour"
           }
          ],
          "contourcarpet": [
           {
            "colorbar": {
             "outlinewidth": 0,
             "ticks": ""
            },
            "type": "contourcarpet"
           }
          ],
          "heatmap": [
           {
            "colorbar": {
             "outlinewidth": 0,
             "ticks": ""
            },
            "colorscale": [
             [
              0,
              "#0d0887"
             ],
             [
              0.1111111111111111,
              "#46039f"
             ],
             [
              0.2222222222222222,
              "#7201a8"
             ],
             [
              0.3333333333333333,
              "#9c179e"
             ],
             [
              0.4444444444444444,
              "#bd3786"
             ],
             [
              0.5555555555555556,
              "#d8576b"
             ],
             [
              0.6666666666666666,
              "#ed7953"
             ],
             [
              0.7777777777777778,
              "#fb9f3a"
             ],
             [
              0.8888888888888888,
              "#fdca26"
             ],
             [
              1,
              "#f0f921"
             ]
            ],
            "type": "heatmap"
           }
          ],
          "heatmapgl": [
           {
            "colorbar": {
             "outlinewidth": 0,
             "ticks": ""
            },
            "colorscale": [
             [
              0,
              "#0d0887"
             ],
             [
              0.1111111111111111,
              "#46039f"
             ],
             [
              0.2222222222222222,
              "#7201a8"
             ],
             [
              0.3333333333333333,
              "#9c179e"
             ],
             [
              0.4444444444444444,
              "#bd3786"
             ],
             [
              0.5555555555555556,
              "#d8576b"
             ],
             [
              0.6666666666666666,
              "#ed7953"
             ],
             [
              0.7777777777777778,
              "#fb9f3a"
             ],
             [
              0.8888888888888888,
              "#fdca26"
             ],
             [
              1,
              "#f0f921"
             ]
            ],
            "type": "heatmapgl"
           }
          ],
          "histogram": [
           {
            "marker": {
             "colorbar": {
              "outlinewidth": 0,
              "ticks": ""
             }
            },
            "type": "histogram"
           }
          ],
          "histogram2d": [
           {
            "colorbar": {
             "outlinewidth": 0,
             "ticks": ""
            },
            "colorscale": [
             [
              0,
              "#0d0887"
             ],
             [
              0.1111111111111111,
              "#46039f"
             ],
             [
              0.2222222222222222,
              "#7201a8"
             ],
             [
              0.3333333333333333,
              "#9c179e"
             ],
             [
              0.4444444444444444,
              "#bd3786"
             ],
             [
              0.5555555555555556,
              "#d8576b"
             ],
             [
              0.6666666666666666,
              "#ed7953"
             ],
             [
              0.7777777777777778,
              "#fb9f3a"
             ],
             [
              0.8888888888888888,
              "#fdca26"
             ],
             [
              1,
              "#f0f921"
             ]
            ],
            "type": "histogram2d"
           }
          ],
          "histogram2dcontour": [
           {
            "colorbar": {
             "outlinewidth": 0,
             "ticks": ""
            },
            "colorscale": [
             [
              0,
              "#0d0887"
             ],
             [
              0.1111111111111111,
              "#46039f"
             ],
             [
              0.2222222222222222,
              "#7201a8"
             ],
             [
              0.3333333333333333,
              "#9c179e"
             ],
             [
              0.4444444444444444,
              "#bd3786"
             ],
             [
              0.5555555555555556,
              "#d8576b"
             ],
             [
              0.6666666666666666,
              "#ed7953"
             ],
             [
              0.7777777777777778,
              "#fb9f3a"
             ],
             [
              0.8888888888888888,
              "#fdca26"
             ],
             [
              1,
              "#f0f921"
             ]
            ],
            "type": "histogram2dcontour"
           }
          ],
          "mesh3d": [
           {
            "colorbar": {
             "outlinewidth": 0,
             "ticks": ""
            },
            "type": "mesh3d"
           }
          ],
          "parcoords": [
           {
            "line": {
             "colorbar": {
              "outlinewidth": 0,
              "ticks": ""
             }
            },
            "type": "parcoords"
           }
          ],
          "pie": [
           {
            "automargin": true,
            "type": "pie"
           }
          ],
          "scatter": [
           {
            "marker": {
             "colorbar": {
              "outlinewidth": 0,
              "ticks": ""
             }
            },
            "type": "scatter"
           }
          ],
          "scatter3d": [
           {
            "line": {
             "colorbar": {
              "outlinewidth": 0,
              "ticks": ""
             }
            },
            "marker": {
             "colorbar": {
              "outlinewidth": 0,
              "ticks": ""
             }
            },
            "type": "scatter3d"
           }
          ],
          "scattercarpet": [
           {
            "marker": {
             "colorbar": {
              "outlinewidth": 0,
              "ticks": ""
             }
            },
            "type": "scattercarpet"
           }
          ],
          "scattergeo": [
           {
            "marker": {
             "colorbar": {
              "outlinewidth": 0,
              "ticks": ""
             }
            },
            "type": "scattergeo"
           }
          ],
          "scattergl": [
           {
            "marker": {
             "colorbar": {
              "outlinewidth": 0,
              "ticks": ""
             }
            },
            "type": "scattergl"
           }
          ],
          "scattermapbox": [
           {
            "marker": {
             "colorbar": {
              "outlinewidth": 0,
              "ticks": ""
             }
            },
            "type": "scattermapbox"
           }
          ],
          "scatterpolar": [
           {
            "marker": {
             "colorbar": {
              "outlinewidth": 0,
              "ticks": ""
             }
            },
            "type": "scatterpolar"
           }
          ],
          "scatterpolargl": [
           {
            "marker": {
             "colorbar": {
              "outlinewidth": 0,
              "ticks": ""
             }
            },
            "type": "scatterpolargl"
           }
          ],
          "scatterternary": [
           {
            "marker": {
             "colorbar": {
              "outlinewidth": 0,
              "ticks": ""
             }
            },
            "type": "scatterternary"
           }
          ],
          "surface": [
           {
            "colorbar": {
             "outlinewidth": 0,
             "ticks": ""
            },
            "colorscale": [
             [
              0,
              "#0d0887"
             ],
             [
              0.1111111111111111,
              "#46039f"
             ],
             [
              0.2222222222222222,
              "#7201a8"
             ],
             [
              0.3333333333333333,
              "#9c179e"
             ],
             [
              0.4444444444444444,
              "#bd3786"
             ],
             [
              0.5555555555555556,
              "#d8576b"
             ],
             [
              0.6666666666666666,
              "#ed7953"
             ],
             [
              0.7777777777777778,
              "#fb9f3a"
             ],
             [
              0.8888888888888888,
              "#fdca26"
             ],
             [
              1,
              "#f0f921"
             ]
            ],
            "type": "surface"
           }
          ],
          "table": [
           {
            "cells": {
             "fill": {
              "color": "#EBF0F8"
             },
             "line": {
              "color": "white"
             }
            },
            "header": {
             "fill": {
              "color": "#C8D4E3"
             },
             "line": {
              "color": "white"
             }
            },
            "type": "table"
           }
          ]
         },
         "layout": {
          "annotationdefaults": {
           "arrowcolor": "#2a3f5f",
           "arrowhead": 0,
           "arrowwidth": 1
          },
          "coloraxis": {
           "colorbar": {
            "outlinewidth": 0,
            "ticks": ""
           }
          },
          "colorscale": {
           "diverging": [
            [
             0,
             "#8e0152"
            ],
            [
             0.1,
             "#c51b7d"
            ],
            [
             0.2,
             "#de77ae"
            ],
            [
             0.3,
             "#f1b6da"
            ],
            [
             0.4,
             "#fde0ef"
            ],
            [
             0.5,
             "#f7f7f7"
            ],
            [
             0.6,
             "#e6f5d0"
            ],
            [
             0.7,
             "#b8e186"
            ],
            [
             0.8,
             "#7fbc41"
            ],
            [
             0.9,
             "#4d9221"
            ],
            [
             1,
             "#276419"
            ]
           ],
           "sequential": [
            [
             0,
             "#0d0887"
            ],
            [
             0.1111111111111111,
             "#46039f"
            ],
            [
             0.2222222222222222,
             "#7201a8"
            ],
            [
             0.3333333333333333,
             "#9c179e"
            ],
            [
             0.4444444444444444,
             "#bd3786"
            ],
            [
             0.5555555555555556,
             "#d8576b"
            ],
            [
             0.6666666666666666,
             "#ed7953"
            ],
            [
             0.7777777777777778,
             "#fb9f3a"
            ],
            [
             0.8888888888888888,
             "#fdca26"
            ],
            [
             1,
             "#f0f921"
            ]
           ],
           "sequentialminus": [
            [
             0,
             "#0d0887"
            ],
            [
             0.1111111111111111,
             "#46039f"
            ],
            [
             0.2222222222222222,
             "#7201a8"
            ],
            [
             0.3333333333333333,
             "#9c179e"
            ],
            [
             0.4444444444444444,
             "#bd3786"
            ],
            [
             0.5555555555555556,
             "#d8576b"
            ],
            [
             0.6666666666666666,
             "#ed7953"
            ],
            [
             0.7777777777777778,
             "#fb9f3a"
            ],
            [
             0.8888888888888888,
             "#fdca26"
            ],
            [
             1,
             "#f0f921"
            ]
           ]
          },
          "colorway": [
           "#636efa",
           "#EF553B",
           "#00cc96",
           "#ab63fa",
           "#FFA15A",
           "#19d3f3",
           "#FF6692",
           "#B6E880",
           "#FF97FF",
           "#FECB52"
          ],
          "font": {
           "color": "#2a3f5f"
          },
          "geo": {
           "bgcolor": "white",
           "lakecolor": "white",
           "landcolor": "#E5ECF6",
           "showlakes": true,
           "showland": true,
           "subunitcolor": "white"
          },
          "hoverlabel": {
           "align": "left"
          },
          "hovermode": "closest",
          "mapbox": {
           "style": "light"
          },
          "paper_bgcolor": "white",
          "plot_bgcolor": "#E5ECF6",
          "polar": {
           "angularaxis": {
            "gridcolor": "white",
            "linecolor": "white",
            "ticks": ""
           },
           "bgcolor": "#E5ECF6",
           "radialaxis": {
            "gridcolor": "white",
            "linecolor": "white",
            "ticks": ""
           }
          },
          "scene": {
           "xaxis": {
            "backgroundcolor": "#E5ECF6",
            "gridcolor": "white",
            "gridwidth": 2,
            "linecolor": "white",
            "showbackground": true,
            "ticks": "",
            "zerolinecolor": "white"
           },
           "yaxis": {
            "backgroundcolor": "#E5ECF6",
            "gridcolor": "white",
            "gridwidth": 2,
            "linecolor": "white",
            "showbackground": true,
            "ticks": "",
            "zerolinecolor": "white"
           },
           "zaxis": {
            "backgroundcolor": "#E5ECF6",
            "gridcolor": "white",
            "gridwidth": 2,
            "linecolor": "white",
            "showbackground": true,
            "ticks": "",
            "zerolinecolor": "white"
           }
          },
          "shapedefaults": {
           "line": {
            "color": "#2a3f5f"
           }
          },
          "ternary": {
           "aaxis": {
            "gridcolor": "white",
            "linecolor": "white",
            "ticks": ""
           },
           "baxis": {
            "gridcolor": "white",
            "linecolor": "white",
            "ticks": ""
           },
           "bgcolor": "#E5ECF6",
           "caxis": {
            "gridcolor": "white",
            "linecolor": "white",
            "ticks": ""
           }
          },
          "title": {
           "x": 0.05
          },
          "xaxis": {
           "automargin": true,
           "gridcolor": "white",
           "linecolor": "white",
           "ticks": "",
           "title": {
            "standoff": 15
           },
           "zerolinecolor": "white",
           "zerolinewidth": 2
          },
          "yaxis": {
           "automargin": true,
           "gridcolor": "white",
           "linecolor": "white",
           "ticks": "",
           "title": {
            "standoff": 15
           },
           "zerolinecolor": "white",
           "zerolinewidth": 2
          }
         }
        },
        "title": {
         "text": "Military Expenditure as a Proportion of GDP"
        }
       }
      },
      "text/html": [
       "<div>                            <div id=\"e7b83915-07cb-495c-83fd-8e25f75e6f2a\" class=\"plotly-graph-div\" style=\"height:525px; width:100%;\"></div>            <script type=\"text/javascript\">                require([\"plotly\"], function(Plotly) {                    window.PLOTLYENV=window.PLOTLYENV || {};                                    if (document.getElementById(\"e7b83915-07cb-495c-83fd-8e25f75e6f2a\")) {                    Plotly.newPlot(                        \"e7b83915-07cb-495c-83fd-8e25f75e6f2a\",                        [{\"colorbar\": {\"title\": {\"text\": \"Proportion of GDP\"}}, \"locations\": [\"AFG\", \"AGO\", \"ARM\", \"ARB\", \"ARG\", \"ALB\", \"AUS\", \"AUT\", \"AZE\", \"BEL\", \"BDI\", \"BEN\", \"BGD\", \"BFA\", \"BIH\", \"BGR\", \"BHR\", \"BLR\", \"BLZ\", \"BOL\", \"BRA\", \"BRN\", \"BWA\", \"CAF\", \"CAN\", \"CEB\", \"CHE\", \"CHN\", \"CHL\", \"CIV\", \"COG\", \"COD\", \"CMR\", \"COL\", \"CUB\", \"CPV\", \"CSS\", \"CRI\", \"CZE\", \"CYP\", \"DEU\", \"DOM\", \"DNK\", \"DZA\", \"EAP\", \"EAR\", \"EAS\", \"ECS\", \"ECA\", \"EGY\", \"ECU\", \"EMU\", \"EST\", \"ESP\", \"ETH\", \"FCS\", \"EUU\", \"FIN\", \"FJI\", \"FRA\", \"GEO\", \"GAB\", \"GBR\", \"GHA\", \"GIN\", \"GRC\", \"GTM\", \"GUY\", \"HIC\", \"HND\", \"HRV\", \"HPC\", \"HTI\", \"HUN\", \"IBD\", \"IBT\", \"IDN\", \"IDA\", \"IDX\", \"IDB\", \"IND\", \"IRL\", \"IRQ\", \"ISL\", \"IRN\", \"ITA\", \"ISR\", \"JAM\", \"JOR\", \"JPN\", \"KAZ\", \"KEN\", \"KGZ\", \"KHM\", \"KOR\", \"KWT\", \"LAC\", \"LBR\", \"LBN\", \"LCN\", \"LDC\", \"LIC\", \"LKA\", \"LMY\", \"LSO\", \"LMC\", \"LTE\", \"LVA\", \"LUX\", \"LTU\", \"MAR\", \"MDA\", \"MDG\", \"MEX\", \"MEA\", \"MIC\", \"MKD\", \"MLI\", \"MMR\", \"MLT\", \"MNA\", \"MNE\", \"MNG\", \"MOZ\", \"MRT\", \"MUS\", \"MYS\", \"MWI\", \"NAM\", \"NAC\", \"NER\", \"NGA\", \"NIC\", \"NLD\", \"NPL\", \"NOR\", \"OMN\", \"OED\", \"NZL\", \"PAK\", \"PAN\", \"PHL\", \"PER\", \"PNG\", \"POL\", \"PRE\", \"PRT\", \"PRY\", \"ROU\", \"PST\", \"RWA\", \"RUS\", \"SAS\", \"SEN\", \"SDN\", \"SAU\", \"SGP\", \"SLV\", \"SLE\", \"SSA\", \"SRB\", \"SSF\", \"SVK\", \"SVN\", \"SWE\", \"SWZ\", \"SYC\", \"TEC\", \"TCD\", \"THA\", \"TGO\", \"TEA\", \"TLS\", \"TLA\", \"TMN\", \"TSS\", \"TSA\", \"TTO\", \"TUR\", \"TUN\", \"TZA\", \"UKR\", \"UGA\", \"UMC\", \"USA\", \"URY\", \"VNM\", \"WLD\", \"XKX\", \"ZAF\", \"ZMB\", \"ZWE\"], \"text\": [\"Afghanistan\", \"Angola\", \"Armenia\", \"Arab World\", \"Argentina\", \"Albania\", \"Australia\", \"Austria\", \"Azerbaijan\", \"Belgium\", \"Burundi\", \"Benin\", \"Bangladesh\", \"Burkina Faso\", \"Bosnia and Herzegovina\", \"Bulgaria\", \"Bahrain\", \"Belarus\", \"Belize\", \"Bolivia\", \"Brazil\", \"Brunei Darussalam\", \"Botswana\", \"Central African Republic\", \"Canada\", \"Central Europe and the Baltics\", \"Switzerland\", \"China\", \"Chile\", \"Cote d'Ivoire\", \"Congo, Rep.\", \"Congo, Dem. Rep.\", \"Cameroon\", \"Colombia\", \"Cuba\", \"Cabo Verde\", \"Caribbean small states\", \"Costa Rica\", \"Czech Republic\", \"Cyprus\", \"Germany\", \"Dominican Republic\", \"Denmark\", \"Algeria\", \"East Asia & Pacific (excluding high income)\", \"Early-demographic dividend\", \"East Asia & Pacific\", \"Europe & Central Asia\", \"Europe & Central Asia (excluding high income)\", \"Egypt, Arab Rep.\", \"Ecuador\", \"Euro area\", \"Estonia\", \"Spain\", \"Ethiopia\", \"Fragile and conflict affected situations\", \"European Union\", \"Finland\", \"Fiji\", \"France\", \"Georgia\", \"Gabon\", \"United Kingdom\", \"Ghana\", \"Guinea\", \"Greece\", \"Guatemala\", \"Guyana\", \"High income\", \"Honduras\", \"Croatia\", \"Heavily indebted poor countries (HIPC)\", \"Haiti\", \"Hungary\", \"IBRD only\", \"IDA & IBRD total\", \"Indonesia\", \"IDA total\", \"IDA only\", \"IDA blend\", \"India\", \"Ireland\", \"Iraq\", \"Iceland\", \"Iran, Islamic Rep.\", \"Italy\", \"Israel\", \"Jamaica\", \"Jordan\", \"Japan\", \"Kazakhstan\", \"Kenya\", \"Kyrgyz Republic\", \"Cambodia\", \"Korea, Rep.\", \"Kuwait\", \"Latin America & Caribbean (excluding high income)\", \"Liberia\", \"Lebanon\", \"Latin America & Caribbean\", \"Least developed countries: UN classification\", \"Low income\", \"Sri Lanka\", \"Low & middle income\", \"Lesotho\", \"Lower middle income\", \"Late-demographic dividend\", \"Latvia\", \"Luxembourg\", \"Lithuania\", \"Morocco\", \"Moldova\", \"Madagascar\", \"Mexico\", \"Middle East & North Africa\", \"Middle income\", \"North Macedonia\", \"Mali\", \"Myanmar\", \"Malta\", \"Middle East & North Africa (excluding high income)\", \"Montenegro\", \"Mongolia\", \"Mozambique\", \"Mauritania\", \"Mauritius\", \"Malaysia\", \"Malawi\", \"Namibia\", \"North America\", \"Niger\", \"Nigeria\", \"Nicaragua\", \"Netherlands\", \"Nepal\", \"Norway\", \"Oman\", \"OECD members\", \"New Zealand\", \"Pakistan\", \"Panama\", \"Philippines\", \"Peru\", \"Papua New Guinea\", \"Poland\", \"Pre-demographic dividend\", \"Portugal\", \"Paraguay\", \"Romania\", \"Post-demographic dividend\", \"Rwanda\", \"Russian Federation\", \"South Asia\", \"Senegal\", \"Sudan\", \"Saudi Arabia\", \"Singapore\", \"El Salvador\", \"Sierra Leone\", \"Sub-Saharan Africa (excluding high income)\", \"Serbia\", \"Sub-Saharan Africa\", \"Slovak Republic\", \"Slovenia\", \"Sweden\", \"Eswatini\", \"Seychelles\", \"Europe & Central Asia (IDA & IBRD countries)\", \"Chad\", \"Thailand\", \"Togo\", \"East Asia & Pacific (IDA & IBRD countries)\", \"Timor-Leste\", \"Latin America & the Caribbean (IDA & IBRD countries)\", \"Middle East & North Africa (IDA & IBRD countries)\", \"Sub-Saharan Africa (IDA & IBRD countries)\", \"South Asia (IDA & IBRD)\", \"Trinidad and Tobago\", \"Turkey\", \"Tunisia\", \"Tanzania\", \"Ukraine\", \"Uganda\", \"Upper middle income\", \"United States\", \"Uruguay\", \"Vietnam\", \"World\", \"Kosovo\", \"South Africa\", \"Zambia\", \"Zimbabwe\"], \"type\": \"choropleth\", \"z\": [0.009479466534836167, 0.025080061002623364, 0.03848293279653846, 0.04734444538686013, 0.008494910223313456, 0.011089561305318093, 0.020818260297500682, 0.0075023618398576564, 0.037411933977895245, 0.008901850916122557, 0.02014589791462636, 0.009143907998285131, 0.014392666795196147, 0.013483917547599204, 0.009106027357283789, 0.013981090224940203, 0.043268072098137336, 0.011532699893465424, 0.01277183382336927, 0.01530501125240343, 0.01419556408736987, 0.02858705530884606, 0.030015184646329397, 0.013277806438737187, 0.012936332718845766, 0.015098260289968064, 0.006806968494511903, 0.01852091237890097, 0.019383201642836575, 0.009722749263960715, 0.04116541897541965, 0.007765433378044937, 0.01165855955236378, 0.03212104011902466, 0.00126537587634614, 0.005285598225870672, 0.006143254459395906, 0.0, 0.009622935238408459, 0.015786346813452687, 0.0123797454926913, 0.006663634410197463, 0.011426345868532424, 0.06017923553365057, 0.017390586982756962, 0.022325563399416673, 0.0162240583228565, 0.016773345054382677, 0.03160606456518976, 0.011750004946621075, 0.02361263383584672, 0.01446011082759797, 0.02000961334570374, 0.012223162854619286, 0.006153275053011053, 0.012548724616266813, 0.017440624851689405, 0.013444394738369187, 0.008537705492877707, 0.023280918054385744, 0.018976098018557864, 0.017912922197596236, 0.017415345893758195, 0.0032056920114580654, 0.01928266571088726, 0.02502003207600606, 0.0038403262540580856, 0.016799291698637853, 0.02197756510253532, 0.017222343052474196, 0.014177627664581053, 0.01665084546280593, 8.753613793670445e-06, 0.010338547688675832, 0.01892461022235776, 0.01871269825761308, 0.008052376383227363, 0.015674991993938948, 0.014763081941989702, 0.016822765895438185, 0.02433675289529789, 0.0030538459674869034, 0.03794070404967728, 0.0, 0.031281787523601265, 0.013481468131433381, 0.044108869483560915, 0.009694870402791439, 0.04764845597828629, 0.00932572350113867, 0.008336755017114283, 0.012858668044420915, 0.01577526080033484, 0.02091385858002206, 0.024121341234258967, 0.05604169230183163, 0.01088623035426732, 0.004667237871162442, 0.045936122269319014, 0.010976213771313635, 0.01855399083830298, 0.009018042574595413, 0.02134935899741844, 0.018797042664333186, 0.021866312950007308, 0.021694860022477683, 0.01946373028817009, 0.01682654458849674, 0.005572776195005825, 0.017007188592490743, 0.03154977534083468, 0.0031675120200598834, 0.005077754983953304, 0.004993743328529135, 0.044032263561359766, 0.018985992130539656, 0.009889976722382753, 0.029833583466544418, 0.03222761771358849, 0.005038955590542804, 0.030020967943891863, 0.013535075536567147, 0.007242864892992655, 0.009707195283944434, 0.021272714817908385, 0.0017966993579232135, 0.010957021508435676, 0.0075225033335972686, 0.03593559122240819, 0.02965717659804304, 0.017927886856858585, 0.004314671058359808, 0.006290860457522327, 0.011489428345918247, 0.016072114260424472, 0.016229539445784053, 0.09635503966005665, 0.02089236037003722, 0.011333869731092051, 0.037631274524300554, 0.0, 0.011432485186729855, 0.012633622068138431, 0.003161802023775741, 0.018751976547829105, 0.01820080339990159, 0.016473392304792302, 0.008925646571413225, 0.01710981015970824, 0.021301260593713522, 0.012505735967138268, 0.042261040461835535, 0.024522515089775074, 0.014547201659582586, 0.0965862297748148, 0.10223848055029093, 0.029823969136568595, 0.010444689982065079, 0.010583500673931795, 0.013303957898429659, 0.018170724361516368, 0.013197424124068245, 0.01098714768536703, 0.009756598852056183, 0.010215159828303013, 0.01994456455230662, 0.014600680998102945, 0.027935629447514407, 0.02190723727365336, 0.013819753294551618, 0.018343367747643585, 0.01742383395723574, 0.015805730732307562, 0.011412699637875577, 0.030333574087267584, 0.013197424124068245, 0.024522515089775074, 0.009021959569338012, 0.020903591972336967, 0.021580329986055982, 0.011463022815504747, 0.03251228835898835, 0.01127447079326272, 0.01832837597630002, 0.031100218172223363, 0.01958186822266837, 0.02267341396205158, 0.020928439057976818, 0.007902973141116014, 0.010410223808897452, 0.013130611792362367, 0.015449548996004578]}],                        {\"geo\": {\"projection\": {\"type\": \"equirectangular\"}, \"showframe\": false}, \"template\": {\"data\": {\"bar\": [{\"error_x\": {\"color\": \"#2a3f5f\"}, \"error_y\": {\"color\": \"#2a3f5f\"}, \"marker\": {\"line\": {\"color\": \"#E5ECF6\", \"width\": 0.5}}, \"type\": \"bar\"}], \"barpolar\": [{\"marker\": {\"line\": {\"color\": \"#E5ECF6\", \"width\": 0.5}}, \"type\": \"barpolar\"}], \"carpet\": [{\"aaxis\": {\"endlinecolor\": \"#2a3f5f\", \"gridcolor\": \"white\", \"linecolor\": \"white\", \"minorgridcolor\": \"white\", \"startlinecolor\": \"#2a3f5f\"}, \"baxis\": {\"endlinecolor\": \"#2a3f5f\", \"gridcolor\": \"white\", \"linecolor\": \"white\", \"minorgridcolor\": \"white\", \"startlinecolor\": \"#2a3f5f\"}, \"type\": \"carpet\"}], \"choropleth\": [{\"colorbar\": {\"outlinewidth\": 0, \"ticks\": \"\"}, \"type\": \"choropleth\"}], \"contour\": [{\"colorbar\": {\"outlinewidth\": 0, \"ticks\": \"\"}, \"colorscale\": [[0.0, \"#0d0887\"], [0.1111111111111111, \"#46039f\"], [0.2222222222222222, \"#7201a8\"], [0.3333333333333333, \"#9c179e\"], [0.4444444444444444, \"#bd3786\"], [0.5555555555555556, \"#d8576b\"], [0.6666666666666666, \"#ed7953\"], [0.7777777777777778, \"#fb9f3a\"], [0.8888888888888888, \"#fdca26\"], [1.0, \"#f0f921\"]], \"type\": \"contour\"}], \"contourcarpet\": [{\"colorbar\": {\"outlinewidth\": 0, \"ticks\": \"\"}, \"type\": \"contourcarpet\"}], \"heatmap\": [{\"colorbar\": {\"outlinewidth\": 0, \"ticks\": \"\"}, \"colorscale\": [[0.0, \"#0d0887\"], [0.1111111111111111, \"#46039f\"], [0.2222222222222222, \"#7201a8\"], [0.3333333333333333, \"#9c179e\"], [0.4444444444444444, \"#bd3786\"], [0.5555555555555556, \"#d8576b\"], [0.6666666666666666, \"#ed7953\"], [0.7777777777777778, \"#fb9f3a\"], [0.8888888888888888, \"#fdca26\"], [1.0, \"#f0f921\"]], \"type\": \"heatmap\"}], \"heatmapgl\": [{\"colorbar\": {\"outlinewidth\": 0, \"ticks\": \"\"}, \"colorscale\": [[0.0, \"#0d0887\"], [0.1111111111111111, \"#46039f\"], [0.2222222222222222, \"#7201a8\"], [0.3333333333333333, \"#9c179e\"], [0.4444444444444444, \"#bd3786\"], [0.5555555555555556, \"#d8576b\"], [0.6666666666666666, \"#ed7953\"], [0.7777777777777778, \"#fb9f3a\"], [0.8888888888888888, \"#fdca26\"], [1.0, \"#f0f921\"]], \"type\": \"heatmapgl\"}], \"histogram\": [{\"marker\": {\"colorbar\": {\"outlinewidth\": 0, \"ticks\": \"\"}}, \"type\": \"histogram\"}], \"histogram2d\": [{\"colorbar\": {\"outlinewidth\": 0, \"ticks\": \"\"}, \"colorscale\": [[0.0, \"#0d0887\"], [0.1111111111111111, \"#46039f\"], [0.2222222222222222, \"#7201a8\"], [0.3333333333333333, \"#9c179e\"], [0.4444444444444444, \"#bd3786\"], [0.5555555555555556, \"#d8576b\"], [0.6666666666666666, \"#ed7953\"], [0.7777777777777778, \"#fb9f3a\"], [0.8888888888888888, \"#fdca26\"], [1.0, \"#f0f921\"]], \"type\": \"histogram2d\"}], \"histogram2dcontour\": [{\"colorbar\": {\"outlinewidth\": 0, \"ticks\": \"\"}, \"colorscale\": [[0.0, \"#0d0887\"], [0.1111111111111111, \"#46039f\"], [0.2222222222222222, \"#7201a8\"], [0.3333333333333333, \"#9c179e\"], [0.4444444444444444, \"#bd3786\"], [0.5555555555555556, \"#d8576b\"], [0.6666666666666666, \"#ed7953\"], [0.7777777777777778, \"#fb9f3a\"], [0.8888888888888888, \"#fdca26\"], [1.0, \"#f0f921\"]], \"type\": \"histogram2dcontour\"}], \"mesh3d\": [{\"colorbar\": {\"outlinewidth\": 0, \"ticks\": \"\"}, \"type\": \"mesh3d\"}], \"parcoords\": [{\"line\": {\"colorbar\": {\"outlinewidth\": 0, \"ticks\": \"\"}}, \"type\": \"parcoords\"}], \"pie\": [{\"automargin\": true, \"type\": \"pie\"}], \"scatter\": [{\"marker\": {\"colorbar\": {\"outlinewidth\": 0, \"ticks\": \"\"}}, \"type\": \"scatter\"}], \"scatter3d\": [{\"line\": {\"colorbar\": {\"outlinewidth\": 0, \"ticks\": \"\"}}, \"marker\": {\"colorbar\": {\"outlinewidth\": 0, \"ticks\": \"\"}}, \"type\": \"scatter3d\"}], \"scattercarpet\": [{\"marker\": {\"colorbar\": {\"outlinewidth\": 0, \"ticks\": \"\"}}, \"type\": \"scattercarpet\"}], \"scattergeo\": [{\"marker\": {\"colorbar\": {\"outlinewidth\": 0, \"ticks\": \"\"}}, \"type\": \"scattergeo\"}], \"scattergl\": [{\"marker\": {\"colorbar\": {\"outlinewidth\": 0, \"ticks\": \"\"}}, \"type\": \"scattergl\"}], \"scattermapbox\": [{\"marker\": {\"colorbar\": {\"outlinewidth\": 0, \"ticks\": \"\"}}, \"type\": \"scattermapbox\"}], \"scatterpolar\": [{\"marker\": {\"colorbar\": {\"outlinewidth\": 0, \"ticks\": \"\"}}, \"type\": \"scatterpolar\"}], \"scatterpolargl\": [{\"marker\": {\"colorbar\": {\"outlinewidth\": 0, \"ticks\": \"\"}}, \"type\": \"scatterpolargl\"}], \"scatterternary\": [{\"marker\": {\"colorbar\": {\"outlinewidth\": 0, \"ticks\": \"\"}}, \"type\": \"scatterternary\"}], \"surface\": [{\"colorbar\": {\"outlinewidth\": 0, \"ticks\": \"\"}, \"colorscale\": [[0.0, \"#0d0887\"], [0.1111111111111111, \"#46039f\"], [0.2222222222222222, \"#7201a8\"], [0.3333333333333333, \"#9c179e\"], [0.4444444444444444, \"#bd3786\"], [0.5555555555555556, \"#d8576b\"], [0.6666666666666666, \"#ed7953\"], [0.7777777777777778, \"#fb9f3a\"], [0.8888888888888888, \"#fdca26\"], [1.0, \"#f0f921\"]], \"type\": \"surface\"}], \"table\": [{\"cells\": {\"fill\": {\"color\": \"#EBF0F8\"}, \"line\": {\"color\": \"white\"}}, \"header\": {\"fill\": {\"color\": \"#C8D4E3\"}, \"line\": {\"color\": \"white\"}}, \"type\": \"table\"}]}, \"layout\": {\"annotationdefaults\": {\"arrowcolor\": \"#2a3f5f\", \"arrowhead\": 0, \"arrowwidth\": 1}, \"coloraxis\": {\"colorbar\": {\"outlinewidth\": 0, \"ticks\": \"\"}}, \"colorscale\": {\"diverging\": [[0, \"#8e0152\"], [0.1, \"#c51b7d\"], [0.2, \"#de77ae\"], [0.3, \"#f1b6da\"], [0.4, \"#fde0ef\"], [0.5, \"#f7f7f7\"], [0.6, \"#e6f5d0\"], [0.7, \"#b8e186\"], [0.8, \"#7fbc41\"], [0.9, \"#4d9221\"], [1, \"#276419\"]], \"sequential\": [[0.0, \"#0d0887\"], [0.1111111111111111, \"#46039f\"], [0.2222222222222222, \"#7201a8\"], [0.3333333333333333, \"#9c179e\"], [0.4444444444444444, \"#bd3786\"], [0.5555555555555556, \"#d8576b\"], [0.6666666666666666, \"#ed7953\"], [0.7777777777777778, \"#fb9f3a\"], [0.8888888888888888, \"#fdca26\"], [1.0, \"#f0f921\"]], \"sequentialminus\": [[0.0, \"#0d0887\"], [0.1111111111111111, \"#46039f\"], [0.2222222222222222, \"#7201a8\"], [0.3333333333333333, \"#9c179e\"], [0.4444444444444444, \"#bd3786\"], [0.5555555555555556, \"#d8576b\"], [0.6666666666666666, \"#ed7953\"], [0.7777777777777778, \"#fb9f3a\"], [0.8888888888888888, \"#fdca26\"], [1.0, \"#f0f921\"]]}, \"colorway\": [\"#636efa\", \"#EF553B\", \"#00cc96\", \"#ab63fa\", \"#FFA15A\", \"#19d3f3\", \"#FF6692\", \"#B6E880\", \"#FF97FF\", \"#FECB52\"], \"font\": {\"color\": \"#2a3f5f\"}, \"geo\": {\"bgcolor\": \"white\", \"lakecolor\": \"white\", \"landcolor\": \"#E5ECF6\", \"showlakes\": true, \"showland\": true, \"subunitcolor\": \"white\"}, \"hoverlabel\": {\"align\": \"left\"}, \"hovermode\": \"closest\", \"mapbox\": {\"style\": \"light\"}, \"paper_bgcolor\": \"white\", \"plot_bgcolor\": \"#E5ECF6\", \"polar\": {\"angularaxis\": {\"gridcolor\": \"white\", \"linecolor\": \"white\", \"ticks\": \"\"}, \"bgcolor\": \"#E5ECF6\", \"radialaxis\": {\"gridcolor\": \"white\", \"linecolor\": \"white\", \"ticks\": \"\"}}, \"scene\": {\"xaxis\": {\"backgroundcolor\": \"#E5ECF6\", \"gridcolor\": \"white\", \"gridwidth\": 2, \"linecolor\": \"white\", \"showbackground\": true, \"ticks\": \"\", \"zerolinecolor\": \"white\"}, \"yaxis\": {\"backgroundcolor\": \"#E5ECF6\", \"gridcolor\": \"white\", \"gridwidth\": 2, \"linecolor\": \"white\", \"showbackground\": true, \"ticks\": \"\", \"zerolinecolor\": \"white\"}, \"zaxis\": {\"backgroundcolor\": \"#E5ECF6\", \"gridcolor\": \"white\", \"gridwidth\": 2, \"linecolor\": \"white\", \"showbackground\": true, \"ticks\": \"\", \"zerolinecolor\": \"white\"}}, \"shapedefaults\": {\"line\": {\"color\": \"#2a3f5f\"}}, \"ternary\": {\"aaxis\": {\"gridcolor\": \"white\", \"linecolor\": \"white\", \"ticks\": \"\"}, \"baxis\": {\"gridcolor\": \"white\", \"linecolor\": \"white\", \"ticks\": \"\"}, \"bgcolor\": \"#E5ECF6\", \"caxis\": {\"gridcolor\": \"white\", \"linecolor\": \"white\", \"ticks\": \"\"}}, \"title\": {\"x\": 0.05}, \"xaxis\": {\"automargin\": true, \"gridcolor\": \"white\", \"linecolor\": \"white\", \"ticks\": \"\", \"title\": {\"standoff\": 15}, \"zerolinecolor\": \"white\", \"zerolinewidth\": 2}, \"yaxis\": {\"automargin\": true, \"gridcolor\": \"white\", \"linecolor\": \"white\", \"ticks\": \"\", \"title\": {\"standoff\": 15}, \"zerolinecolor\": \"white\", \"zerolinewidth\": 2}}}, \"title\": {\"text\": \"Military Expenditure as a Proportion of GDP\"}},                        {\"responsive\": true}                    ).then(function(){\n",
       "                            \n",
       "var gd = document.getElementById('e7b83915-07cb-495c-83fd-8e25f75e6f2a');\n",
       "var x = new MutationObserver(function (mutations, observer) {{\n",
       "        var display = window.getComputedStyle(gd).display;\n",
       "        if (!display || display === 'none') {{\n",
       "            console.log([gd, 'removed!']);\n",
       "            Plotly.purge(gd);\n",
       "            observer.disconnect();\n",
       "        }}\n",
       "}});\n",
       "\n",
       "// Listen for the removal of the full notebook cells\n",
       "var notebookContainer = gd.closest('#notebook-container');\n",
       "if (notebookContainer) {{\n",
       "    x.observe(notebookContainer, {childList: true});\n",
       "}}\n",
       "\n",
       "// Listen for the clearing of the current output cell\n",
       "var outputEl = gd.closest('.output');\n",
       "if (outputEl) {{\n",
       "    x.observe(outputEl, {childList: true});\n",
       "}}\n",
       "\n",
       "                        })                };                });            </script>        </div>"
      ]
     },
     "metadata": {},
     "output_type": "display_data"
    }
   ],
   "source": [
    "iplot(choromap3)"
   ]
  },
  {
   "cell_type": "markdown",
   "metadata": {},
   "source": [
    "# Military Expenditure Proportion in 2003"
   ]
  },
  {
   "cell_type": "code",
   "execution_count": 189,
   "metadata": {},
   "outputs": [],
   "source": [
    "cur = db.milExProp.find({'2003':{'$exists':'true'} },{'_id':0, 'Country':1, 'Code':1, '2003':1})"
   ]
  },
  {
   "cell_type": "code",
   "execution_count": 190,
   "metadata": {},
   "outputs": [
    {
     "name": "stderr",
     "output_type": "stream",
     "text": [
      "<ipython-input-190-1e0dd761b5f8>:2: DeprecationWarning:\n",
      "\n",
      "count is deprecated. Use Collection.count_documents instead.\n",
      "\n"
     ]
    }
   ],
   "source": [
    "df = pd.DataFrame()\n",
    "for i in range(cur.count()):\n",
    "    temp = cur.next()\n",
    "    if temp['2003']<1:\n",
    "        df = df.append([[temp['Country'],temp['Code'],(temp['2003'])]])"
   ]
  },
  {
   "cell_type": "code",
   "execution_count": 191,
   "metadata": {},
   "outputs": [],
   "source": [
    "df = df.rename(columns = {0:'Country', 1:'ISO', 2:'milEx/gdp'})"
   ]
  },
  {
   "cell_type": "code",
   "execution_count": 192,
   "metadata": {},
   "outputs": [],
   "source": [
    "data = dict(type = 'choropleth',\n",
    "           locations = df['ISO'],\n",
    "           z = df['milEx/gdp'],\n",
    "           text = df['Country'],\n",
    "           colorbar = {'title':'Proportion of GDP'})"
   ]
  },
  {
   "cell_type": "code",
   "execution_count": 193,
   "metadata": {},
   "outputs": [],
   "source": [
    "layout = dict(title = '2003 Military Expenditure as a Proportion of GDP',\n",
    "             geo = dict(showframe = False,\n",
    "             projection = {'type':\"equirectangular\"}))"
   ]
  },
  {
   "cell_type": "code",
   "execution_count": 194,
   "metadata": {},
   "outputs": [],
   "source": [
    "choromap3 = go.Figure(data=[data],layout = layout)"
   ]
  },
  {
   "cell_type": "code",
   "execution_count": 195,
   "metadata": {
    "scrolled": false
   },
   "outputs": [
    {
     "data": {
      "application/vnd.plotly.v1+json": {
       "config": {
        "linkText": "Export to plot.ly",
        "plotlyServerURL": "https://plot.ly",
        "showLink": false
       },
       "data": [
        {
         "colorbar": {
          "title": {
           "text": "Proportion of GDP"
          }
         },
         "locations": [
          "AGO",
          "ARE",
          "ARM",
          "ARB",
          "ARG",
          "ALB",
          "AUS",
          "AUT",
          "AZE",
          "BEL",
          "BDI",
          "BEN",
          "BGD",
          "BFA",
          "BIH",
          "BGR",
          "BHR",
          "BLR",
          "BLZ",
          "BOL",
          "BRA",
          "BRN",
          "BWA",
          "CAF",
          "CAN",
          "CEB",
          "CHE",
          "CHN",
          "CHL",
          "CIV",
          "COG",
          "COD",
          "CMR",
          "COL",
          "CUB",
          "CPV",
          "CSS",
          "CRI",
          "DJI",
          "CZE",
          "CYP",
          "DEU",
          "DOM",
          "DNK",
          "DZA",
          "EAP",
          "EAR",
          "EAS",
          "ECS",
          "ECA",
          "EGY",
          "ERI",
          "ECU",
          "EMU",
          "EST",
          "ESP",
          "ETH",
          "FCS",
          "EUU",
          "FIN",
          "FJI",
          "FRA",
          "GEO",
          "GAB",
          "GBR",
          "GHA",
          "GIN",
          "GNB",
          "GMB",
          "GRC",
          "GTM",
          "GUY",
          "HIC",
          "HND",
          "HRV",
          "HPC",
          "HUN",
          "IBD",
          "IBT",
          "IDN",
          "IDA",
          "IDX",
          "IDB",
          "IND",
          "IRL",
          "ISL",
          "IRN",
          "ITA",
          "ISR",
          "JAM",
          "JOR",
          "JPN",
          "KAZ",
          "KEN",
          "KGZ",
          "KHM",
          "KOR",
          "LAO",
          "KWT",
          "LAC",
          "LBN",
          "LBY",
          "LCN",
          "LDC",
          "LIC",
          "LKA",
          "LMY",
          "LSO",
          "LMC",
          "LTE",
          "LVA",
          "LUX",
          "LTU",
          "MAR",
          "MDA",
          "MDG",
          "MEX",
          "MEA",
          "MIC",
          "MKD",
          "MLI",
          "MLT",
          "MNA",
          "MNG",
          "MOZ",
          "MRT",
          "MUS",
          "MYS",
          "MWI",
          "NAM",
          "NAC",
          "NER",
          "NGA",
          "NIC",
          "NLD",
          "NPL",
          "NOR",
          "OMN",
          "OED",
          "NZL",
          "OSS",
          "PAK",
          "PAN",
          "PHL",
          "PER",
          "PNG",
          "POL",
          "PRE",
          "PRT",
          "PRY",
          "QAT",
          "ROU",
          "PST",
          "RWA",
          "RUS",
          "SAS",
          "SEN",
          "SDN",
          "SAU",
          "SGP",
          "SLV",
          "SLE",
          "SSA",
          "SRB",
          "SST",
          "SSF",
          "SVK",
          "SVN",
          "SWE",
          "SWZ",
          "SYC",
          "TEC",
          "SYR",
          "TCD",
          "THA",
          "TGO",
          "TJK",
          "TEA",
          "TLA",
          "TMN",
          "TSS",
          "TSA",
          "TTO",
          "TUR",
          "TUN",
          "TZA",
          "UKR",
          "UGA",
          "UMC",
          "UZB",
          "USA",
          "URY",
          "VEN",
          "VNM",
          "WLD",
          "YEM",
          "ZAF",
          "ZWE"
         ],
         "text": [
          "Angola",
          "United Arab Emirates",
          "Armenia",
          "Arab World",
          "Argentina",
          "Albania",
          "Australia",
          "Austria",
          "Azerbaijan",
          "Belgium",
          "Burundi",
          "Benin",
          "Bangladesh",
          "Burkina Faso",
          "Bosnia and Herzegovina",
          "Bulgaria",
          "Bahrain",
          "Belarus",
          "Belize",
          "Bolivia",
          "Brazil",
          "Brunei Darussalam",
          "Botswana",
          "Central African Republic",
          "Canada",
          "Central Europe and the Baltics",
          "Switzerland",
          "China",
          "Chile",
          "Cote d'Ivoire",
          "Congo, Rep.",
          "Congo, Dem. Rep.",
          "Cameroon",
          "Colombia",
          "Cuba",
          "Cabo Verde",
          "Caribbean small states",
          "Costa Rica",
          "Djibouti",
          "Czech Republic",
          "Cyprus",
          "Germany",
          "Dominican Republic",
          "Denmark",
          "Algeria",
          "East Asia & Pacific (excluding high income)",
          "Early-demographic dividend",
          "East Asia & Pacific",
          "Europe & Central Asia",
          "Europe & Central Asia (excluding high income)",
          "Egypt, Arab Rep.",
          "Eritrea",
          "Ecuador",
          "Euro area",
          "Estonia",
          "Spain",
          "Ethiopia",
          "Fragile and conflict affected situations",
          "European Union",
          "Finland",
          "Fiji",
          "France",
          "Georgia",
          "Gabon",
          "United Kingdom",
          "Ghana",
          "Guinea",
          "Guinea-Bissau",
          "Gambia, The",
          "Greece",
          "Guatemala",
          "Guyana",
          "High income",
          "Honduras",
          "Croatia",
          "Heavily indebted poor countries (HIPC)",
          "Hungary",
          "IBRD only",
          "IDA & IBRD total",
          "Indonesia",
          "IDA total",
          "IDA only",
          "IDA blend",
          "India",
          "Ireland",
          "Iceland",
          "Iran, Islamic Rep.",
          "Italy",
          "Israel",
          "Jamaica",
          "Jordan",
          "Japan",
          "Kazakhstan",
          "Kenya",
          "Kyrgyz Republic",
          "Cambodia",
          "Korea, Rep.",
          "Lao PDR",
          "Kuwait",
          "Latin America & Caribbean (excluding high income)",
          "Lebanon",
          "Libya",
          "Latin America & Caribbean",
          "Least developed countries: UN classification",
          "Low income",
          "Sri Lanka",
          "Low & middle income",
          "Lesotho",
          "Lower middle income",
          "Late-demographic dividend",
          "Latvia",
          "Luxembourg",
          "Lithuania",
          "Morocco",
          "Moldova",
          "Madagascar",
          "Mexico",
          "Middle East & North Africa",
          "Middle income",
          "North Macedonia",
          "Mali",
          "Malta",
          "Middle East & North Africa (excluding high income)",
          "Mongolia",
          "Mozambique",
          "Mauritania",
          "Mauritius",
          "Malaysia",
          "Malawi",
          "Namibia",
          "North America",
          "Niger",
          "Nigeria",
          "Nicaragua",
          "Netherlands",
          "Nepal",
          "Norway",
          "Oman",
          "OECD members",
          "New Zealand",
          "Other small states",
          "Pakistan",
          "Panama",
          "Philippines",
          "Peru",
          "Papua New Guinea",
          "Poland",
          "Pre-demographic dividend",
          "Portugal",
          "Paraguay",
          "Qatar",
          "Romania",
          "Post-demographic dividend",
          "Rwanda",
          "Russian Federation",
          "South Asia",
          "Senegal",
          "Sudan",
          "Saudi Arabia",
          "Singapore",
          "El Salvador",
          "Sierra Leone",
          "Sub-Saharan Africa (excluding high income)",
          "Serbia",
          "Small states",
          "Sub-Saharan Africa",
          "Slovak Republic",
          "Slovenia",
          "Sweden",
          "Eswatini",
          "Seychelles",
          "Europe & Central Asia (IDA & IBRD countries)",
          "Syrian Arab Republic",
          "Chad",
          "Thailand",
          "Togo",
          "Tajikistan",
          "East Asia & Pacific (IDA & IBRD countries)",
          "Latin America & the Caribbean (IDA & IBRD countries)",
          "Middle East & North Africa (IDA & IBRD countries)",
          "Sub-Saharan Africa (IDA & IBRD countries)",
          "South Asia (IDA & IBRD)",
          "Trinidad and Tobago",
          "Turkey",
          "Tunisia",
          "Tanzania",
          "Ukraine",
          "Uganda",
          "Upper middle income",
          "Uzbekistan",
          "United States",
          "Uruguay",
          "Venezuela, RB",
          "Vietnam",
          "World",
          "Yemen, Rep.",
          "South Africa",
          "Zimbabwe"
         ],
         "type": "choropleth",
         "z": [
          0.03761478974299675,
          0.046923107244280254,
          0.02728405212885601,
          0.051726455854246775,
          0.010775972627678175,
          0.013569096761033666,
          0.021279535863907063,
          0.00910202976943315,
          0.02426495960415028,
          0.012211471492523822,
          0.05532779782173028,
          0.006472235475960356,
          0.011959038610023193,
          0.010730558915394983,
          0.024167953106770074,
          0.026912013249342344,
          0.04658836299462327,
          0.01298892589814246,
          0.008695704117946111,
          0.02145799250887702,
          0.015032431354935953,
          0.03711466870142001,
          0.040073362821865084,
          0.013177331098784493,
          0.011159168365272323,
          0.018294059461074288,
          0.009266648244122228,
          0.021156755535465106,
          0.0273385696844788,
          0.013916058097249967,
          0.026824996620018058,
          0.008806427001072306,
          0.01295633062242839,
          0.03463991650161696,
          0.00827086454770314,
          0.007104531465147224,
          0.0028706739043546834,
          0,
          0.06713951284417795,
          0.018927640438204135,
          0.01982684825138989,
          0.014043782528517736,
          0.007198786623462685,
          0.014668576848512482,
          0.032511613738479564,
          0.029590497963961723,
          0.03195181148145352,
          0.01738794955784128,
          0.018744896451185898,
          0.03454655246933062,
          0.028748015178348737,
          0.2086574527412067,
          0.02278553434914678,
          0.016849778300448787,
          0.017353536303377267,
          0.014224898053371326,
          0.03231483482005923,
          0.07088789431584852,
          0.021591386592033576,
          0.014450855902167435,
          0.01610446146282415,
          0.02494835780173627,
          0.010685131229156129,
          0.01668328794078717,
          0.022865335110894985,
          0.006976046142379794,
          0.024411826447766405,
          0.015754296136368577,
          0.004102058908543777,
          0.024937990535357252,
          0.008156603595277683,
          0.02199720196474923,
          0.024113485883980768,
          0.010097351301517277,
          0.020451734646652904,
          0.014656252418284926,
          0.01643057828408021,
          0.02031360887720711,
          0.023550610793804973,
          0.009092832563200787,
          0.062314452993897596,
          0.09790844763471797,
          0.020319598842293268,
          0.02687840356984822,
          0.005875166947097344,
          0,
          0.02420837193208437,
          0.017040488170955395,
          0.08527867678191728,
          0.005835010109148774,
          0.05918015432339818,
          0.009556780274224496,
          0.010299260814023568,
          0.01650094753670306,
          0.016989564656585795,
          0.014495844813452799,
          0.022551097788644038,
          0.00544319084979527,
          0.0653921183605753,
          0.010915643485207672,
          0.04597853014151931,
          0.020612559819155264,
          0.010944652106003667,
          0.1126760933071099,
          0.026490263277811187,
          0.028688821042779332,
          0.023850602938824055,
          0.023633599220949007,
          0.039351103515181236,
          0.022791026101728885,
          0.01612248840904669,
          0.006720431403069906,
          0.011212421219325587,
          0.034942148398404906,
          0.004163113526788676,
          0.01137968355555056,
          0.004449720095435891,
          0.052088432722093105,
          0.02375862384242043,
          0.02341697246275657,
          0.014193338457530182,
          0.006301035473472143,
          0.02909786102599552,
          0.015253088173050572,
          0.009557225526839254,
          0.030445956246585842,
          0.001871026687615822,
          0.02614806730822951,
          0.004088342765361001,
          0.02690134044862262,
          0.03439954990022016,
          0.0072626002820001785,
          0.0055995708727936844,
          0.006633616530698618,
          0.014437541944228867,
          0.016260103254565353,
          0.019739336128399808,
          0.09102930921455368,
          0.023258653293678797,
          0.012836494500157784,
          0.0222697045924227,
          0.040570976094064196,
          0,
          0.014950584240832643,
          0.01517517931408056,
          0.005459525951518556,
          0.01908051849080526,
          0.0112333524678429,
          0.018863111326052263,
          0.008257553718241049,
          0.033339948401807096,
          0.02162953004768713,
          0.023505629437139335,
          0.024480716648742875,
          0.03944191242384484,
          0.027080658061982184,
          0.011154433540711136,
          0.022560289132181936,
          0.08687118464353205,
          0.048375829196584265,
          0.009559123412375706,
          0.02054244961935329,
          0.014426438003854038,
          0.032495118393647146,
          0.017306139996402754,
          0.014268786844862586,
          0.01333946931507222,
          0.01406818931634046,
          0.015869129156011907,
          0.014528351585230378,
          0.017343099525149418,
          0.02988007276486339,
          0.06579628065772149,
          0.014963372001352301,
          0.012421277716922073,
          0.01365700544033049,
          0.022367590128606292,
          0.029651264383916513,
          0.01155193110668091,
          0.029324627242977068,
          0.014268786844862586,
          0.027080658061982184,
          0.0029840941979049802,
          0.03296069133073728,
          0.014839336320822504,
          0.008227311727158236,
          0.02851168277267716,
          0.024047218747874806,
          0.01931327467563745,
          0.005341550563603856,
          0.03621846457612987,
          0.022375479966925623,
          0.011813953021531973,
          0.021286388368595918,
          0.024059689400841116,
          0.068544364786155,
          0.014688015298466433,
          0.03401080363303823
         ]
        }
       ],
       "layout": {
        "geo": {
         "projection": {
          "type": "equirectangular"
         },
         "showframe": false
        },
        "template": {
         "data": {
          "bar": [
           {
            "error_x": {
             "color": "#2a3f5f"
            },
            "error_y": {
             "color": "#2a3f5f"
            },
            "marker": {
             "line": {
              "color": "#E5ECF6",
              "width": 0.5
             }
            },
            "type": "bar"
           }
          ],
          "barpolar": [
           {
            "marker": {
             "line": {
              "color": "#E5ECF6",
              "width": 0.5
             }
            },
            "type": "barpolar"
           }
          ],
          "carpet": [
           {
            "aaxis": {
             "endlinecolor": "#2a3f5f",
             "gridcolor": "white",
             "linecolor": "white",
             "minorgridcolor": "white",
             "startlinecolor": "#2a3f5f"
            },
            "baxis": {
             "endlinecolor": "#2a3f5f",
             "gridcolor": "white",
             "linecolor": "white",
             "minorgridcolor": "white",
             "startlinecolor": "#2a3f5f"
            },
            "type": "carpet"
           }
          ],
          "choropleth": [
           {
            "colorbar": {
             "outlinewidth": 0,
             "ticks": ""
            },
            "type": "choropleth"
           }
          ],
          "contour": [
           {
            "colorbar": {
             "outlinewidth": 0,
             "ticks": ""
            },
            "colorscale": [
             [
              0,
              "#0d0887"
             ],
             [
              0.1111111111111111,
              "#46039f"
             ],
             [
              0.2222222222222222,
              "#7201a8"
             ],
             [
              0.3333333333333333,
              "#9c179e"
             ],
             [
              0.4444444444444444,
              "#bd3786"
             ],
             [
              0.5555555555555556,
              "#d8576b"
             ],
             [
              0.6666666666666666,
              "#ed7953"
             ],
             [
              0.7777777777777778,
              "#fb9f3a"
             ],
             [
              0.8888888888888888,
              "#fdca26"
             ],
             [
              1,
              "#f0f921"
             ]
            ],
            "type": "contour"
           }
          ],
          "contourcarpet": [
           {
            "colorbar": {
             "outlinewidth": 0,
             "ticks": ""
            },
            "type": "contourcarpet"
           }
          ],
          "heatmap": [
           {
            "colorbar": {
             "outlinewidth": 0,
             "ticks": ""
            },
            "colorscale": [
             [
              0,
              "#0d0887"
             ],
             [
              0.1111111111111111,
              "#46039f"
             ],
             [
              0.2222222222222222,
              "#7201a8"
             ],
             [
              0.3333333333333333,
              "#9c179e"
             ],
             [
              0.4444444444444444,
              "#bd3786"
             ],
             [
              0.5555555555555556,
              "#d8576b"
             ],
             [
              0.6666666666666666,
              "#ed7953"
             ],
             [
              0.7777777777777778,
              "#fb9f3a"
             ],
             [
              0.8888888888888888,
              "#fdca26"
             ],
             [
              1,
              "#f0f921"
             ]
            ],
            "type": "heatmap"
           }
          ],
          "heatmapgl": [
           {
            "colorbar": {
             "outlinewidth": 0,
             "ticks": ""
            },
            "colorscale": [
             [
              0,
              "#0d0887"
             ],
             [
              0.1111111111111111,
              "#46039f"
             ],
             [
              0.2222222222222222,
              "#7201a8"
             ],
             [
              0.3333333333333333,
              "#9c179e"
             ],
             [
              0.4444444444444444,
              "#bd3786"
             ],
             [
              0.5555555555555556,
              "#d8576b"
             ],
             [
              0.6666666666666666,
              "#ed7953"
             ],
             [
              0.7777777777777778,
              "#fb9f3a"
             ],
             [
              0.8888888888888888,
              "#fdca26"
             ],
             [
              1,
              "#f0f921"
             ]
            ],
            "type": "heatmapgl"
           }
          ],
          "histogram": [
           {
            "marker": {
             "colorbar": {
              "outlinewidth": 0,
              "ticks": ""
             }
            },
            "type": "histogram"
           }
          ],
          "histogram2d": [
           {
            "colorbar": {
             "outlinewidth": 0,
             "ticks": ""
            },
            "colorscale": [
             [
              0,
              "#0d0887"
             ],
             [
              0.1111111111111111,
              "#46039f"
             ],
             [
              0.2222222222222222,
              "#7201a8"
             ],
             [
              0.3333333333333333,
              "#9c179e"
             ],
             [
              0.4444444444444444,
              "#bd3786"
             ],
             [
              0.5555555555555556,
              "#d8576b"
             ],
             [
              0.6666666666666666,
              "#ed7953"
             ],
             [
              0.7777777777777778,
              "#fb9f3a"
             ],
             [
              0.8888888888888888,
              "#fdca26"
             ],
             [
              1,
              "#f0f921"
             ]
            ],
            "type": "histogram2d"
           }
          ],
          "histogram2dcontour": [
           {
            "colorbar": {
             "outlinewidth": 0,
             "ticks": ""
            },
            "colorscale": [
             [
              0,
              "#0d0887"
             ],
             [
              0.1111111111111111,
              "#46039f"
             ],
             [
              0.2222222222222222,
              "#7201a8"
             ],
             [
              0.3333333333333333,
              "#9c179e"
             ],
             [
              0.4444444444444444,
              "#bd3786"
             ],
             [
              0.5555555555555556,
              "#d8576b"
             ],
             [
              0.6666666666666666,
              "#ed7953"
             ],
             [
              0.7777777777777778,
              "#fb9f3a"
             ],
             [
              0.8888888888888888,
              "#fdca26"
             ],
             [
              1,
              "#f0f921"
             ]
            ],
            "type": "histogram2dcontour"
           }
          ],
          "mesh3d": [
           {
            "colorbar": {
             "outlinewidth": 0,
             "ticks": ""
            },
            "type": "mesh3d"
           }
          ],
          "parcoords": [
           {
            "line": {
             "colorbar": {
              "outlinewidth": 0,
              "ticks": ""
             }
            },
            "type": "parcoords"
           }
          ],
          "pie": [
           {
            "automargin": true,
            "type": "pie"
           }
          ],
          "scatter": [
           {
            "marker": {
             "colorbar": {
              "outlinewidth": 0,
              "ticks": ""
             }
            },
            "type": "scatter"
           }
          ],
          "scatter3d": [
           {
            "line": {
             "colorbar": {
              "outlinewidth": 0,
              "ticks": ""
             }
            },
            "marker": {
             "colorbar": {
              "outlinewidth": 0,
              "ticks": ""
             }
            },
            "type": "scatter3d"
           }
          ],
          "scattercarpet": [
           {
            "marker": {
             "colorbar": {
              "outlinewidth": 0,
              "ticks": ""
             }
            },
            "type": "scattercarpet"
           }
          ],
          "scattergeo": [
           {
            "marker": {
             "colorbar": {
              "outlinewidth": 0,
              "ticks": ""
             }
            },
            "type": "scattergeo"
           }
          ],
          "scattergl": [
           {
            "marker": {
             "colorbar": {
              "outlinewidth": 0,
              "ticks": ""
             }
            },
            "type": "scattergl"
           }
          ],
          "scattermapbox": [
           {
            "marker": {
             "colorbar": {
              "outlinewidth": 0,
              "ticks": ""
             }
            },
            "type": "scattermapbox"
           }
          ],
          "scatterpolar": [
           {
            "marker": {
             "colorbar": {
              "outlinewidth": 0,
              "ticks": ""
             }
            },
            "type": "scatterpolar"
           }
          ],
          "scatterpolargl": [
           {
            "marker": {
             "colorbar": {
              "outlinewidth": 0,
              "ticks": ""
             }
            },
            "type": "scatterpolargl"
           }
          ],
          "scatterternary": [
           {
            "marker": {
             "colorbar": {
              "outlinewidth": 0,
              "ticks": ""
             }
            },
            "type": "scatterternary"
           }
          ],
          "surface": [
           {
            "colorbar": {
             "outlinewidth": 0,
             "ticks": ""
            },
            "colorscale": [
             [
              0,
              "#0d0887"
             ],
             [
              0.1111111111111111,
              "#46039f"
             ],
             [
              0.2222222222222222,
              "#7201a8"
             ],
             [
              0.3333333333333333,
              "#9c179e"
             ],
             [
              0.4444444444444444,
              "#bd3786"
             ],
             [
              0.5555555555555556,
              "#d8576b"
             ],
             [
              0.6666666666666666,
              "#ed7953"
             ],
             [
              0.7777777777777778,
              "#fb9f3a"
             ],
             [
              0.8888888888888888,
              "#fdca26"
             ],
             [
              1,
              "#f0f921"
             ]
            ],
            "type": "surface"
           }
          ],
          "table": [
           {
            "cells": {
             "fill": {
              "color": "#EBF0F8"
             },
             "line": {
              "color": "white"
             }
            },
            "header": {
             "fill": {
              "color": "#C8D4E3"
             },
             "line": {
              "color": "white"
             }
            },
            "type": "table"
           }
          ]
         },
         "layout": {
          "annotationdefaults": {
           "arrowcolor": "#2a3f5f",
           "arrowhead": 0,
           "arrowwidth": 1
          },
          "coloraxis": {
           "colorbar": {
            "outlinewidth": 0,
            "ticks": ""
           }
          },
          "colorscale": {
           "diverging": [
            [
             0,
             "#8e0152"
            ],
            [
             0.1,
             "#c51b7d"
            ],
            [
             0.2,
             "#de77ae"
            ],
            [
             0.3,
             "#f1b6da"
            ],
            [
             0.4,
             "#fde0ef"
            ],
            [
             0.5,
             "#f7f7f7"
            ],
            [
             0.6,
             "#e6f5d0"
            ],
            [
             0.7,
             "#b8e186"
            ],
            [
             0.8,
             "#7fbc41"
            ],
            [
             0.9,
             "#4d9221"
            ],
            [
             1,
             "#276419"
            ]
           ],
           "sequential": [
            [
             0,
             "#0d0887"
            ],
            [
             0.1111111111111111,
             "#46039f"
            ],
            [
             0.2222222222222222,
             "#7201a8"
            ],
            [
             0.3333333333333333,
             "#9c179e"
            ],
            [
             0.4444444444444444,
             "#bd3786"
            ],
            [
             0.5555555555555556,
             "#d8576b"
            ],
            [
             0.6666666666666666,
             "#ed7953"
            ],
            [
             0.7777777777777778,
             "#fb9f3a"
            ],
            [
             0.8888888888888888,
             "#fdca26"
            ],
            [
             1,
             "#f0f921"
            ]
           ],
           "sequentialminus": [
            [
             0,
             "#0d0887"
            ],
            [
             0.1111111111111111,
             "#46039f"
            ],
            [
             0.2222222222222222,
             "#7201a8"
            ],
            [
             0.3333333333333333,
             "#9c179e"
            ],
            [
             0.4444444444444444,
             "#bd3786"
            ],
            [
             0.5555555555555556,
             "#d8576b"
            ],
            [
             0.6666666666666666,
             "#ed7953"
            ],
            [
             0.7777777777777778,
             "#fb9f3a"
            ],
            [
             0.8888888888888888,
             "#fdca26"
            ],
            [
             1,
             "#f0f921"
            ]
           ]
          },
          "colorway": [
           "#636efa",
           "#EF553B",
           "#00cc96",
           "#ab63fa",
           "#FFA15A",
           "#19d3f3",
           "#FF6692",
           "#B6E880",
           "#FF97FF",
           "#FECB52"
          ],
          "font": {
           "color": "#2a3f5f"
          },
          "geo": {
           "bgcolor": "white",
           "lakecolor": "white",
           "landcolor": "#E5ECF6",
           "showlakes": true,
           "showland": true,
           "subunitcolor": "white"
          },
          "hoverlabel": {
           "align": "left"
          },
          "hovermode": "closest",
          "mapbox": {
           "style": "light"
          },
          "paper_bgcolor": "white",
          "plot_bgcolor": "#E5ECF6",
          "polar": {
           "angularaxis": {
            "gridcolor": "white",
            "linecolor": "white",
            "ticks": ""
           },
           "bgcolor": "#E5ECF6",
           "radialaxis": {
            "gridcolor": "white",
            "linecolor": "white",
            "ticks": ""
           }
          },
          "scene": {
           "xaxis": {
            "backgroundcolor": "#E5ECF6",
            "gridcolor": "white",
            "gridwidth": 2,
            "linecolor": "white",
            "showbackground": true,
            "ticks": "",
            "zerolinecolor": "white"
           },
           "yaxis": {
            "backgroundcolor": "#E5ECF6",
            "gridcolor": "white",
            "gridwidth": 2,
            "linecolor": "white",
            "showbackground": true,
            "ticks": "",
            "zerolinecolor": "white"
           },
           "zaxis": {
            "backgroundcolor": "#E5ECF6",
            "gridcolor": "white",
            "gridwidth": 2,
            "linecolor": "white",
            "showbackground": true,
            "ticks": "",
            "zerolinecolor": "white"
           }
          },
          "shapedefaults": {
           "line": {
            "color": "#2a3f5f"
           }
          },
          "ternary": {
           "aaxis": {
            "gridcolor": "white",
            "linecolor": "white",
            "ticks": ""
           },
           "baxis": {
            "gridcolor": "white",
            "linecolor": "white",
            "ticks": ""
           },
           "bgcolor": "#E5ECF6",
           "caxis": {
            "gridcolor": "white",
            "linecolor": "white",
            "ticks": ""
           }
          },
          "title": {
           "x": 0.05
          },
          "xaxis": {
           "automargin": true,
           "gridcolor": "white",
           "linecolor": "white",
           "ticks": "",
           "title": {
            "standoff": 15
           },
           "zerolinecolor": "white",
           "zerolinewidth": 2
          },
          "yaxis": {
           "automargin": true,
           "gridcolor": "white",
           "linecolor": "white",
           "ticks": "",
           "title": {
            "standoff": 15
           },
           "zerolinecolor": "white",
           "zerolinewidth": 2
          }
         }
        },
        "title": {
         "text": "2003 Military Expenditure as a Proportion of GDP"
        }
       }
      },
      "text/html": [
       "<div>                            <div id=\"8e9dc49d-47b5-468a-8912-b84d09f595e4\" class=\"plotly-graph-div\" style=\"height:525px; width:100%;\"></div>            <script type=\"text/javascript\">                require([\"plotly\"], function(Plotly) {                    window.PLOTLYENV=window.PLOTLYENV || {};                                    if (document.getElementById(\"8e9dc49d-47b5-468a-8912-b84d09f595e4\")) {                    Plotly.newPlot(                        \"8e9dc49d-47b5-468a-8912-b84d09f595e4\",                        [{\"colorbar\": {\"title\": {\"text\": \"Proportion of GDP\"}}, \"locations\": [\"AGO\", \"ARE\", \"ARM\", \"ARB\", \"ARG\", \"ALB\", \"AUS\", \"AUT\", \"AZE\", \"BEL\", \"BDI\", \"BEN\", \"BGD\", \"BFA\", \"BIH\", \"BGR\", \"BHR\", \"BLR\", \"BLZ\", \"BOL\", \"BRA\", \"BRN\", \"BWA\", \"CAF\", \"CAN\", \"CEB\", \"CHE\", \"CHN\", \"CHL\", \"CIV\", \"COG\", \"COD\", \"CMR\", \"COL\", \"CUB\", \"CPV\", \"CSS\", \"CRI\", \"DJI\", \"CZE\", \"CYP\", \"DEU\", \"DOM\", \"DNK\", \"DZA\", \"EAP\", \"EAR\", \"EAS\", \"ECS\", \"ECA\", \"EGY\", \"ERI\", \"ECU\", \"EMU\", \"EST\", \"ESP\", \"ETH\", \"FCS\", \"EUU\", \"FIN\", \"FJI\", \"FRA\", \"GEO\", \"GAB\", \"GBR\", \"GHA\", \"GIN\", \"GNB\", \"GMB\", \"GRC\", \"GTM\", \"GUY\", \"HIC\", \"HND\", \"HRV\", \"HPC\", \"HUN\", \"IBD\", \"IBT\", \"IDN\", \"IDA\", \"IDX\", \"IDB\", \"IND\", \"IRL\", \"ISL\", \"IRN\", \"ITA\", \"ISR\", \"JAM\", \"JOR\", \"JPN\", \"KAZ\", \"KEN\", \"KGZ\", \"KHM\", \"KOR\", \"LAO\", \"KWT\", \"LAC\", \"LBN\", \"LBY\", \"LCN\", \"LDC\", \"LIC\", \"LKA\", \"LMY\", \"LSO\", \"LMC\", \"LTE\", \"LVA\", \"LUX\", \"LTU\", \"MAR\", \"MDA\", \"MDG\", \"MEX\", \"MEA\", \"MIC\", \"MKD\", \"MLI\", \"MLT\", \"MNA\", \"MNG\", \"MOZ\", \"MRT\", \"MUS\", \"MYS\", \"MWI\", \"NAM\", \"NAC\", \"NER\", \"NGA\", \"NIC\", \"NLD\", \"NPL\", \"NOR\", \"OMN\", \"OED\", \"NZL\", \"OSS\", \"PAK\", \"PAN\", \"PHL\", \"PER\", \"PNG\", \"POL\", \"PRE\", \"PRT\", \"PRY\", \"QAT\", \"ROU\", \"PST\", \"RWA\", \"RUS\", \"SAS\", \"SEN\", \"SDN\", \"SAU\", \"SGP\", \"SLV\", \"SLE\", \"SSA\", \"SRB\", \"SST\", \"SSF\", \"SVK\", \"SVN\", \"SWE\", \"SWZ\", \"SYC\", \"TEC\", \"SYR\", \"TCD\", \"THA\", \"TGO\", \"TJK\", \"TEA\", \"TLA\", \"TMN\", \"TSS\", \"TSA\", \"TTO\", \"TUR\", \"TUN\", \"TZA\", \"UKR\", \"UGA\", \"UMC\", \"UZB\", \"USA\", \"URY\", \"VEN\", \"VNM\", \"WLD\", \"YEM\", \"ZAF\", \"ZWE\"], \"text\": [\"Angola\", \"United Arab Emirates\", \"Armenia\", \"Arab World\", \"Argentina\", \"Albania\", \"Australia\", \"Austria\", \"Azerbaijan\", \"Belgium\", \"Burundi\", \"Benin\", \"Bangladesh\", \"Burkina Faso\", \"Bosnia and Herzegovina\", \"Bulgaria\", \"Bahrain\", \"Belarus\", \"Belize\", \"Bolivia\", \"Brazil\", \"Brunei Darussalam\", \"Botswana\", \"Central African Republic\", \"Canada\", \"Central Europe and the Baltics\", \"Switzerland\", \"China\", \"Chile\", \"Cote d'Ivoire\", \"Congo, Rep.\", \"Congo, Dem. Rep.\", \"Cameroon\", \"Colombia\", \"Cuba\", \"Cabo Verde\", \"Caribbean small states\", \"Costa Rica\", \"Djibouti\", \"Czech Republic\", \"Cyprus\", \"Germany\", \"Dominican Republic\", \"Denmark\", \"Algeria\", \"East Asia & Pacific (excluding high income)\", \"Early-demographic dividend\", \"East Asia & Pacific\", \"Europe & Central Asia\", \"Europe & Central Asia (excluding high income)\", \"Egypt, Arab Rep.\", \"Eritrea\", \"Ecuador\", \"Euro area\", \"Estonia\", \"Spain\", \"Ethiopia\", \"Fragile and conflict affected situations\", \"European Union\", \"Finland\", \"Fiji\", \"France\", \"Georgia\", \"Gabon\", \"United Kingdom\", \"Ghana\", \"Guinea\", \"Guinea-Bissau\", \"Gambia, The\", \"Greece\", \"Guatemala\", \"Guyana\", \"High income\", \"Honduras\", \"Croatia\", \"Heavily indebted poor countries (HIPC)\", \"Hungary\", \"IBRD only\", \"IDA & IBRD total\", \"Indonesia\", \"IDA total\", \"IDA only\", \"IDA blend\", \"India\", \"Ireland\", \"Iceland\", \"Iran, Islamic Rep.\", \"Italy\", \"Israel\", \"Jamaica\", \"Jordan\", \"Japan\", \"Kazakhstan\", \"Kenya\", \"Kyrgyz Republic\", \"Cambodia\", \"Korea, Rep.\", \"Lao PDR\", \"Kuwait\", \"Latin America & Caribbean (excluding high income)\", \"Lebanon\", \"Libya\", \"Latin America & Caribbean\", \"Least developed countries: UN classification\", \"Low income\", \"Sri Lanka\", \"Low & middle income\", \"Lesotho\", \"Lower middle income\", \"Late-demographic dividend\", \"Latvia\", \"Luxembourg\", \"Lithuania\", \"Morocco\", \"Moldova\", \"Madagascar\", \"Mexico\", \"Middle East & North Africa\", \"Middle income\", \"North Macedonia\", \"Mali\", \"Malta\", \"Middle East & North Africa (excluding high income)\", \"Mongolia\", \"Mozambique\", \"Mauritania\", \"Mauritius\", \"Malaysia\", \"Malawi\", \"Namibia\", \"North America\", \"Niger\", \"Nigeria\", \"Nicaragua\", \"Netherlands\", \"Nepal\", \"Norway\", \"Oman\", \"OECD members\", \"New Zealand\", \"Other small states\", \"Pakistan\", \"Panama\", \"Philippines\", \"Peru\", \"Papua New Guinea\", \"Poland\", \"Pre-demographic dividend\", \"Portugal\", \"Paraguay\", \"Qatar\", \"Romania\", \"Post-demographic dividend\", \"Rwanda\", \"Russian Federation\", \"South Asia\", \"Senegal\", \"Sudan\", \"Saudi Arabia\", \"Singapore\", \"El Salvador\", \"Sierra Leone\", \"Sub-Saharan Africa (excluding high income)\", \"Serbia\", \"Small states\", \"Sub-Saharan Africa\", \"Slovak Republic\", \"Slovenia\", \"Sweden\", \"Eswatini\", \"Seychelles\", \"Europe & Central Asia (IDA & IBRD countries)\", \"Syrian Arab Republic\", \"Chad\", \"Thailand\", \"Togo\", \"Tajikistan\", \"East Asia & Pacific (IDA & IBRD countries)\", \"Latin America & the Caribbean (IDA & IBRD countries)\", \"Middle East & North Africa (IDA & IBRD countries)\", \"Sub-Saharan Africa (IDA & IBRD countries)\", \"South Asia (IDA & IBRD)\", \"Trinidad and Tobago\", \"Turkey\", \"Tunisia\", \"Tanzania\", \"Ukraine\", \"Uganda\", \"Upper middle income\", \"Uzbekistan\", \"United States\", \"Uruguay\", \"Venezuela, RB\", \"Vietnam\", \"World\", \"Yemen, Rep.\", \"South Africa\", \"Zimbabwe\"], \"type\": \"choropleth\", \"z\": [0.03761478974299675, 0.046923107244280254, 0.02728405212885601, 0.051726455854246775, 0.010775972627678175, 0.013569096761033666, 0.021279535863907063, 0.00910202976943315, 0.02426495960415028, 0.012211471492523822, 0.05532779782173028, 0.006472235475960356, 0.011959038610023193, 0.010730558915394983, 0.024167953106770074, 0.026912013249342344, 0.04658836299462327, 0.01298892589814246, 0.008695704117946111, 0.02145799250887702, 0.015032431354935953, 0.03711466870142001, 0.040073362821865084, 0.013177331098784493, 0.011159168365272323, 0.018294059461074288, 0.009266648244122228, 0.021156755535465106, 0.0273385696844788, 0.013916058097249967, 0.026824996620018058, 0.008806427001072306, 0.01295633062242839, 0.03463991650161696, 0.00827086454770314, 0.007104531465147224, 0.0028706739043546834, 0.0, 0.06713951284417795, 0.018927640438204135, 0.01982684825138989, 0.014043782528517736, 0.007198786623462685, 0.014668576848512482, 0.032511613738479564, 0.029590497963961723, 0.03195181148145352, 0.01738794955784128, 0.018744896451185898, 0.03454655246933062, 0.028748015178348737, 0.2086574527412067, 0.02278553434914678, 0.016849778300448787, 0.017353536303377267, 0.014224898053371326, 0.03231483482005923, 0.07088789431584852, 0.021591386592033576, 0.014450855902167435, 0.01610446146282415, 0.02494835780173627, 0.010685131229156129, 0.01668328794078717, 0.022865335110894985, 0.006976046142379794, 0.024411826447766405, 0.015754296136368577, 0.004102058908543777, 0.024937990535357252, 0.008156603595277683, 0.02199720196474923, 0.024113485883980768, 0.010097351301517277, 0.020451734646652904, 0.014656252418284926, 0.01643057828408021, 0.02031360887720711, 0.023550610793804973, 0.009092832563200787, 0.062314452993897596, 0.09790844763471797, 0.020319598842293268, 0.02687840356984822, 0.005875166947097344, 0.0, 0.02420837193208437, 0.017040488170955395, 0.08527867678191728, 0.005835010109148774, 0.05918015432339818, 0.009556780274224496, 0.010299260814023568, 0.01650094753670306, 0.016989564656585795, 0.014495844813452799, 0.022551097788644038, 0.00544319084979527, 0.0653921183605753, 0.010915643485207672, 0.04597853014151931, 0.020612559819155264, 0.010944652106003667, 0.1126760933071099, 0.026490263277811187, 0.028688821042779332, 0.023850602938824055, 0.023633599220949007, 0.039351103515181236, 0.022791026101728885, 0.01612248840904669, 0.006720431403069906, 0.011212421219325587, 0.034942148398404906, 0.004163113526788676, 0.01137968355555056, 0.004449720095435891, 0.052088432722093105, 0.02375862384242043, 0.02341697246275657, 0.014193338457530182, 0.006301035473472143, 0.02909786102599552, 0.015253088173050572, 0.009557225526839254, 0.030445956246585842, 0.001871026687615822, 0.02614806730822951, 0.004088342765361001, 0.02690134044862262, 0.03439954990022016, 0.0072626002820001785, 0.0055995708727936844, 0.006633616530698618, 0.014437541944228867, 0.016260103254565353, 0.019739336128399808, 0.09102930921455368, 0.023258653293678797, 0.012836494500157784, 0.0222697045924227, 0.040570976094064196, 0.0, 0.014950584240832643, 0.01517517931408056, 0.005459525951518556, 0.01908051849080526, 0.0112333524678429, 0.018863111326052263, 0.008257553718241049, 0.033339948401807096, 0.02162953004768713, 0.023505629437139335, 0.024480716648742875, 0.03944191242384484, 0.027080658061982184, 0.011154433540711136, 0.022560289132181936, 0.08687118464353205, 0.048375829196584265, 0.009559123412375706, 0.02054244961935329, 0.014426438003854038, 0.032495118393647146, 0.017306139996402754, 0.014268786844862586, 0.01333946931507222, 0.01406818931634046, 0.015869129156011907, 0.014528351585230378, 0.017343099525149418, 0.02988007276486339, 0.06579628065772149, 0.014963372001352301, 0.012421277716922073, 0.01365700544033049, 0.022367590128606292, 0.029651264383916513, 0.01155193110668091, 0.029324627242977068, 0.014268786844862586, 0.027080658061982184, 0.0029840941979049802, 0.03296069133073728, 0.014839336320822504, 0.008227311727158236, 0.02851168277267716, 0.024047218747874806, 0.01931327467563745, 0.005341550563603856, 0.03621846457612987, 0.022375479966925623, 0.011813953021531973, 0.021286388368595918, 0.024059689400841116, 0.068544364786155, 0.014688015298466433, 0.03401080363303823]}],                        {\"geo\": {\"projection\": {\"type\": \"equirectangular\"}, \"showframe\": false}, \"template\": {\"data\": {\"bar\": [{\"error_x\": {\"color\": \"#2a3f5f\"}, \"error_y\": {\"color\": \"#2a3f5f\"}, \"marker\": {\"line\": {\"color\": \"#E5ECF6\", \"width\": 0.5}}, \"type\": \"bar\"}], \"barpolar\": [{\"marker\": {\"line\": {\"color\": \"#E5ECF6\", \"width\": 0.5}}, \"type\": \"barpolar\"}], \"carpet\": [{\"aaxis\": {\"endlinecolor\": \"#2a3f5f\", \"gridcolor\": \"white\", \"linecolor\": \"white\", \"minorgridcolor\": \"white\", \"startlinecolor\": \"#2a3f5f\"}, \"baxis\": {\"endlinecolor\": \"#2a3f5f\", \"gridcolor\": \"white\", \"linecolor\": \"white\", \"minorgridcolor\": \"white\", \"startlinecolor\": \"#2a3f5f\"}, \"type\": \"carpet\"}], \"choropleth\": [{\"colorbar\": {\"outlinewidth\": 0, \"ticks\": \"\"}, \"type\": \"choropleth\"}], \"contour\": [{\"colorbar\": {\"outlinewidth\": 0, \"ticks\": \"\"}, \"colorscale\": [[0.0, \"#0d0887\"], [0.1111111111111111, \"#46039f\"], [0.2222222222222222, \"#7201a8\"], [0.3333333333333333, \"#9c179e\"], [0.4444444444444444, \"#bd3786\"], [0.5555555555555556, \"#d8576b\"], [0.6666666666666666, \"#ed7953\"], [0.7777777777777778, \"#fb9f3a\"], [0.8888888888888888, \"#fdca26\"], [1.0, \"#f0f921\"]], \"type\": \"contour\"}], \"contourcarpet\": [{\"colorbar\": {\"outlinewidth\": 0, \"ticks\": \"\"}, \"type\": \"contourcarpet\"}], \"heatmap\": [{\"colorbar\": {\"outlinewidth\": 0, \"ticks\": \"\"}, \"colorscale\": [[0.0, \"#0d0887\"], [0.1111111111111111, \"#46039f\"], [0.2222222222222222, \"#7201a8\"], [0.3333333333333333, \"#9c179e\"], [0.4444444444444444, \"#bd3786\"], [0.5555555555555556, \"#d8576b\"], [0.6666666666666666, \"#ed7953\"], [0.7777777777777778, \"#fb9f3a\"], [0.8888888888888888, \"#fdca26\"], [1.0, \"#f0f921\"]], \"type\": \"heatmap\"}], \"heatmapgl\": [{\"colorbar\": {\"outlinewidth\": 0, \"ticks\": \"\"}, \"colorscale\": [[0.0, \"#0d0887\"], [0.1111111111111111, \"#46039f\"], [0.2222222222222222, \"#7201a8\"], [0.3333333333333333, \"#9c179e\"], [0.4444444444444444, \"#bd3786\"], [0.5555555555555556, \"#d8576b\"], [0.6666666666666666, \"#ed7953\"], [0.7777777777777778, \"#fb9f3a\"], [0.8888888888888888, \"#fdca26\"], [1.0, \"#f0f921\"]], \"type\": \"heatmapgl\"}], \"histogram\": [{\"marker\": {\"colorbar\": {\"outlinewidth\": 0, \"ticks\": \"\"}}, \"type\": \"histogram\"}], \"histogram2d\": [{\"colorbar\": {\"outlinewidth\": 0, \"ticks\": \"\"}, \"colorscale\": [[0.0, \"#0d0887\"], [0.1111111111111111, \"#46039f\"], [0.2222222222222222, \"#7201a8\"], [0.3333333333333333, \"#9c179e\"], [0.4444444444444444, \"#bd3786\"], [0.5555555555555556, \"#d8576b\"], [0.6666666666666666, \"#ed7953\"], [0.7777777777777778, \"#fb9f3a\"], [0.8888888888888888, \"#fdca26\"], [1.0, \"#f0f921\"]], \"type\": \"histogram2d\"}], \"histogram2dcontour\": [{\"colorbar\": {\"outlinewidth\": 0, \"ticks\": \"\"}, \"colorscale\": [[0.0, \"#0d0887\"], [0.1111111111111111, \"#46039f\"], [0.2222222222222222, \"#7201a8\"], [0.3333333333333333, \"#9c179e\"], [0.4444444444444444, \"#bd3786\"], [0.5555555555555556, \"#d8576b\"], [0.6666666666666666, \"#ed7953\"], [0.7777777777777778, \"#fb9f3a\"], [0.8888888888888888, \"#fdca26\"], [1.0, \"#f0f921\"]], \"type\": \"histogram2dcontour\"}], \"mesh3d\": [{\"colorbar\": {\"outlinewidth\": 0, \"ticks\": \"\"}, \"type\": \"mesh3d\"}], \"parcoords\": [{\"line\": {\"colorbar\": {\"outlinewidth\": 0, \"ticks\": \"\"}}, \"type\": \"parcoords\"}], \"pie\": [{\"automargin\": true, \"type\": \"pie\"}], \"scatter\": [{\"marker\": {\"colorbar\": {\"outlinewidth\": 0, \"ticks\": \"\"}}, \"type\": \"scatter\"}], \"scatter3d\": [{\"line\": {\"colorbar\": {\"outlinewidth\": 0, \"ticks\": \"\"}}, \"marker\": {\"colorbar\": {\"outlinewidth\": 0, \"ticks\": \"\"}}, \"type\": \"scatter3d\"}], \"scattercarpet\": [{\"marker\": {\"colorbar\": {\"outlinewidth\": 0, \"ticks\": \"\"}}, \"type\": \"scattercarpet\"}], \"scattergeo\": [{\"marker\": {\"colorbar\": {\"outlinewidth\": 0, \"ticks\": \"\"}}, \"type\": \"scattergeo\"}], \"scattergl\": [{\"marker\": {\"colorbar\": {\"outlinewidth\": 0, \"ticks\": \"\"}}, \"type\": \"scattergl\"}], \"scattermapbox\": [{\"marker\": {\"colorbar\": {\"outlinewidth\": 0, \"ticks\": \"\"}}, \"type\": \"scattermapbox\"}], \"scatterpolar\": [{\"marker\": {\"colorbar\": {\"outlinewidth\": 0, \"ticks\": \"\"}}, \"type\": \"scatterpolar\"}], \"scatterpolargl\": [{\"marker\": {\"colorbar\": {\"outlinewidth\": 0, \"ticks\": \"\"}}, \"type\": \"scatterpolargl\"}], \"scatterternary\": [{\"marker\": {\"colorbar\": {\"outlinewidth\": 0, \"ticks\": \"\"}}, \"type\": \"scatterternary\"}], \"surface\": [{\"colorbar\": {\"outlinewidth\": 0, \"ticks\": \"\"}, \"colorscale\": [[0.0, \"#0d0887\"], [0.1111111111111111, \"#46039f\"], [0.2222222222222222, \"#7201a8\"], [0.3333333333333333, \"#9c179e\"], [0.4444444444444444, \"#bd3786\"], [0.5555555555555556, \"#d8576b\"], [0.6666666666666666, \"#ed7953\"], [0.7777777777777778, \"#fb9f3a\"], [0.8888888888888888, \"#fdca26\"], [1.0, \"#f0f921\"]], \"type\": \"surface\"}], \"table\": [{\"cells\": {\"fill\": {\"color\": \"#EBF0F8\"}, \"line\": {\"color\": \"white\"}}, \"header\": {\"fill\": {\"color\": \"#C8D4E3\"}, \"line\": {\"color\": \"white\"}}, \"type\": \"table\"}]}, \"layout\": {\"annotationdefaults\": {\"arrowcolor\": \"#2a3f5f\", \"arrowhead\": 0, \"arrowwidth\": 1}, \"coloraxis\": {\"colorbar\": {\"outlinewidth\": 0, \"ticks\": \"\"}}, \"colorscale\": {\"diverging\": [[0, \"#8e0152\"], [0.1, \"#c51b7d\"], [0.2, \"#de77ae\"], [0.3, \"#f1b6da\"], [0.4, \"#fde0ef\"], [0.5, \"#f7f7f7\"], [0.6, \"#e6f5d0\"], [0.7, \"#b8e186\"], [0.8, \"#7fbc41\"], [0.9, \"#4d9221\"], [1, \"#276419\"]], \"sequential\": [[0.0, \"#0d0887\"], [0.1111111111111111, \"#46039f\"], [0.2222222222222222, \"#7201a8\"], [0.3333333333333333, \"#9c179e\"], [0.4444444444444444, \"#bd3786\"], [0.5555555555555556, \"#d8576b\"], [0.6666666666666666, \"#ed7953\"], [0.7777777777777778, \"#fb9f3a\"], [0.8888888888888888, \"#fdca26\"], [1.0, \"#f0f921\"]], \"sequentialminus\": [[0.0, \"#0d0887\"], [0.1111111111111111, \"#46039f\"], [0.2222222222222222, \"#7201a8\"], [0.3333333333333333, \"#9c179e\"], [0.4444444444444444, \"#bd3786\"], [0.5555555555555556, \"#d8576b\"], [0.6666666666666666, \"#ed7953\"], [0.7777777777777778, \"#fb9f3a\"], [0.8888888888888888, \"#fdca26\"], [1.0, \"#f0f921\"]]}, \"colorway\": [\"#636efa\", \"#EF553B\", \"#00cc96\", \"#ab63fa\", \"#FFA15A\", \"#19d3f3\", \"#FF6692\", \"#B6E880\", \"#FF97FF\", \"#FECB52\"], \"font\": {\"color\": \"#2a3f5f\"}, \"geo\": {\"bgcolor\": \"white\", \"lakecolor\": \"white\", \"landcolor\": \"#E5ECF6\", \"showlakes\": true, \"showland\": true, \"subunitcolor\": \"white\"}, \"hoverlabel\": {\"align\": \"left\"}, \"hovermode\": \"closest\", \"mapbox\": {\"style\": \"light\"}, \"paper_bgcolor\": \"white\", \"plot_bgcolor\": \"#E5ECF6\", \"polar\": {\"angularaxis\": {\"gridcolor\": \"white\", \"linecolor\": \"white\", \"ticks\": \"\"}, \"bgcolor\": \"#E5ECF6\", \"radialaxis\": {\"gridcolor\": \"white\", \"linecolor\": \"white\", \"ticks\": \"\"}}, \"scene\": {\"xaxis\": {\"backgroundcolor\": \"#E5ECF6\", \"gridcolor\": \"white\", \"gridwidth\": 2, \"linecolor\": \"white\", \"showbackground\": true, \"ticks\": \"\", \"zerolinecolor\": \"white\"}, \"yaxis\": {\"backgroundcolor\": \"#E5ECF6\", \"gridcolor\": \"white\", \"gridwidth\": 2, \"linecolor\": \"white\", \"showbackground\": true, \"ticks\": \"\", \"zerolinecolor\": \"white\"}, \"zaxis\": {\"backgroundcolor\": \"#E5ECF6\", \"gridcolor\": \"white\", \"gridwidth\": 2, \"linecolor\": \"white\", \"showbackground\": true, \"ticks\": \"\", \"zerolinecolor\": \"white\"}}, \"shapedefaults\": {\"line\": {\"color\": \"#2a3f5f\"}}, \"ternary\": {\"aaxis\": {\"gridcolor\": \"white\", \"linecolor\": \"white\", \"ticks\": \"\"}, \"baxis\": {\"gridcolor\": \"white\", \"linecolor\": \"white\", \"ticks\": \"\"}, \"bgcolor\": \"#E5ECF6\", \"caxis\": {\"gridcolor\": \"white\", \"linecolor\": \"white\", \"ticks\": \"\"}}, \"title\": {\"x\": 0.05}, \"xaxis\": {\"automargin\": true, \"gridcolor\": \"white\", \"linecolor\": \"white\", \"ticks\": \"\", \"title\": {\"standoff\": 15}, \"zerolinecolor\": \"white\", \"zerolinewidth\": 2}, \"yaxis\": {\"automargin\": true, \"gridcolor\": \"white\", \"linecolor\": \"white\", \"ticks\": \"\", \"title\": {\"standoff\": 15}, \"zerolinecolor\": \"white\", \"zerolinewidth\": 2}}}, \"title\": {\"text\": \"2003 Military Expenditure as a Proportion of GDP\"}},                        {\"responsive\": true}                    ).then(function(){\n",
       "                            \n",
       "var gd = document.getElementById('8e9dc49d-47b5-468a-8912-b84d09f595e4');\n",
       "var x = new MutationObserver(function (mutations, observer) {{\n",
       "        var display = window.getComputedStyle(gd).display;\n",
       "        if (!display || display === 'none') {{\n",
       "            console.log([gd, 'removed!']);\n",
       "            Plotly.purge(gd);\n",
       "            observer.disconnect();\n",
       "        }}\n",
       "}});\n",
       "\n",
       "// Listen for the removal of the full notebook cells\n",
       "var notebookContainer = gd.closest('#notebook-container');\n",
       "if (notebookContainer) {{\n",
       "    x.observe(notebookContainer, {childList: true});\n",
       "}}\n",
       "\n",
       "// Listen for the clearing of the current output cell\n",
       "var outputEl = gd.closest('.output');\n",
       "if (outputEl) {{\n",
       "    x.observe(outputEl, {childList: true});\n",
       "}}\n",
       "\n",
       "                        })                };                });            </script>        </div>"
      ]
     },
     "metadata": {},
     "output_type": "display_data"
    }
   ],
   "source": [
    "iplot(choromap3)"
   ]
  },
  {
   "cell_type": "markdown",
   "metadata": {},
   "source": [
    "# Military Expenditure 2004"
   ]
  },
  {
   "cell_type": "code",
   "execution_count": 196,
   "metadata": {},
   "outputs": [],
   "source": [
    "cur = db.milExProp.find({'2004':{'$exists':'true'} },{'_id':0, 'Country':1, 'Code':1, '2004':1})"
   ]
  },
  {
   "cell_type": "code",
   "execution_count": 197,
   "metadata": {},
   "outputs": [
    {
     "name": "stderr",
     "output_type": "stream",
     "text": [
      "<ipython-input-197-ba8a4ec8460b>:2: DeprecationWarning:\n",
      "\n",
      "count is deprecated. Use Collection.count_documents instead.\n",
      "\n"
     ]
    }
   ],
   "source": [
    "df = pd.DataFrame()\n",
    "for i in range(cur.count()):\n",
    "    temp = cur.next()\n",
    "    df = df.append([[temp['Country'],temp['Code'],(temp['2004'])]])"
   ]
  },
  {
   "cell_type": "code",
   "execution_count": 198,
   "metadata": {},
   "outputs": [],
   "source": [
    "df = df.rename(columns = {0:'Country', 1:'ISO', 2:'milEx/gdp'})"
   ]
  },
  {
   "cell_type": "code",
   "execution_count": 199,
   "metadata": {},
   "outputs": [],
   "source": [
    "data = dict(type = 'choropleth',\n",
    "           locations = df['ISO'],\n",
    "           z = df['milEx/gdp'],\n",
    "           text = df['Country'],\n",
    "           colorbar = {'title':'Proportion of GDP'})"
   ]
  },
  {
   "cell_type": "code",
   "execution_count": 200,
   "metadata": {},
   "outputs": [],
   "source": [
    "layout = dict(title = '2004 Military Expenditure as a Proportion of GDP',\n",
    "             geo = dict(showframe = False,\n",
    "             projection = {'type':\"equirectangular\"}))"
   ]
  },
  {
   "cell_type": "code",
   "execution_count": 201,
   "metadata": {},
   "outputs": [],
   "source": [
    "choromap3 = go.Figure(data=[data],layout = layout)"
   ]
  },
  {
   "cell_type": "code",
   "execution_count": 202,
   "metadata": {
    "scrolled": true
   },
   "outputs": [
    {
     "data": {
      "application/vnd.plotly.v1+json": {
       "config": {
        "linkText": "Export to plot.ly",
        "plotlyServerURL": "https://plot.ly",
        "showLink": false
       },
       "data": [
        {
         "colorbar": {
          "title": {
           "text": "Proportion of GDP"
          }
         },
         "locations": [
          "AFG",
          "AGO",
          "ARE",
          "ARM",
          "ARB",
          "ARG",
          "ALB",
          "AUS",
          "AUT",
          "AZE",
          "BEL",
          "BDI",
          "BEN",
          "BGD",
          "BFA",
          "BIH",
          "BGR",
          "BHR",
          "BLR",
          "BLZ",
          "BOL",
          "BRA",
          "BRN",
          "BWA",
          "CAF",
          "CAN",
          "CEB",
          "CHE",
          "CHN",
          "CHL",
          "CIV",
          "COG",
          "COD",
          "CMR",
          "COL",
          "CUB",
          "CPV",
          "CSS",
          "CRI",
          "DJI",
          "CZE",
          "CYP",
          "DEU",
          "DOM",
          "DNK",
          "DZA",
          "EAP",
          "EAR",
          "EAS",
          "ECS",
          "ECA",
          "EGY",
          "ECU",
          "EMU",
          "EST",
          "ESP",
          "ETH",
          "FCS",
          "EUU",
          "FIN",
          "FJI",
          "FRA",
          "GEO",
          "GAB",
          "GBR",
          "GHA",
          "GIN",
          "GMB",
          "GRC",
          "GTM",
          "GUY",
          "HIC",
          "HND",
          "HRV",
          "HPC",
          "HUN",
          "IBD",
          "IBT",
          "IDN",
          "IDA",
          "IDX",
          "IDB",
          "IND",
          "IRL",
          "IRQ",
          "ISL",
          "IRN",
          "ITA",
          "ISR",
          "JAM",
          "JOR",
          "JPN",
          "KAZ",
          "KEN",
          "KGZ",
          "KHM",
          "KOR",
          "LAO",
          "KWT",
          "LAC",
          "LBR",
          "LBN",
          "LBY",
          "LCN",
          "LDC",
          "LIC",
          "LKA",
          "LMY",
          "LSO",
          "LMC",
          "LTE",
          "LVA",
          "LUX",
          "LTU",
          "MAR",
          "MDA",
          "MDG",
          "MEX",
          "MEA",
          "MIC",
          "MKD",
          "MLI",
          "MMR",
          "MLT",
          "MNA",
          "MNG",
          "MOZ",
          "MUS",
          "MYS",
          "MWI",
          "NAM",
          "NAC",
          "NER",
          "NGA",
          "NIC",
          "NLD",
          "NPL",
          "NOR",
          "OMN",
          "OED",
          "NZL",
          "OSS",
          "PAK",
          "PAN",
          "PHL",
          "PER",
          "PNG",
          "POL",
          "PRE",
          "PRT",
          "PRY",
          "QAT",
          "ROU",
          "PST",
          "RWA",
          "RUS",
          "SAS",
          "SEN",
          "SDN",
          "SAU",
          "SGP",
          "SLV",
          "SLE",
          "SSA",
          "SRB",
          "SST",
          "SSF",
          "SVK",
          "SVN",
          "SWE",
          "SWZ",
          "SYC",
          "TEC",
          "SYR",
          "TCD",
          "THA",
          "TGO",
          "TJK",
          "TEA",
          "TLA",
          "TMN",
          "TSS",
          "TSA",
          "TTO",
          "TUR",
          "TUN",
          "TZA",
          "UKR",
          "UGA",
          "UMC",
          "USA",
          "URY",
          "VEN",
          "VNM",
          "WLD",
          "YEM",
          "ZAF",
          "ZMB",
          "ZWE"
         ],
         "text": [
          "Afghanistan",
          "Angola",
          "United Arab Emirates",
          "Armenia",
          "Arab World",
          "Argentina",
          "Albania",
          "Australia",
          "Austria",
          "Azerbaijan",
          "Belgium",
          "Burundi",
          "Benin",
          "Bangladesh",
          "Burkina Faso",
          "Bosnia and Herzegovina",
          "Bulgaria",
          "Bahrain",
          "Belarus",
          "Belize",
          "Bolivia",
          "Brazil",
          "Brunei Darussalam",
          "Botswana",
          "Central African Republic",
          "Canada",
          "Central Europe and the Baltics",
          "Switzerland",
          "China",
          "Chile",
          "Cote d'Ivoire",
          "Congo, Rep.",
          "Congo, Dem. Rep.",
          "Cameroon",
          "Colombia",
          "Cuba",
          "Cabo Verde",
          "Caribbean small states",
          "Costa Rica",
          "Djibouti",
          "Czech Republic",
          "Cyprus",
          "Germany",
          "Dominican Republic",
          "Denmark",
          "Algeria",
          "East Asia & Pacific (excluding high income)",
          "Early-demographic dividend",
          "East Asia & Pacific",
          "Europe & Central Asia",
          "Europe & Central Asia (excluding high income)",
          "Egypt, Arab Rep.",
          "Ecuador",
          "Euro area",
          "Estonia",
          "Spain",
          "Ethiopia",
          "Fragile and conflict affected situations",
          "European Union",
          "Finland",
          "Fiji",
          "France",
          "Georgia",
          "Gabon",
          "United Kingdom",
          "Ghana",
          "Guinea",
          "Gambia, The",
          "Greece",
          "Guatemala",
          "Guyana",
          "High income",
          "Honduras",
          "Croatia",
          "Heavily indebted poor countries (HIPC)",
          "Hungary",
          "IBRD only",
          "IDA & IBRD total",
          "Indonesia",
          "IDA total",
          "IDA only",
          "IDA blend",
          "India",
          "Ireland",
          "Iraq",
          "Iceland",
          "Iran, Islamic Rep.",
          "Italy",
          "Israel",
          "Jamaica",
          "Jordan",
          "Japan",
          "Kazakhstan",
          "Kenya",
          "Kyrgyz Republic",
          "Cambodia",
          "Korea, Rep.",
          "Lao PDR",
          "Kuwait",
          "Latin America & Caribbean (excluding high income)",
          "Liberia",
          "Lebanon",
          "Libya",
          "Latin America & Caribbean",
          "Least developed countries: UN classification",
          "Low income",
          "Sri Lanka",
          "Low & middle income",
          "Lesotho",
          "Lower middle income",
          "Late-demographic dividend",
          "Latvia",
          "Luxembourg",
          "Lithuania",
          "Morocco",
          "Moldova",
          "Madagascar",
          "Mexico",
          "Middle East & North Africa",
          "Middle income",
          "North Macedonia",
          "Mali",
          "Myanmar",
          "Malta",
          "Middle East & North Africa (excluding high income)",
          "Mongolia",
          "Mozambique",
          "Mauritius",
          "Malaysia",
          "Malawi",
          "Namibia",
          "North America",
          "Niger",
          "Nigeria",
          "Nicaragua",
          "Netherlands",
          "Nepal",
          "Norway",
          "Oman",
          "OECD members",
          "New Zealand",
          "Other small states",
          "Pakistan",
          "Panama",
          "Philippines",
          "Peru",
          "Papua New Guinea",
          "Poland",
          "Pre-demographic dividend",
          "Portugal",
          "Paraguay",
          "Qatar",
          "Romania",
          "Post-demographic dividend",
          "Rwanda",
          "Russian Federation",
          "South Asia",
          "Senegal",
          "Sudan",
          "Saudi Arabia",
          "Singapore",
          "El Salvador",
          "Sierra Leone",
          "Sub-Saharan Africa (excluding high income)",
          "Serbia",
          "Small states",
          "Sub-Saharan Africa",
          "Slovak Republic",
          "Slovenia",
          "Sweden",
          "Eswatini",
          "Seychelles",
          "Europe & Central Asia (IDA & IBRD countries)",
          "Syrian Arab Republic",
          "Chad",
          "Thailand",
          "Togo",
          "Tajikistan",
          "East Asia & Pacific (IDA & IBRD countries)",
          "Latin America & the Caribbean (IDA & IBRD countries)",
          "Middle East & North Africa (IDA & IBRD countries)",
          "Sub-Saharan Africa (IDA & IBRD countries)",
          "South Asia (IDA & IBRD)",
          "Trinidad and Tobago",
          "Turkey",
          "Tunisia",
          "Tanzania",
          "Ukraine",
          "Uganda",
          "Upper middle income",
          "United States",
          "Uruguay",
          "Venezuela, RB",
          "Vietnam",
          "World",
          "Yemen, Rep.",
          "South Africa",
          "Zambia",
          "Zimbabwe"
         ],
         "type": "choropleth",
         "z": [
          0.023936646656474766,
          0.03471177662367836,
          0.046114738850202945,
          0.027419915648681552,
          0.05026557121549885,
          0.008902147524684802,
          0.014046880133068927,
          0.019584339232390155,
          0.008904102613119658,
          0.026294918404412553,
          0.011566446544384346,
          0.04902706157378691,
          0.006761496230890615,
          0.01183625235637943,
          0.012070053087871424,
          0.018884147089578182,
          0.02487769785171027,
          0.04044931094469362,
          0.013580592786176906,
          0.00902282779283778,
          0.019249163057567208,
          0.014612084618396812,
          0.02532681783845136,
          0.03505889246699445,
          0.011891839048940752,
          0.011079481625033857,
          0.017293174242472266,
          0.008889250745698586,
          0.020637110974968866,
          0.027087090259353044,
          0.015150712462875129,
          0.02673873081772598,
          0.013366159387483008,
          0.012684801102623417,
          0.03465018999959727,
          0.0016241556697118027,
          0.006980440785833746,
          0.003745904678850602,
          0,
          0.05608363252313236,
          0.0171370317333195,
          0.01954178807517832,
          0.013529750131120344,
          0.006736937978525162,
          0.014237139302701771,
          0.03284186860340503,
          0.029668745636894596,
          0.03140036484184173,
          0.017463282792427308,
          0.018304747262308553,
          0.030482119575681286,
          0.030055653711495177,
          0.01940332798776202,
          0.016664441965561282,
          0.01687759149335525,
          0.014302833350483855,
          0.030701115375072627,
          0.07120853443871974,
          0.021405773034932057,
          0.014676251685392829,
          0.017158088916583644,
          0.025053626306848324,
          0.013739458583380406,
          0.01613165558915944,
          0.02233009178374535,
          0.006345175605358183,
          0.022097887846405435,
          0.0020078961278412093,
          0.026057857676474273,
          0.004794159278023732,
          0.028093215006977243,
          0.024235942601468843,
          0.006903873061893073,
          0.01757128989754437,
          0.0176520056142126,
          0.014742323681273166,
          0.019938502157327228,
          0.02327153464117962,
          0.009457161446174202,
          0.06415321938615919,
          0.10581959118546932,
          0.018486414820593013,
          0.028539249683932365,
          0.005683482282229924,
          0.016755665492028258,
          0,
          0.027591698505985196,
          0.016781623829156662,
          0.08213224247149753,
          0.005372204668331894,
          0.05070610691797067,
          0.009416076384414582,
          0.009882397410560273,
          0.016141807977385476,
          0.016838243621653672,
          0.01296758355188902,
          0.022479104820950876,
          0.004858424887766902,
          0.05804460886157209,
          0.010573695957439193,
          0.0035473801560758082,
          0.045111922982507234,
          0.020683136768852035,
          0.010752681961978004,
          0.12181475701014517,
          0.023034834081138576,
          0.02997239999404825,
          0.023516264357437824,
          0.020769053599477665,
          0.04085427949777675,
          0.021934440670942943,
          0.01597690052317979,
          0.00676587273332816,
          0.011957732006646623,
          0.032494602469248735,
          0.0036093553568422175,
          0.010755100631641168,
          0.004000060063439357,
          0.05007797954251518,
          0.023501380322362028,
          0.023801333236754683,
          0.014219983053092423,
          2.8251077728303677,
          0.006704815768063614,
          0.030000583422833016,
          0.01392980041995811,
          0.01022930761769827,
          0.0016621675650132525,
          0.02263061968619203,
          0.0063190855677565435,
          0.02576941267780021,
          0.03594783166224188,
          0.008447512283228169,
          0.004692491632787026,
          0.005629830244055732,
          0.014268898475889415,
          0.01796142918006466,
          0.01847699598190128,
          0.09007939843004334,
          0.02340314609168031,
          0.012368611621694583,
          0.01876350316757666,
          0.03830927616903237,
          0,
          0.013086265748842502,
          0.013809554869274572,
          0.006218677798882545,
          0.018732205206880542,
          0.014022095691784158,
          0.01967594021445276,
          0.008776300638836174,
          0.024338596856915324,
          0.02040988967386181,
          0.023724549385695806,
          0.019730259173170655,
          0.03545655122643482,
          0.02836416195935133,
          0.010578244699055899,
          0.057824474985826727,
          0.0808155970989908,
          0.04384208801171733,
          0.00932617585281266,
          0.015851540479185515,
          0.01450260958801851,
          0.028275300930405377,
          0.015288964570118857,
          0.0143609338189734,
          0.012406513641059085,
          0.01432971032665658,
          0.014319532565020793,
          0.015413094137017374,
          0.01897640245687223,
          0.026896569182281307,
          0.0553493370707007,
          0.011447726271824622,
          0.010798052190254455,
          0.014060475639121465,
          0.02172742511330246,
          0.029728722573382427,
          0.01141761143892501,
          0.030219581968013432,
          0.014360933818973376,
          0.02836416195935133,
          0.005714426077541565,
          0.026979080126952416,
          0.014259353825829223,
          0.007649811550574805,
          0.025995709364111788,
          0.024686007259044036,
          0.018859887048304862,
          0.03807191025799157,
          0.02040736806305123,
          0.012882813775699794,
          0.02014379839811942,
          0.024163873623569743,
          0.053016375218666166,
          0.013557306765479425,
          0.015809062220638225,
          0.04411259311357121
         ]
        }
       ],
       "layout": {
        "geo": {
         "projection": {
          "type": "equirectangular"
         },
         "showframe": false
        },
        "template": {
         "data": {
          "bar": [
           {
            "error_x": {
             "color": "#2a3f5f"
            },
            "error_y": {
             "color": "#2a3f5f"
            },
            "marker": {
             "line": {
              "color": "#E5ECF6",
              "width": 0.5
             }
            },
            "type": "bar"
           }
          ],
          "barpolar": [
           {
            "marker": {
             "line": {
              "color": "#E5ECF6",
              "width": 0.5
             }
            },
            "type": "barpolar"
           }
          ],
          "carpet": [
           {
            "aaxis": {
             "endlinecolor": "#2a3f5f",
             "gridcolor": "white",
             "linecolor": "white",
             "minorgridcolor": "white",
             "startlinecolor": "#2a3f5f"
            },
            "baxis": {
             "endlinecolor": "#2a3f5f",
             "gridcolor": "white",
             "linecolor": "white",
             "minorgridcolor": "white",
             "startlinecolor": "#2a3f5f"
            },
            "type": "carpet"
           }
          ],
          "choropleth": [
           {
            "colorbar": {
             "outlinewidth": 0,
             "ticks": ""
            },
            "type": "choropleth"
           }
          ],
          "contour": [
           {
            "colorbar": {
             "outlinewidth": 0,
             "ticks": ""
            },
            "colorscale": [
             [
              0,
              "#0d0887"
             ],
             [
              0.1111111111111111,
              "#46039f"
             ],
             [
              0.2222222222222222,
              "#7201a8"
             ],
             [
              0.3333333333333333,
              "#9c179e"
             ],
             [
              0.4444444444444444,
              "#bd3786"
             ],
             [
              0.5555555555555556,
              "#d8576b"
             ],
             [
              0.6666666666666666,
              "#ed7953"
             ],
             [
              0.7777777777777778,
              "#fb9f3a"
             ],
             [
              0.8888888888888888,
              "#fdca26"
             ],
             [
              1,
              "#f0f921"
             ]
            ],
            "type": "contour"
           }
          ],
          "contourcarpet": [
           {
            "colorbar": {
             "outlinewidth": 0,
             "ticks": ""
            },
            "type": "contourcarpet"
           }
          ],
          "heatmap": [
           {
            "colorbar": {
             "outlinewidth": 0,
             "ticks": ""
            },
            "colorscale": [
             [
              0,
              "#0d0887"
             ],
             [
              0.1111111111111111,
              "#46039f"
             ],
             [
              0.2222222222222222,
              "#7201a8"
             ],
             [
              0.3333333333333333,
              "#9c179e"
             ],
             [
              0.4444444444444444,
              "#bd3786"
             ],
             [
              0.5555555555555556,
              "#d8576b"
             ],
             [
              0.6666666666666666,
              "#ed7953"
             ],
             [
              0.7777777777777778,
              "#fb9f3a"
             ],
             [
              0.8888888888888888,
              "#fdca26"
             ],
             [
              1,
              "#f0f921"
             ]
            ],
            "type": "heatmap"
           }
          ],
          "heatmapgl": [
           {
            "colorbar": {
             "outlinewidth": 0,
             "ticks": ""
            },
            "colorscale": [
             [
              0,
              "#0d0887"
             ],
             [
              0.1111111111111111,
              "#46039f"
             ],
             [
              0.2222222222222222,
              "#7201a8"
             ],
             [
              0.3333333333333333,
              "#9c179e"
             ],
             [
              0.4444444444444444,
              "#bd3786"
             ],
             [
              0.5555555555555556,
              "#d8576b"
             ],
             [
              0.6666666666666666,
              "#ed7953"
             ],
             [
              0.7777777777777778,
              "#fb9f3a"
             ],
             [
              0.8888888888888888,
              "#fdca26"
             ],
             [
              1,
              "#f0f921"
             ]
            ],
            "type": "heatmapgl"
           }
          ],
          "histogram": [
           {
            "marker": {
             "colorbar": {
              "outlinewidth": 0,
              "ticks": ""
             }
            },
            "type": "histogram"
           }
          ],
          "histogram2d": [
           {
            "colorbar": {
             "outlinewidth": 0,
             "ticks": ""
            },
            "colorscale": [
             [
              0,
              "#0d0887"
             ],
             [
              0.1111111111111111,
              "#46039f"
             ],
             [
              0.2222222222222222,
              "#7201a8"
             ],
             [
              0.3333333333333333,
              "#9c179e"
             ],
             [
              0.4444444444444444,
              "#bd3786"
             ],
             [
              0.5555555555555556,
              "#d8576b"
             ],
             [
              0.6666666666666666,
              "#ed7953"
             ],
             [
              0.7777777777777778,
              "#fb9f3a"
             ],
             [
              0.8888888888888888,
              "#fdca26"
             ],
             [
              1,
              "#f0f921"
             ]
            ],
            "type": "histogram2d"
           }
          ],
          "histogram2dcontour": [
           {
            "colorbar": {
             "outlinewidth": 0,
             "ticks": ""
            },
            "colorscale": [
             [
              0,
              "#0d0887"
             ],
             [
              0.1111111111111111,
              "#46039f"
             ],
             [
              0.2222222222222222,
              "#7201a8"
             ],
             [
              0.3333333333333333,
              "#9c179e"
             ],
             [
              0.4444444444444444,
              "#bd3786"
             ],
             [
              0.5555555555555556,
              "#d8576b"
             ],
             [
              0.6666666666666666,
              "#ed7953"
             ],
             [
              0.7777777777777778,
              "#fb9f3a"
             ],
             [
              0.8888888888888888,
              "#fdca26"
             ],
             [
              1,
              "#f0f921"
             ]
            ],
            "type": "histogram2dcontour"
           }
          ],
          "mesh3d": [
           {
            "colorbar": {
             "outlinewidth": 0,
             "ticks": ""
            },
            "type": "mesh3d"
           }
          ],
          "parcoords": [
           {
            "line": {
             "colorbar": {
              "outlinewidth": 0,
              "ticks": ""
             }
            },
            "type": "parcoords"
           }
          ],
          "pie": [
           {
            "automargin": true,
            "type": "pie"
           }
          ],
          "scatter": [
           {
            "marker": {
             "colorbar": {
              "outlinewidth": 0,
              "ticks": ""
             }
            },
            "type": "scatter"
           }
          ],
          "scatter3d": [
           {
            "line": {
             "colorbar": {
              "outlinewidth": 0,
              "ticks": ""
             }
            },
            "marker": {
             "colorbar": {
              "outlinewidth": 0,
              "ticks": ""
             }
            },
            "type": "scatter3d"
           }
          ],
          "scattercarpet": [
           {
            "marker": {
             "colorbar": {
              "outlinewidth": 0,
              "ticks": ""
             }
            },
            "type": "scattercarpet"
           }
          ],
          "scattergeo": [
           {
            "marker": {
             "colorbar": {
              "outlinewidth": 0,
              "ticks": ""
             }
            },
            "type": "scattergeo"
           }
          ],
          "scattergl": [
           {
            "marker": {
             "colorbar": {
              "outlinewidth": 0,
              "ticks": ""
             }
            },
            "type": "scattergl"
           }
          ],
          "scattermapbox": [
           {
            "marker": {
             "colorbar": {
              "outlinewidth": 0,
              "ticks": ""
             }
            },
            "type": "scattermapbox"
           }
          ],
          "scatterpolar": [
           {
            "marker": {
             "colorbar": {
              "outlinewidth": 0,
              "ticks": ""
             }
            },
            "type": "scatterpolar"
           }
          ],
          "scatterpolargl": [
           {
            "marker": {
             "colorbar": {
              "outlinewidth": 0,
              "ticks": ""
             }
            },
            "type": "scatterpolargl"
           }
          ],
          "scatterternary": [
           {
            "marker": {
             "colorbar": {
              "outlinewidth": 0,
              "ticks": ""
             }
            },
            "type": "scatterternary"
           }
          ],
          "surface": [
           {
            "colorbar": {
             "outlinewidth": 0,
             "ticks": ""
            },
            "colorscale": [
             [
              0,
              "#0d0887"
             ],
             [
              0.1111111111111111,
              "#46039f"
             ],
             [
              0.2222222222222222,
              "#7201a8"
             ],
             [
              0.3333333333333333,
              "#9c179e"
             ],
             [
              0.4444444444444444,
              "#bd3786"
             ],
             [
              0.5555555555555556,
              "#d8576b"
             ],
             [
              0.6666666666666666,
              "#ed7953"
             ],
             [
              0.7777777777777778,
              "#fb9f3a"
             ],
             [
              0.8888888888888888,
              "#fdca26"
             ],
             [
              1,
              "#f0f921"
             ]
            ],
            "type": "surface"
           }
          ],
          "table": [
           {
            "cells": {
             "fill": {
              "color": "#EBF0F8"
             },
             "line": {
              "color": "white"
             }
            },
            "header": {
             "fill": {
              "color": "#C8D4E3"
             },
             "line": {
              "color": "white"
             }
            },
            "type": "table"
           }
          ]
         },
         "layout": {
          "annotationdefaults": {
           "arrowcolor": "#2a3f5f",
           "arrowhead": 0,
           "arrowwidth": 1
          },
          "coloraxis": {
           "colorbar": {
            "outlinewidth": 0,
            "ticks": ""
           }
          },
          "colorscale": {
           "diverging": [
            [
             0,
             "#8e0152"
            ],
            [
             0.1,
             "#c51b7d"
            ],
            [
             0.2,
             "#de77ae"
            ],
            [
             0.3,
             "#f1b6da"
            ],
            [
             0.4,
             "#fde0ef"
            ],
            [
             0.5,
             "#f7f7f7"
            ],
            [
             0.6,
             "#e6f5d0"
            ],
            [
             0.7,
             "#b8e186"
            ],
            [
             0.8,
             "#7fbc41"
            ],
            [
             0.9,
             "#4d9221"
            ],
            [
             1,
             "#276419"
            ]
           ],
           "sequential": [
            [
             0,
             "#0d0887"
            ],
            [
             0.1111111111111111,
             "#46039f"
            ],
            [
             0.2222222222222222,
             "#7201a8"
            ],
            [
             0.3333333333333333,
             "#9c179e"
            ],
            [
             0.4444444444444444,
             "#bd3786"
            ],
            [
             0.5555555555555556,
             "#d8576b"
            ],
            [
             0.6666666666666666,
             "#ed7953"
            ],
            [
             0.7777777777777778,
             "#fb9f3a"
            ],
            [
             0.8888888888888888,
             "#fdca26"
            ],
            [
             1,
             "#f0f921"
            ]
           ],
           "sequentialminus": [
            [
             0,
             "#0d0887"
            ],
            [
             0.1111111111111111,
             "#46039f"
            ],
            [
             0.2222222222222222,
             "#7201a8"
            ],
            [
             0.3333333333333333,
             "#9c179e"
            ],
            [
             0.4444444444444444,
             "#bd3786"
            ],
            [
             0.5555555555555556,
             "#d8576b"
            ],
            [
             0.6666666666666666,
             "#ed7953"
            ],
            [
             0.7777777777777778,
             "#fb9f3a"
            ],
            [
             0.8888888888888888,
             "#fdca26"
            ],
            [
             1,
             "#f0f921"
            ]
           ]
          },
          "colorway": [
           "#636efa",
           "#EF553B",
           "#00cc96",
           "#ab63fa",
           "#FFA15A",
           "#19d3f3",
           "#FF6692",
           "#B6E880",
           "#FF97FF",
           "#FECB52"
          ],
          "font": {
           "color": "#2a3f5f"
          },
          "geo": {
           "bgcolor": "white",
           "lakecolor": "white",
           "landcolor": "#E5ECF6",
           "showlakes": true,
           "showland": true,
           "subunitcolor": "white"
          },
          "hoverlabel": {
           "align": "left"
          },
          "hovermode": "closest",
          "mapbox": {
           "style": "light"
          },
          "paper_bgcolor": "white",
          "plot_bgcolor": "#E5ECF6",
          "polar": {
           "angularaxis": {
            "gridcolor": "white",
            "linecolor": "white",
            "ticks": ""
           },
           "bgcolor": "#E5ECF6",
           "radialaxis": {
            "gridcolor": "white",
            "linecolor": "white",
            "ticks": ""
           }
          },
          "scene": {
           "xaxis": {
            "backgroundcolor": "#E5ECF6",
            "gridcolor": "white",
            "gridwidth": 2,
            "linecolor": "white",
            "showbackground": true,
            "ticks": "",
            "zerolinecolor": "white"
           },
           "yaxis": {
            "backgroundcolor": "#E5ECF6",
            "gridcolor": "white",
            "gridwidth": 2,
            "linecolor": "white",
            "showbackground": true,
            "ticks": "",
            "zerolinecolor": "white"
           },
           "zaxis": {
            "backgroundcolor": "#E5ECF6",
            "gridcolor": "white",
            "gridwidth": 2,
            "linecolor": "white",
            "showbackground": true,
            "ticks": "",
            "zerolinecolor": "white"
           }
          },
          "shapedefaults": {
           "line": {
            "color": "#2a3f5f"
           }
          },
          "ternary": {
           "aaxis": {
            "gridcolor": "white",
            "linecolor": "white",
            "ticks": ""
           },
           "baxis": {
            "gridcolor": "white",
            "linecolor": "white",
            "ticks": ""
           },
           "bgcolor": "#E5ECF6",
           "caxis": {
            "gridcolor": "white",
            "linecolor": "white",
            "ticks": ""
           }
          },
          "title": {
           "x": 0.05
          },
          "xaxis": {
           "automargin": true,
           "gridcolor": "white",
           "linecolor": "white",
           "ticks": "",
           "title": {
            "standoff": 15
           },
           "zerolinecolor": "white",
           "zerolinewidth": 2
          },
          "yaxis": {
           "automargin": true,
           "gridcolor": "white",
           "linecolor": "white",
           "ticks": "",
           "title": {
            "standoff": 15
           },
           "zerolinecolor": "white",
           "zerolinewidth": 2
          }
         }
        },
        "title": {
         "text": "2004 Military Expenditure as a Proportion of GDP"
        }
       }
      },
      "text/html": [
       "<div>                            <div id=\"3d5ee8d4-c0c8-486d-b81f-e6147ee3a4c9\" class=\"plotly-graph-div\" style=\"height:525px; width:100%;\"></div>            <script type=\"text/javascript\">                require([\"plotly\"], function(Plotly) {                    window.PLOTLYENV=window.PLOTLYENV || {};                                    if (document.getElementById(\"3d5ee8d4-c0c8-486d-b81f-e6147ee3a4c9\")) {                    Plotly.newPlot(                        \"3d5ee8d4-c0c8-486d-b81f-e6147ee3a4c9\",                        [{\"colorbar\": {\"title\": {\"text\": \"Proportion of GDP\"}}, \"locations\": [\"AFG\", \"AGO\", \"ARE\", \"ARM\", \"ARB\", \"ARG\", \"ALB\", \"AUS\", \"AUT\", \"AZE\", \"BEL\", \"BDI\", \"BEN\", \"BGD\", \"BFA\", \"BIH\", \"BGR\", \"BHR\", \"BLR\", \"BLZ\", \"BOL\", \"BRA\", \"BRN\", \"BWA\", \"CAF\", \"CAN\", \"CEB\", \"CHE\", \"CHN\", \"CHL\", \"CIV\", \"COG\", \"COD\", \"CMR\", \"COL\", \"CUB\", \"CPV\", \"CSS\", \"CRI\", \"DJI\", \"CZE\", \"CYP\", \"DEU\", \"DOM\", \"DNK\", \"DZA\", \"EAP\", \"EAR\", \"EAS\", \"ECS\", \"ECA\", \"EGY\", \"ECU\", \"EMU\", \"EST\", \"ESP\", \"ETH\", \"FCS\", \"EUU\", \"FIN\", \"FJI\", \"FRA\", \"GEO\", \"GAB\", \"GBR\", \"GHA\", \"GIN\", \"GMB\", \"GRC\", \"GTM\", \"GUY\", \"HIC\", \"HND\", \"HRV\", \"HPC\", \"HUN\", \"IBD\", \"IBT\", \"IDN\", \"IDA\", \"IDX\", \"IDB\", \"IND\", \"IRL\", \"IRQ\", \"ISL\", \"IRN\", \"ITA\", \"ISR\", \"JAM\", \"JOR\", \"JPN\", \"KAZ\", \"KEN\", \"KGZ\", \"KHM\", \"KOR\", \"LAO\", \"KWT\", \"LAC\", \"LBR\", \"LBN\", \"LBY\", \"LCN\", \"LDC\", \"LIC\", \"LKA\", \"LMY\", \"LSO\", \"LMC\", \"LTE\", \"LVA\", \"LUX\", \"LTU\", \"MAR\", \"MDA\", \"MDG\", \"MEX\", \"MEA\", \"MIC\", \"MKD\", \"MLI\", \"MMR\", \"MLT\", \"MNA\", \"MNG\", \"MOZ\", \"MUS\", \"MYS\", \"MWI\", \"NAM\", \"NAC\", \"NER\", \"NGA\", \"NIC\", \"NLD\", \"NPL\", \"NOR\", \"OMN\", \"OED\", \"NZL\", \"OSS\", \"PAK\", \"PAN\", \"PHL\", \"PER\", \"PNG\", \"POL\", \"PRE\", \"PRT\", \"PRY\", \"QAT\", \"ROU\", \"PST\", \"RWA\", \"RUS\", \"SAS\", \"SEN\", \"SDN\", \"SAU\", \"SGP\", \"SLV\", \"SLE\", \"SSA\", \"SRB\", \"SST\", \"SSF\", \"SVK\", \"SVN\", \"SWE\", \"SWZ\", \"SYC\", \"TEC\", \"SYR\", \"TCD\", \"THA\", \"TGO\", \"TJK\", \"TEA\", \"TLA\", \"TMN\", \"TSS\", \"TSA\", \"TTO\", \"TUR\", \"TUN\", \"TZA\", \"UKR\", \"UGA\", \"UMC\", \"USA\", \"URY\", \"VEN\", \"VNM\", \"WLD\", \"YEM\", \"ZAF\", \"ZMB\", \"ZWE\"], \"text\": [\"Afghanistan\", \"Angola\", \"United Arab Emirates\", \"Armenia\", \"Arab World\", \"Argentina\", \"Albania\", \"Australia\", \"Austria\", \"Azerbaijan\", \"Belgium\", \"Burundi\", \"Benin\", \"Bangladesh\", \"Burkina Faso\", \"Bosnia and Herzegovina\", \"Bulgaria\", \"Bahrain\", \"Belarus\", \"Belize\", \"Bolivia\", \"Brazil\", \"Brunei Darussalam\", \"Botswana\", \"Central African Republic\", \"Canada\", \"Central Europe and the Baltics\", \"Switzerland\", \"China\", \"Chile\", \"Cote d'Ivoire\", \"Congo, Rep.\", \"Congo, Dem. Rep.\", \"Cameroon\", \"Colombia\", \"Cuba\", \"Cabo Verde\", \"Caribbean small states\", \"Costa Rica\", \"Djibouti\", \"Czech Republic\", \"Cyprus\", \"Germany\", \"Dominican Republic\", \"Denmark\", \"Algeria\", \"East Asia & Pacific (excluding high income)\", \"Early-demographic dividend\", \"East Asia & Pacific\", \"Europe & Central Asia\", \"Europe & Central Asia (excluding high income)\", \"Egypt, Arab Rep.\", \"Ecuador\", \"Euro area\", \"Estonia\", \"Spain\", \"Ethiopia\", \"Fragile and conflict affected situations\", \"European Union\", \"Finland\", \"Fiji\", \"France\", \"Georgia\", \"Gabon\", \"United Kingdom\", \"Ghana\", \"Guinea\", \"Gambia, The\", \"Greece\", \"Guatemala\", \"Guyana\", \"High income\", \"Honduras\", \"Croatia\", \"Heavily indebted poor countries (HIPC)\", \"Hungary\", \"IBRD only\", \"IDA & IBRD total\", \"Indonesia\", \"IDA total\", \"IDA only\", \"IDA blend\", \"India\", \"Ireland\", \"Iraq\", \"Iceland\", \"Iran, Islamic Rep.\", \"Italy\", \"Israel\", \"Jamaica\", \"Jordan\", \"Japan\", \"Kazakhstan\", \"Kenya\", \"Kyrgyz Republic\", \"Cambodia\", \"Korea, Rep.\", \"Lao PDR\", \"Kuwait\", \"Latin America & Caribbean (excluding high income)\", \"Liberia\", \"Lebanon\", \"Libya\", \"Latin America & Caribbean\", \"Least developed countries: UN classification\", \"Low income\", \"Sri Lanka\", \"Low & middle income\", \"Lesotho\", \"Lower middle income\", \"Late-demographic dividend\", \"Latvia\", \"Luxembourg\", \"Lithuania\", \"Morocco\", \"Moldova\", \"Madagascar\", \"Mexico\", \"Middle East & North Africa\", \"Middle income\", \"North Macedonia\", \"Mali\", \"Myanmar\", \"Malta\", \"Middle East & North Africa (excluding high income)\", \"Mongolia\", \"Mozambique\", \"Mauritius\", \"Malaysia\", \"Malawi\", \"Namibia\", \"North America\", \"Niger\", \"Nigeria\", \"Nicaragua\", \"Netherlands\", \"Nepal\", \"Norway\", \"Oman\", \"OECD members\", \"New Zealand\", \"Other small states\", \"Pakistan\", \"Panama\", \"Philippines\", \"Peru\", \"Papua New Guinea\", \"Poland\", \"Pre-demographic dividend\", \"Portugal\", \"Paraguay\", \"Qatar\", \"Romania\", \"Post-demographic dividend\", \"Rwanda\", \"Russian Federation\", \"South Asia\", \"Senegal\", \"Sudan\", \"Saudi Arabia\", \"Singapore\", \"El Salvador\", \"Sierra Leone\", \"Sub-Saharan Africa (excluding high income)\", \"Serbia\", \"Small states\", \"Sub-Saharan Africa\", \"Slovak Republic\", \"Slovenia\", \"Sweden\", \"Eswatini\", \"Seychelles\", \"Europe & Central Asia (IDA & IBRD countries)\", \"Syrian Arab Republic\", \"Chad\", \"Thailand\", \"Togo\", \"Tajikistan\", \"East Asia & Pacific (IDA & IBRD countries)\", \"Latin America & the Caribbean (IDA & IBRD countries)\", \"Middle East & North Africa (IDA & IBRD countries)\", \"Sub-Saharan Africa (IDA & IBRD countries)\", \"South Asia (IDA & IBRD)\", \"Trinidad and Tobago\", \"Turkey\", \"Tunisia\", \"Tanzania\", \"Ukraine\", \"Uganda\", \"Upper middle income\", \"United States\", \"Uruguay\", \"Venezuela, RB\", \"Vietnam\", \"World\", \"Yemen, Rep.\", \"South Africa\", \"Zambia\", \"Zimbabwe\"], \"type\": \"choropleth\", \"z\": [0.023936646656474766, 0.03471177662367836, 0.046114738850202945, 0.027419915648681552, 0.05026557121549885, 0.008902147524684802, 0.014046880133068927, 0.019584339232390155, 0.008904102613119658, 0.026294918404412553, 0.011566446544384346, 0.04902706157378691, 0.006761496230890615, 0.01183625235637943, 0.012070053087871424, 0.018884147089578182, 0.02487769785171027, 0.04044931094469362, 0.013580592786176906, 0.00902282779283778, 0.019249163057567208, 0.014612084618396812, 0.02532681783845136, 0.03505889246699445, 0.011891839048940752, 0.011079481625033857, 0.017293174242472266, 0.008889250745698586, 0.020637110974968866, 0.027087090259353044, 0.015150712462875129, 0.02673873081772598, 0.013366159387483008, 0.012684801102623417, 0.03465018999959727, 0.0016241556697118027, 0.006980440785833746, 0.003745904678850602, 0.0, 0.05608363252313236, 0.0171370317333195, 0.01954178807517832, 0.013529750131120344, 0.006736937978525162, 0.014237139302701771, 0.03284186860340503, 0.029668745636894596, 0.03140036484184173, 0.017463282792427308, 0.018304747262308553, 0.030482119575681286, 0.030055653711495177, 0.01940332798776202, 0.016664441965561282, 0.01687759149335525, 0.014302833350483855, 0.030701115375072627, 0.07120853443871974, 0.021405773034932057, 0.014676251685392829, 0.017158088916583644, 0.025053626306848324, 0.013739458583380406, 0.01613165558915944, 0.02233009178374535, 0.006345175605358183, 0.022097887846405435, 0.0020078961278412093, 0.026057857676474273, 0.004794159278023732, 0.028093215006977243, 0.024235942601468843, 0.006903873061893073, 0.01757128989754437, 0.0176520056142126, 0.014742323681273166, 0.019938502157327228, 0.02327153464117962, 0.009457161446174202, 0.06415321938615919, 0.10581959118546932, 0.018486414820593013, 0.028539249683932365, 0.005683482282229924, 0.016755665492028258, 0.0, 0.027591698505985196, 0.016781623829156662, 0.08213224247149753, 0.005372204668331894, 0.05070610691797067, 0.009416076384414582, 0.009882397410560273, 0.016141807977385476, 0.016838243621653672, 0.01296758355188902, 0.022479104820950876, 0.004858424887766902, 0.05804460886157209, 0.010573695957439193, 0.0035473801560758082, 0.045111922982507234, 0.020683136768852035, 0.010752681961978004, 0.12181475701014517, 0.023034834081138576, 0.02997239999404825, 0.023516264357437824, 0.020769053599477665, 0.04085427949777675, 0.021934440670942943, 0.01597690052317979, 0.00676587273332816, 0.011957732006646623, 0.032494602469248735, 0.0036093553568422175, 0.010755100631641168, 0.004000060063439357, 0.05007797954251518, 0.023501380322362028, 0.023801333236754683, 0.014219983053092423, 2.8251077728303677, 0.006704815768063614, 0.030000583422833016, 0.01392980041995811, 0.01022930761769827, 0.0016621675650132525, 0.02263061968619203, 0.0063190855677565435, 0.02576941267780021, 0.03594783166224188, 0.008447512283228169, 0.004692491632787026, 0.005629830244055732, 0.014268898475889415, 0.01796142918006466, 0.01847699598190128, 0.09007939843004334, 0.02340314609168031, 0.012368611621694583, 0.01876350316757666, 0.03830927616903237, 0.0, 0.013086265748842502, 0.013809554869274572, 0.006218677798882545, 0.018732205206880542, 0.014022095691784158, 0.01967594021445276, 0.008776300638836174, 0.024338596856915324, 0.02040988967386181, 0.023724549385695806, 0.019730259173170655, 0.03545655122643482, 0.02836416195935133, 0.010578244699055899, 0.057824474985826727, 0.0808155970989908, 0.04384208801171733, 0.00932617585281266, 0.015851540479185515, 0.01450260958801851, 0.028275300930405377, 0.015288964570118857, 0.0143609338189734, 0.012406513641059085, 0.01432971032665658, 0.014319532565020793, 0.015413094137017374, 0.01897640245687223, 0.026896569182281307, 0.0553493370707007, 0.011447726271824622, 0.010798052190254455, 0.014060475639121465, 0.02172742511330246, 0.029728722573382427, 0.01141761143892501, 0.030219581968013432, 0.014360933818973376, 0.02836416195935133, 0.005714426077541565, 0.026979080126952416, 0.014259353825829223, 0.007649811550574805, 0.025995709364111788, 0.024686007259044036, 0.018859887048304862, 0.03807191025799157, 0.02040736806305123, 0.012882813775699794, 0.02014379839811942, 0.024163873623569743, 0.053016375218666166, 0.013557306765479425, 0.015809062220638225, 0.04411259311357121]}],                        {\"geo\": {\"projection\": {\"type\": \"equirectangular\"}, \"showframe\": false}, \"template\": {\"data\": {\"bar\": [{\"error_x\": {\"color\": \"#2a3f5f\"}, \"error_y\": {\"color\": \"#2a3f5f\"}, \"marker\": {\"line\": {\"color\": \"#E5ECF6\", \"width\": 0.5}}, \"type\": \"bar\"}], \"barpolar\": [{\"marker\": {\"line\": {\"color\": \"#E5ECF6\", \"width\": 0.5}}, \"type\": \"barpolar\"}], \"carpet\": [{\"aaxis\": {\"endlinecolor\": \"#2a3f5f\", \"gridcolor\": \"white\", \"linecolor\": \"white\", \"minorgridcolor\": \"white\", \"startlinecolor\": \"#2a3f5f\"}, \"baxis\": {\"endlinecolor\": \"#2a3f5f\", \"gridcolor\": \"white\", \"linecolor\": \"white\", \"minorgridcolor\": \"white\", \"startlinecolor\": \"#2a3f5f\"}, \"type\": \"carpet\"}], \"choropleth\": [{\"colorbar\": {\"outlinewidth\": 0, \"ticks\": \"\"}, \"type\": \"choropleth\"}], \"contour\": [{\"colorbar\": {\"outlinewidth\": 0, \"ticks\": \"\"}, \"colorscale\": [[0.0, \"#0d0887\"], [0.1111111111111111, \"#46039f\"], [0.2222222222222222, \"#7201a8\"], [0.3333333333333333, \"#9c179e\"], [0.4444444444444444, \"#bd3786\"], [0.5555555555555556, \"#d8576b\"], [0.6666666666666666, \"#ed7953\"], [0.7777777777777778, \"#fb9f3a\"], [0.8888888888888888, \"#fdca26\"], [1.0, \"#f0f921\"]], \"type\": \"contour\"}], \"contourcarpet\": [{\"colorbar\": {\"outlinewidth\": 0, \"ticks\": \"\"}, \"type\": \"contourcarpet\"}], \"heatmap\": [{\"colorbar\": {\"outlinewidth\": 0, \"ticks\": \"\"}, \"colorscale\": [[0.0, \"#0d0887\"], [0.1111111111111111, \"#46039f\"], [0.2222222222222222, \"#7201a8\"], [0.3333333333333333, \"#9c179e\"], [0.4444444444444444, \"#bd3786\"], [0.5555555555555556, \"#d8576b\"], [0.6666666666666666, \"#ed7953\"], [0.7777777777777778, \"#fb9f3a\"], [0.8888888888888888, \"#fdca26\"], [1.0, \"#f0f921\"]], \"type\": \"heatmap\"}], \"heatmapgl\": [{\"colorbar\": {\"outlinewidth\": 0, \"ticks\": \"\"}, \"colorscale\": [[0.0, \"#0d0887\"], [0.1111111111111111, \"#46039f\"], [0.2222222222222222, \"#7201a8\"], [0.3333333333333333, \"#9c179e\"], [0.4444444444444444, \"#bd3786\"], [0.5555555555555556, \"#d8576b\"], [0.6666666666666666, \"#ed7953\"], [0.7777777777777778, \"#fb9f3a\"], [0.8888888888888888, \"#fdca26\"], [1.0, \"#f0f921\"]], \"type\": \"heatmapgl\"}], \"histogram\": [{\"marker\": {\"colorbar\": {\"outlinewidth\": 0, \"ticks\": \"\"}}, \"type\": \"histogram\"}], \"histogram2d\": [{\"colorbar\": {\"outlinewidth\": 0, \"ticks\": \"\"}, \"colorscale\": [[0.0, \"#0d0887\"], [0.1111111111111111, \"#46039f\"], [0.2222222222222222, \"#7201a8\"], [0.3333333333333333, \"#9c179e\"], [0.4444444444444444, \"#bd3786\"], [0.5555555555555556, \"#d8576b\"], [0.6666666666666666, \"#ed7953\"], [0.7777777777777778, \"#fb9f3a\"], [0.8888888888888888, \"#fdca26\"], [1.0, \"#f0f921\"]], \"type\": \"histogram2d\"}], \"histogram2dcontour\": [{\"colorbar\": {\"outlinewidth\": 0, \"ticks\": \"\"}, \"colorscale\": [[0.0, \"#0d0887\"], [0.1111111111111111, \"#46039f\"], [0.2222222222222222, \"#7201a8\"], [0.3333333333333333, \"#9c179e\"], [0.4444444444444444, \"#bd3786\"], [0.5555555555555556, \"#d8576b\"], [0.6666666666666666, \"#ed7953\"], [0.7777777777777778, \"#fb9f3a\"], [0.8888888888888888, \"#fdca26\"], [1.0, \"#f0f921\"]], \"type\": \"histogram2dcontour\"}], \"mesh3d\": [{\"colorbar\": {\"outlinewidth\": 0, \"ticks\": \"\"}, \"type\": \"mesh3d\"}], \"parcoords\": [{\"line\": {\"colorbar\": {\"outlinewidth\": 0, \"ticks\": \"\"}}, \"type\": \"parcoords\"}], \"pie\": [{\"automargin\": true, \"type\": \"pie\"}], \"scatter\": [{\"marker\": {\"colorbar\": {\"outlinewidth\": 0, \"ticks\": \"\"}}, \"type\": \"scatter\"}], \"scatter3d\": [{\"line\": {\"colorbar\": {\"outlinewidth\": 0, \"ticks\": \"\"}}, \"marker\": {\"colorbar\": {\"outlinewidth\": 0, \"ticks\": \"\"}}, \"type\": \"scatter3d\"}], \"scattercarpet\": [{\"marker\": {\"colorbar\": {\"outlinewidth\": 0, \"ticks\": \"\"}}, \"type\": \"scattercarpet\"}], \"scattergeo\": [{\"marker\": {\"colorbar\": {\"outlinewidth\": 0, \"ticks\": \"\"}}, \"type\": \"scattergeo\"}], \"scattergl\": [{\"marker\": {\"colorbar\": {\"outlinewidth\": 0, \"ticks\": \"\"}}, \"type\": \"scattergl\"}], \"scattermapbox\": [{\"marker\": {\"colorbar\": {\"outlinewidth\": 0, \"ticks\": \"\"}}, \"type\": \"scattermapbox\"}], \"scatterpolar\": [{\"marker\": {\"colorbar\": {\"outlinewidth\": 0, \"ticks\": \"\"}}, \"type\": \"scatterpolar\"}], \"scatterpolargl\": [{\"marker\": {\"colorbar\": {\"outlinewidth\": 0, \"ticks\": \"\"}}, \"type\": \"scatterpolargl\"}], \"scatterternary\": [{\"marker\": {\"colorbar\": {\"outlinewidth\": 0, \"ticks\": \"\"}}, \"type\": \"scatterternary\"}], \"surface\": [{\"colorbar\": {\"outlinewidth\": 0, \"ticks\": \"\"}, \"colorscale\": [[0.0, \"#0d0887\"], [0.1111111111111111, \"#46039f\"], [0.2222222222222222, \"#7201a8\"], [0.3333333333333333, \"#9c179e\"], [0.4444444444444444, \"#bd3786\"], [0.5555555555555556, \"#d8576b\"], [0.6666666666666666, \"#ed7953\"], [0.7777777777777778, \"#fb9f3a\"], [0.8888888888888888, \"#fdca26\"], [1.0, \"#f0f921\"]], \"type\": \"surface\"}], \"table\": [{\"cells\": {\"fill\": {\"color\": \"#EBF0F8\"}, \"line\": {\"color\": \"white\"}}, \"header\": {\"fill\": {\"color\": \"#C8D4E3\"}, \"line\": {\"color\": \"white\"}}, \"type\": \"table\"}]}, \"layout\": {\"annotationdefaults\": {\"arrowcolor\": \"#2a3f5f\", \"arrowhead\": 0, \"arrowwidth\": 1}, \"coloraxis\": {\"colorbar\": {\"outlinewidth\": 0, \"ticks\": \"\"}}, \"colorscale\": {\"diverging\": [[0, \"#8e0152\"], [0.1, \"#c51b7d\"], [0.2, \"#de77ae\"], [0.3, \"#f1b6da\"], [0.4, \"#fde0ef\"], [0.5, \"#f7f7f7\"], [0.6, \"#e6f5d0\"], [0.7, \"#b8e186\"], [0.8, \"#7fbc41\"], [0.9, \"#4d9221\"], [1, \"#276419\"]], \"sequential\": [[0.0, \"#0d0887\"], [0.1111111111111111, \"#46039f\"], [0.2222222222222222, \"#7201a8\"], [0.3333333333333333, \"#9c179e\"], [0.4444444444444444, \"#bd3786\"], [0.5555555555555556, \"#d8576b\"], [0.6666666666666666, \"#ed7953\"], [0.7777777777777778, \"#fb9f3a\"], [0.8888888888888888, \"#fdca26\"], [1.0, \"#f0f921\"]], \"sequentialminus\": [[0.0, \"#0d0887\"], [0.1111111111111111, \"#46039f\"], [0.2222222222222222, \"#7201a8\"], [0.3333333333333333, \"#9c179e\"], [0.4444444444444444, \"#bd3786\"], [0.5555555555555556, \"#d8576b\"], [0.6666666666666666, \"#ed7953\"], [0.7777777777777778, \"#fb9f3a\"], [0.8888888888888888, \"#fdca26\"], [1.0, \"#f0f921\"]]}, \"colorway\": [\"#636efa\", \"#EF553B\", \"#00cc96\", \"#ab63fa\", \"#FFA15A\", \"#19d3f3\", \"#FF6692\", \"#B6E880\", \"#FF97FF\", \"#FECB52\"], \"font\": {\"color\": \"#2a3f5f\"}, \"geo\": {\"bgcolor\": \"white\", \"lakecolor\": \"white\", \"landcolor\": \"#E5ECF6\", \"showlakes\": true, \"showland\": true, \"subunitcolor\": \"white\"}, \"hoverlabel\": {\"align\": \"left\"}, \"hovermode\": \"closest\", \"mapbox\": {\"style\": \"light\"}, \"paper_bgcolor\": \"white\", \"plot_bgcolor\": \"#E5ECF6\", \"polar\": {\"angularaxis\": {\"gridcolor\": \"white\", \"linecolor\": \"white\", \"ticks\": \"\"}, \"bgcolor\": \"#E5ECF6\", \"radialaxis\": {\"gridcolor\": \"white\", \"linecolor\": \"white\", \"ticks\": \"\"}}, \"scene\": {\"xaxis\": {\"backgroundcolor\": \"#E5ECF6\", \"gridcolor\": \"white\", \"gridwidth\": 2, \"linecolor\": \"white\", \"showbackground\": true, \"ticks\": \"\", \"zerolinecolor\": \"white\"}, \"yaxis\": {\"backgroundcolor\": \"#E5ECF6\", \"gridcolor\": \"white\", \"gridwidth\": 2, \"linecolor\": \"white\", \"showbackground\": true, \"ticks\": \"\", \"zerolinecolor\": \"white\"}, \"zaxis\": {\"backgroundcolor\": \"#E5ECF6\", \"gridcolor\": \"white\", \"gridwidth\": 2, \"linecolor\": \"white\", \"showbackground\": true, \"ticks\": \"\", \"zerolinecolor\": \"white\"}}, \"shapedefaults\": {\"line\": {\"color\": \"#2a3f5f\"}}, \"ternary\": {\"aaxis\": {\"gridcolor\": \"white\", \"linecolor\": \"white\", \"ticks\": \"\"}, \"baxis\": {\"gridcolor\": \"white\", \"linecolor\": \"white\", \"ticks\": \"\"}, \"bgcolor\": \"#E5ECF6\", \"caxis\": {\"gridcolor\": \"white\", \"linecolor\": \"white\", \"ticks\": \"\"}}, \"title\": {\"x\": 0.05}, \"xaxis\": {\"automargin\": true, \"gridcolor\": \"white\", \"linecolor\": \"white\", \"ticks\": \"\", \"title\": {\"standoff\": 15}, \"zerolinecolor\": \"white\", \"zerolinewidth\": 2}, \"yaxis\": {\"automargin\": true, \"gridcolor\": \"white\", \"linecolor\": \"white\", \"ticks\": \"\", \"title\": {\"standoff\": 15}, \"zerolinecolor\": \"white\", \"zerolinewidth\": 2}}}, \"title\": {\"text\": \"2004 Military Expenditure as a Proportion of GDP\"}},                        {\"responsive\": true}                    ).then(function(){\n",
       "                            \n",
       "var gd = document.getElementById('3d5ee8d4-c0c8-486d-b81f-e6147ee3a4c9');\n",
       "var x = new MutationObserver(function (mutations, observer) {{\n",
       "        var display = window.getComputedStyle(gd).display;\n",
       "        if (!display || display === 'none') {{\n",
       "            console.log([gd, 'removed!']);\n",
       "            Plotly.purge(gd);\n",
       "            observer.disconnect();\n",
       "        }}\n",
       "}});\n",
       "\n",
       "// Listen for the removal of the full notebook cells\n",
       "var notebookContainer = gd.closest('#notebook-container');\n",
       "if (notebookContainer) {{\n",
       "    x.observe(notebookContainer, {childList: true});\n",
       "}}\n",
       "\n",
       "// Listen for the clearing of the current output cell\n",
       "var outputEl = gd.closest('.output');\n",
       "if (outputEl) {{\n",
       "    x.observe(outputEl, {childList: true});\n",
       "}}\n",
       "\n",
       "                        })                };                });            </script>        </div>"
      ]
     },
     "metadata": {},
     "output_type": "display_data"
    }
   ],
   "source": [
    "iplot(choromap3)"
   ]
  }
 ],
 "metadata": {
  "kernelspec": {
   "display_name": "Python 3",
   "language": "python",
   "name": "python3"
  },
  "language_info": {
   "codemirror_mode": {
    "name": "ipython",
    "version": 3
   },
   "file_extension": ".py",
   "mimetype": "text/x-python",
   "name": "python",
   "nbconvert_exporter": "python",
   "pygments_lexer": "ipython3",
   "version": "3.8.3"
  }
 },
 "nbformat": 4,
 "nbformat_minor": 4
}
